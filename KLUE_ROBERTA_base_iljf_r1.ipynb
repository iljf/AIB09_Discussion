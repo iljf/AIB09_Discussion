{
  "nbformat": 4,
  "nbformat_minor": 0,
  "metadata": {
    "colab": {
      "name": "KLUE/ROBERTA-base_iljf.ipynb",
      "provenance": [],
      "collapsed_sections": [],
      "machine_shape": "hm",
      "mount_file_id": "1aKCNBlxXV1zg9OgyMz9EVsg_qtqAJ52A",
      "authorship_tag": "ABX9TyPzK6ys01ZNtoz2xJoAJOBE",
      "include_colab_link": true
    },
    "kernelspec": {
      "name": "python3",
      "display_name": "Python 3"
    },
    "language_info": {
      "name": "python"
    },
    "accelerator": "GPU",
    "widgets": {
      "application/vnd.jupyter.widget-state+json": {
        "4a4ebfc65c3b487f8a22277eb7b54437": {
          "model_module": "@jupyter-widgets/controls",
          "model_name": "HBoxModel",
          "model_module_version": "1.5.0",
          "state": {
            "_dom_classes": [],
            "_model_module": "@jupyter-widgets/controls",
            "_model_module_version": "1.5.0",
            "_model_name": "HBoxModel",
            "_view_count": null,
            "_view_module": "@jupyter-widgets/controls",
            "_view_module_version": "1.5.0",
            "_view_name": "HBoxView",
            "box_style": "",
            "children": [
              "IPY_MODEL_6a8261a457b843668cf46ffa343cbf88",
              "IPY_MODEL_2fb5b7b175f74d9a8974b006c7354524",
              "IPY_MODEL_7d0c3c2181544d0a92d3f7db57fa35c0"
            ],
            "layout": "IPY_MODEL_33f38eb79ccb44bbb0f1548476cadcd2"
          }
        },
        "6a8261a457b843668cf46ffa343cbf88": {
          "model_module": "@jupyter-widgets/controls",
          "model_name": "HTMLModel",
          "model_module_version": "1.5.0",
          "state": {
            "_dom_classes": [],
            "_model_module": "@jupyter-widgets/controls",
            "_model_module_version": "1.5.0",
            "_model_name": "HTMLModel",
            "_view_count": null,
            "_view_module": "@jupyter-widgets/controls",
            "_view_module_version": "1.5.0",
            "_view_name": "HTMLView",
            "description": "",
            "description_tooltip": null,
            "layout": "IPY_MODEL_76d5ae540fce41a7acf43a1e10e8c094",
            "placeholder": "​",
            "style": "IPY_MODEL_3a4cbae5607546efbdce585042d80446",
            "value": "100%"
          }
        },
        "2fb5b7b175f74d9a8974b006c7354524": {
          "model_module": "@jupyter-widgets/controls",
          "model_name": "FloatProgressModel",
          "model_module_version": "1.5.0",
          "state": {
            "_dom_classes": [],
            "_model_module": "@jupyter-widgets/controls",
            "_model_module_version": "1.5.0",
            "_model_name": "FloatProgressModel",
            "_view_count": null,
            "_view_module": "@jupyter-widgets/controls",
            "_view_module_version": "1.5.0",
            "_view_name": "ProgressView",
            "bar_style": "success",
            "description": "",
            "description_tooltip": null,
            "layout": "IPY_MODEL_fe21db46899c46b8b2c9b944e8333425",
            "max": 2,
            "min": 0,
            "orientation": "horizontal",
            "style": "IPY_MODEL_f1fd3d3af5c347cfbaa01fe20ea2e9c7",
            "value": 2
          }
        },
        "7d0c3c2181544d0a92d3f7db57fa35c0": {
          "model_module": "@jupyter-widgets/controls",
          "model_name": "HTMLModel",
          "model_module_version": "1.5.0",
          "state": {
            "_dom_classes": [],
            "_model_module": "@jupyter-widgets/controls",
            "_model_module_version": "1.5.0",
            "_model_name": "HTMLModel",
            "_view_count": null,
            "_view_module": "@jupyter-widgets/controls",
            "_view_module_version": "1.5.0",
            "_view_name": "HTMLView",
            "description": "",
            "description_tooltip": null,
            "layout": "IPY_MODEL_e58403ca8d0446e493d0b34ed324b03c",
            "placeholder": "​",
            "style": "IPY_MODEL_92d263b783434646a0f8243eb679dacf",
            "value": " 2/2 [00:00&lt;00:00, 49.38it/s]"
          }
        },
        "33f38eb79ccb44bbb0f1548476cadcd2": {
          "model_module": "@jupyter-widgets/base",
          "model_name": "LayoutModel",
          "model_module_version": "1.2.0",
          "state": {
            "_model_module": "@jupyter-widgets/base",
            "_model_module_version": "1.2.0",
            "_model_name": "LayoutModel",
            "_view_count": null,
            "_view_module": "@jupyter-widgets/base",
            "_view_module_version": "1.2.0",
            "_view_name": "LayoutView",
            "align_content": null,
            "align_items": null,
            "align_self": null,
            "border": null,
            "bottom": null,
            "display": null,
            "flex": null,
            "flex_flow": null,
            "grid_area": null,
            "grid_auto_columns": null,
            "grid_auto_flow": null,
            "grid_auto_rows": null,
            "grid_column": null,
            "grid_gap": null,
            "grid_row": null,
            "grid_template_areas": null,
            "grid_template_columns": null,
            "grid_template_rows": null,
            "height": null,
            "justify_content": null,
            "justify_items": null,
            "left": null,
            "margin": null,
            "max_height": null,
            "max_width": null,
            "min_height": null,
            "min_width": null,
            "object_fit": null,
            "object_position": null,
            "order": null,
            "overflow": null,
            "overflow_x": null,
            "overflow_y": null,
            "padding": null,
            "right": null,
            "top": null,
            "visibility": null,
            "width": null
          }
        },
        "76d5ae540fce41a7acf43a1e10e8c094": {
          "model_module": "@jupyter-widgets/base",
          "model_name": "LayoutModel",
          "model_module_version": "1.2.0",
          "state": {
            "_model_module": "@jupyter-widgets/base",
            "_model_module_version": "1.2.0",
            "_model_name": "LayoutModel",
            "_view_count": null,
            "_view_module": "@jupyter-widgets/base",
            "_view_module_version": "1.2.0",
            "_view_name": "LayoutView",
            "align_content": null,
            "align_items": null,
            "align_self": null,
            "border": null,
            "bottom": null,
            "display": null,
            "flex": null,
            "flex_flow": null,
            "grid_area": null,
            "grid_auto_columns": null,
            "grid_auto_flow": null,
            "grid_auto_rows": null,
            "grid_column": null,
            "grid_gap": null,
            "grid_row": null,
            "grid_template_areas": null,
            "grid_template_columns": null,
            "grid_template_rows": null,
            "height": null,
            "justify_content": null,
            "justify_items": null,
            "left": null,
            "margin": null,
            "max_height": null,
            "max_width": null,
            "min_height": null,
            "min_width": null,
            "object_fit": null,
            "object_position": null,
            "order": null,
            "overflow": null,
            "overflow_x": null,
            "overflow_y": null,
            "padding": null,
            "right": null,
            "top": null,
            "visibility": null,
            "width": null
          }
        },
        "3a4cbae5607546efbdce585042d80446": {
          "model_module": "@jupyter-widgets/controls",
          "model_name": "DescriptionStyleModel",
          "model_module_version": "1.5.0",
          "state": {
            "_model_module": "@jupyter-widgets/controls",
            "_model_module_version": "1.5.0",
            "_model_name": "DescriptionStyleModel",
            "_view_count": null,
            "_view_module": "@jupyter-widgets/base",
            "_view_module_version": "1.2.0",
            "_view_name": "StyleView",
            "description_width": ""
          }
        },
        "fe21db46899c46b8b2c9b944e8333425": {
          "model_module": "@jupyter-widgets/base",
          "model_name": "LayoutModel",
          "model_module_version": "1.2.0",
          "state": {
            "_model_module": "@jupyter-widgets/base",
            "_model_module_version": "1.2.0",
            "_model_name": "LayoutModel",
            "_view_count": null,
            "_view_module": "@jupyter-widgets/base",
            "_view_module_version": "1.2.0",
            "_view_name": "LayoutView",
            "align_content": null,
            "align_items": null,
            "align_self": null,
            "border": null,
            "bottom": null,
            "display": null,
            "flex": null,
            "flex_flow": null,
            "grid_area": null,
            "grid_auto_columns": null,
            "grid_auto_flow": null,
            "grid_auto_rows": null,
            "grid_column": null,
            "grid_gap": null,
            "grid_row": null,
            "grid_template_areas": null,
            "grid_template_columns": null,
            "grid_template_rows": null,
            "height": null,
            "justify_content": null,
            "justify_items": null,
            "left": null,
            "margin": null,
            "max_height": null,
            "max_width": null,
            "min_height": null,
            "min_width": null,
            "object_fit": null,
            "object_position": null,
            "order": null,
            "overflow": null,
            "overflow_x": null,
            "overflow_y": null,
            "padding": null,
            "right": null,
            "top": null,
            "visibility": null,
            "width": null
          }
        },
        "f1fd3d3af5c347cfbaa01fe20ea2e9c7": {
          "model_module": "@jupyter-widgets/controls",
          "model_name": "ProgressStyleModel",
          "model_module_version": "1.5.0",
          "state": {
            "_model_module": "@jupyter-widgets/controls",
            "_model_module_version": "1.5.0",
            "_model_name": "ProgressStyleModel",
            "_view_count": null,
            "_view_module": "@jupyter-widgets/base",
            "_view_module_version": "1.2.0",
            "_view_name": "StyleView",
            "bar_color": null,
            "description_width": ""
          }
        },
        "e58403ca8d0446e493d0b34ed324b03c": {
          "model_module": "@jupyter-widgets/base",
          "model_name": "LayoutModel",
          "model_module_version": "1.2.0",
          "state": {
            "_model_module": "@jupyter-widgets/base",
            "_model_module_version": "1.2.0",
            "_model_name": "LayoutModel",
            "_view_count": null,
            "_view_module": "@jupyter-widgets/base",
            "_view_module_version": "1.2.0",
            "_view_name": "LayoutView",
            "align_content": null,
            "align_items": null,
            "align_self": null,
            "border": null,
            "bottom": null,
            "display": null,
            "flex": null,
            "flex_flow": null,
            "grid_area": null,
            "grid_auto_columns": null,
            "grid_auto_flow": null,
            "grid_auto_rows": null,
            "grid_column": null,
            "grid_gap": null,
            "grid_row": null,
            "grid_template_areas": null,
            "grid_template_columns": null,
            "grid_template_rows": null,
            "height": null,
            "justify_content": null,
            "justify_items": null,
            "left": null,
            "margin": null,
            "max_height": null,
            "max_width": null,
            "min_height": null,
            "min_width": null,
            "object_fit": null,
            "object_position": null,
            "order": null,
            "overflow": null,
            "overflow_x": null,
            "overflow_y": null,
            "padding": null,
            "right": null,
            "top": null,
            "visibility": null,
            "width": null
          }
        },
        "92d263b783434646a0f8243eb679dacf": {
          "model_module": "@jupyter-widgets/controls",
          "model_name": "DescriptionStyleModel",
          "model_module_version": "1.5.0",
          "state": {
            "_model_module": "@jupyter-widgets/controls",
            "_model_module_version": "1.5.0",
            "_model_name": "DescriptionStyleModel",
            "_view_count": null,
            "_view_module": "@jupyter-widgets/base",
            "_view_module_version": "1.2.0",
            "_view_name": "StyleView",
            "description_width": ""
          }
        },
        "ed1a3413c00245479caa7a0400a87bbb": {
          "model_module": "@jupyter-widgets/controls",
          "model_name": "VBoxModel",
          "model_module_version": "1.5.0",
          "state": {
            "_dom_classes": [],
            "_model_module": "@jupyter-widgets/controls",
            "_model_module_version": "1.5.0",
            "_model_name": "VBoxModel",
            "_view_count": null,
            "_view_module": "@jupyter-widgets/controls",
            "_view_module_version": "1.5.0",
            "_view_name": "VBoxView",
            "box_style": "",
            "children": [
              "IPY_MODEL_4944c2a9f5864101bcba341c85167090",
              "IPY_MODEL_57ceb45bfd8c41f8b1dfd54e0c0b3f88"
            ],
            "layout": "IPY_MODEL_fb5e67fd365a47d087930085eb95b1b1"
          }
        },
        "4944c2a9f5864101bcba341c85167090": {
          "model_module": "@jupyter-widgets/controls",
          "model_name": "LabelModel",
          "model_module_version": "1.5.0",
          "state": {
            "_dom_classes": [],
            "_model_module": "@jupyter-widgets/controls",
            "_model_module_version": "1.5.0",
            "_model_name": "LabelModel",
            "_view_count": null,
            "_view_module": "@jupyter-widgets/controls",
            "_view_module_version": "1.5.0",
            "_view_name": "LabelView",
            "description": "",
            "description_tooltip": null,
            "layout": "IPY_MODEL_85e8ab51a43a443c84d374a2504498d1",
            "placeholder": "​",
            "style": "IPY_MODEL_a5d34402bea34dad8e7d2ac7a98ba3fe",
            "value": "2.978 MB of 2.978 MB uploaded (0.000 MB deduped)\r"
          }
        },
        "57ceb45bfd8c41f8b1dfd54e0c0b3f88": {
          "model_module": "@jupyter-widgets/controls",
          "model_name": "FloatProgressModel",
          "model_module_version": "1.5.0",
          "state": {
            "_dom_classes": [],
            "_model_module": "@jupyter-widgets/controls",
            "_model_module_version": "1.5.0",
            "_model_name": "FloatProgressModel",
            "_view_count": null,
            "_view_module": "@jupyter-widgets/controls",
            "_view_module_version": "1.5.0",
            "_view_name": "ProgressView",
            "bar_style": "",
            "description": "",
            "description_tooltip": null,
            "layout": "IPY_MODEL_1859f3f9924747fba1785587dc8e4a2f",
            "max": 1,
            "min": 0,
            "orientation": "horizontal",
            "style": "IPY_MODEL_2098c15b863f476e8e69d196734fda3a",
            "value": 1
          }
        },
        "fb5e67fd365a47d087930085eb95b1b1": {
          "model_module": "@jupyter-widgets/base",
          "model_name": "LayoutModel",
          "model_module_version": "1.2.0",
          "state": {
            "_model_module": "@jupyter-widgets/base",
            "_model_module_version": "1.2.0",
            "_model_name": "LayoutModel",
            "_view_count": null,
            "_view_module": "@jupyter-widgets/base",
            "_view_module_version": "1.2.0",
            "_view_name": "LayoutView",
            "align_content": null,
            "align_items": null,
            "align_self": null,
            "border": null,
            "bottom": null,
            "display": null,
            "flex": null,
            "flex_flow": null,
            "grid_area": null,
            "grid_auto_columns": null,
            "grid_auto_flow": null,
            "grid_auto_rows": null,
            "grid_column": null,
            "grid_gap": null,
            "grid_row": null,
            "grid_template_areas": null,
            "grid_template_columns": null,
            "grid_template_rows": null,
            "height": null,
            "justify_content": null,
            "justify_items": null,
            "left": null,
            "margin": null,
            "max_height": null,
            "max_width": null,
            "min_height": null,
            "min_width": null,
            "object_fit": null,
            "object_position": null,
            "order": null,
            "overflow": null,
            "overflow_x": null,
            "overflow_y": null,
            "padding": null,
            "right": null,
            "top": null,
            "visibility": null,
            "width": null
          }
        },
        "85e8ab51a43a443c84d374a2504498d1": {
          "model_module": "@jupyter-widgets/base",
          "model_name": "LayoutModel",
          "model_module_version": "1.2.0",
          "state": {
            "_model_module": "@jupyter-widgets/base",
            "_model_module_version": "1.2.0",
            "_model_name": "LayoutModel",
            "_view_count": null,
            "_view_module": "@jupyter-widgets/base",
            "_view_module_version": "1.2.0",
            "_view_name": "LayoutView",
            "align_content": null,
            "align_items": null,
            "align_self": null,
            "border": null,
            "bottom": null,
            "display": null,
            "flex": null,
            "flex_flow": null,
            "grid_area": null,
            "grid_auto_columns": null,
            "grid_auto_flow": null,
            "grid_auto_rows": null,
            "grid_column": null,
            "grid_gap": null,
            "grid_row": null,
            "grid_template_areas": null,
            "grid_template_columns": null,
            "grid_template_rows": null,
            "height": null,
            "justify_content": null,
            "justify_items": null,
            "left": null,
            "margin": null,
            "max_height": null,
            "max_width": null,
            "min_height": null,
            "min_width": null,
            "object_fit": null,
            "object_position": null,
            "order": null,
            "overflow": null,
            "overflow_x": null,
            "overflow_y": null,
            "padding": null,
            "right": null,
            "top": null,
            "visibility": null,
            "width": null
          }
        },
        "a5d34402bea34dad8e7d2ac7a98ba3fe": {
          "model_module": "@jupyter-widgets/controls",
          "model_name": "DescriptionStyleModel",
          "model_module_version": "1.5.0",
          "state": {
            "_model_module": "@jupyter-widgets/controls",
            "_model_module_version": "1.5.0",
            "_model_name": "DescriptionStyleModel",
            "_view_count": null,
            "_view_module": "@jupyter-widgets/base",
            "_view_module_version": "1.2.0",
            "_view_name": "StyleView",
            "description_width": ""
          }
        },
        "1859f3f9924747fba1785587dc8e4a2f": {
          "model_module": "@jupyter-widgets/base",
          "model_name": "LayoutModel",
          "model_module_version": "1.2.0",
          "state": {
            "_model_module": "@jupyter-widgets/base",
            "_model_module_version": "1.2.0",
            "_model_name": "LayoutModel",
            "_view_count": null,
            "_view_module": "@jupyter-widgets/base",
            "_view_module_version": "1.2.0",
            "_view_name": "LayoutView",
            "align_content": null,
            "align_items": null,
            "align_self": null,
            "border": null,
            "bottom": null,
            "display": null,
            "flex": null,
            "flex_flow": null,
            "grid_area": null,
            "grid_auto_columns": null,
            "grid_auto_flow": null,
            "grid_auto_rows": null,
            "grid_column": null,
            "grid_gap": null,
            "grid_row": null,
            "grid_template_areas": null,
            "grid_template_columns": null,
            "grid_template_rows": null,
            "height": null,
            "justify_content": null,
            "justify_items": null,
            "left": null,
            "margin": null,
            "max_height": null,
            "max_width": null,
            "min_height": null,
            "min_width": null,
            "object_fit": null,
            "object_position": null,
            "order": null,
            "overflow": null,
            "overflow_x": null,
            "overflow_y": null,
            "padding": null,
            "right": null,
            "top": null,
            "visibility": null,
            "width": null
          }
        },
        "2098c15b863f476e8e69d196734fda3a": {
          "model_module": "@jupyter-widgets/controls",
          "model_name": "ProgressStyleModel",
          "model_module_version": "1.5.0",
          "state": {
            "_model_module": "@jupyter-widgets/controls",
            "_model_module_version": "1.5.0",
            "_model_name": "ProgressStyleModel",
            "_view_count": null,
            "_view_module": "@jupyter-widgets/base",
            "_view_module_version": "1.2.0",
            "_view_name": "StyleView",
            "bar_color": null,
            "description_width": ""
          }
        },
        "ecc489d46b3441e0a7b893d992e0b3ba": {
          "model_module": "@jupyter-widgets/controls",
          "model_name": "VBoxModel",
          "model_module_version": "1.5.0",
          "state": {
            "_dom_classes": [],
            "_model_module": "@jupyter-widgets/controls",
            "_model_module_version": "1.5.0",
            "_model_name": "VBoxModel",
            "_view_count": null,
            "_view_module": "@jupyter-widgets/controls",
            "_view_module_version": "1.5.0",
            "_view_name": "VBoxView",
            "box_style": "",
            "children": [
              "IPY_MODEL_b84fc3d00aa84da399b07feb4e2c0d4c",
              "IPY_MODEL_c9b8536162b84c809a6a48ed0d348eb3"
            ],
            "layout": "IPY_MODEL_18861520916b4206be943579abaacba6"
          }
        },
        "b84fc3d00aa84da399b07feb4e2c0d4c": {
          "model_module": "@jupyter-widgets/controls",
          "model_name": "LabelModel",
          "model_module_version": "1.5.0",
          "state": {
            "_dom_classes": [],
            "_model_module": "@jupyter-widgets/controls",
            "_model_module_version": "1.5.0",
            "_model_name": "LabelModel",
            "_view_count": null,
            "_view_module": "@jupyter-widgets/controls",
            "_view_module_version": "1.5.0",
            "_view_name": "LabelView",
            "description": "",
            "description_tooltip": null,
            "layout": "IPY_MODEL_e2906b0091a04266afe8030548f53048",
            "placeholder": "​",
            "style": "IPY_MODEL_5e4a47382acd41d7afaf99d95840ed6f",
            "value": "0.012 MB of 0.012 MB uploaded (0.000 MB deduped)\r"
          }
        },
        "c9b8536162b84c809a6a48ed0d348eb3": {
          "model_module": "@jupyter-widgets/controls",
          "model_name": "FloatProgressModel",
          "model_module_version": "1.5.0",
          "state": {
            "_dom_classes": [],
            "_model_module": "@jupyter-widgets/controls",
            "_model_module_version": "1.5.0",
            "_model_name": "FloatProgressModel",
            "_view_count": null,
            "_view_module": "@jupyter-widgets/controls",
            "_view_module_version": "1.5.0",
            "_view_name": "ProgressView",
            "bar_style": "",
            "description": "",
            "description_tooltip": null,
            "layout": "IPY_MODEL_3515d850bd84483a904c4c591b10aa6e",
            "max": 1,
            "min": 0,
            "orientation": "horizontal",
            "style": "IPY_MODEL_86e728abcc7d4d3baaf08a649a2cc704",
            "value": 1
          }
        },
        "18861520916b4206be943579abaacba6": {
          "model_module": "@jupyter-widgets/base",
          "model_name": "LayoutModel",
          "model_module_version": "1.2.0",
          "state": {
            "_model_module": "@jupyter-widgets/base",
            "_model_module_version": "1.2.0",
            "_model_name": "LayoutModel",
            "_view_count": null,
            "_view_module": "@jupyter-widgets/base",
            "_view_module_version": "1.2.0",
            "_view_name": "LayoutView",
            "align_content": null,
            "align_items": null,
            "align_self": null,
            "border": null,
            "bottom": null,
            "display": null,
            "flex": null,
            "flex_flow": null,
            "grid_area": null,
            "grid_auto_columns": null,
            "grid_auto_flow": null,
            "grid_auto_rows": null,
            "grid_column": null,
            "grid_gap": null,
            "grid_row": null,
            "grid_template_areas": null,
            "grid_template_columns": null,
            "grid_template_rows": null,
            "height": null,
            "justify_content": null,
            "justify_items": null,
            "left": null,
            "margin": null,
            "max_height": null,
            "max_width": null,
            "min_height": null,
            "min_width": null,
            "object_fit": null,
            "object_position": null,
            "order": null,
            "overflow": null,
            "overflow_x": null,
            "overflow_y": null,
            "padding": null,
            "right": null,
            "top": null,
            "visibility": null,
            "width": null
          }
        },
        "e2906b0091a04266afe8030548f53048": {
          "model_module": "@jupyter-widgets/base",
          "model_name": "LayoutModel",
          "model_module_version": "1.2.0",
          "state": {
            "_model_module": "@jupyter-widgets/base",
            "_model_module_version": "1.2.0",
            "_model_name": "LayoutModel",
            "_view_count": null,
            "_view_module": "@jupyter-widgets/base",
            "_view_module_version": "1.2.0",
            "_view_name": "LayoutView",
            "align_content": null,
            "align_items": null,
            "align_self": null,
            "border": null,
            "bottom": null,
            "display": null,
            "flex": null,
            "flex_flow": null,
            "grid_area": null,
            "grid_auto_columns": null,
            "grid_auto_flow": null,
            "grid_auto_rows": null,
            "grid_column": null,
            "grid_gap": null,
            "grid_row": null,
            "grid_template_areas": null,
            "grid_template_columns": null,
            "grid_template_rows": null,
            "height": null,
            "justify_content": null,
            "justify_items": null,
            "left": null,
            "margin": null,
            "max_height": null,
            "max_width": null,
            "min_height": null,
            "min_width": null,
            "object_fit": null,
            "object_position": null,
            "order": null,
            "overflow": null,
            "overflow_x": null,
            "overflow_y": null,
            "padding": null,
            "right": null,
            "top": null,
            "visibility": null,
            "width": null
          }
        },
        "5e4a47382acd41d7afaf99d95840ed6f": {
          "model_module": "@jupyter-widgets/controls",
          "model_name": "DescriptionStyleModel",
          "model_module_version": "1.5.0",
          "state": {
            "_model_module": "@jupyter-widgets/controls",
            "_model_module_version": "1.5.0",
            "_model_name": "DescriptionStyleModel",
            "_view_count": null,
            "_view_module": "@jupyter-widgets/base",
            "_view_module_version": "1.2.0",
            "_view_name": "StyleView",
            "description_width": ""
          }
        },
        "3515d850bd84483a904c4c591b10aa6e": {
          "model_module": "@jupyter-widgets/base",
          "model_name": "LayoutModel",
          "model_module_version": "1.2.0",
          "state": {
            "_model_module": "@jupyter-widgets/base",
            "_model_module_version": "1.2.0",
            "_model_name": "LayoutModel",
            "_view_count": null,
            "_view_module": "@jupyter-widgets/base",
            "_view_module_version": "1.2.0",
            "_view_name": "LayoutView",
            "align_content": null,
            "align_items": null,
            "align_self": null,
            "border": null,
            "bottom": null,
            "display": null,
            "flex": null,
            "flex_flow": null,
            "grid_area": null,
            "grid_auto_columns": null,
            "grid_auto_flow": null,
            "grid_auto_rows": null,
            "grid_column": null,
            "grid_gap": null,
            "grid_row": null,
            "grid_template_areas": null,
            "grid_template_columns": null,
            "grid_template_rows": null,
            "height": null,
            "justify_content": null,
            "justify_items": null,
            "left": null,
            "margin": null,
            "max_height": null,
            "max_width": null,
            "min_height": null,
            "min_width": null,
            "object_fit": null,
            "object_position": null,
            "order": null,
            "overflow": null,
            "overflow_x": null,
            "overflow_y": null,
            "padding": null,
            "right": null,
            "top": null,
            "visibility": null,
            "width": null
          }
        },
        "86e728abcc7d4d3baaf08a649a2cc704": {
          "model_module": "@jupyter-widgets/controls",
          "model_name": "ProgressStyleModel",
          "model_module_version": "1.5.0",
          "state": {
            "_model_module": "@jupyter-widgets/controls",
            "_model_module_version": "1.5.0",
            "_model_name": "ProgressStyleModel",
            "_view_count": null,
            "_view_module": "@jupyter-widgets/base",
            "_view_module_version": "1.2.0",
            "_view_name": "StyleView",
            "bar_color": null,
            "description_width": ""
          }
        },
        "ebe4ac22044845478388362ac85f9d43": {
          "model_module": "@jupyter-widgets/controls",
          "model_name": "VBoxModel",
          "model_module_version": "1.5.0",
          "state": {
            "_dom_classes": [],
            "_model_module": "@jupyter-widgets/controls",
            "_model_module_version": "1.5.0",
            "_model_name": "VBoxModel",
            "_view_count": null,
            "_view_module": "@jupyter-widgets/controls",
            "_view_module_version": "1.5.0",
            "_view_name": "VBoxView",
            "box_style": "",
            "children": [
              "IPY_MODEL_639e5d1ef658486b8a4b9cd37799608b",
              "IPY_MODEL_2af213bfb20748ab9e6c77656bacbbd6"
            ],
            "layout": "IPY_MODEL_0544990aef3c41d89bf0187f6ccbc720"
          }
        },
        "639e5d1ef658486b8a4b9cd37799608b": {
          "model_module": "@jupyter-widgets/controls",
          "model_name": "LabelModel",
          "model_module_version": "1.5.0",
          "state": {
            "_dom_classes": [],
            "_model_module": "@jupyter-widgets/controls",
            "_model_module_version": "1.5.0",
            "_model_name": "LabelModel",
            "_view_count": null,
            "_view_module": "@jupyter-widgets/controls",
            "_view_module_version": "1.5.0",
            "_view_name": "LabelView",
            "description": "",
            "description_tooltip": null,
            "layout": "IPY_MODEL_c312290a2fbb44d7be0c83af86ea55a9",
            "placeholder": "​",
            "style": "IPY_MODEL_d1b45f50076f46b9ab68920f181cdd9d",
            "value": "0.011 MB of 0.011 MB uploaded (0.000 MB deduped)\r"
          }
        },
        "2af213bfb20748ab9e6c77656bacbbd6": {
          "model_module": "@jupyter-widgets/controls",
          "model_name": "FloatProgressModel",
          "model_module_version": "1.5.0",
          "state": {
            "_dom_classes": [],
            "_model_module": "@jupyter-widgets/controls",
            "_model_module_version": "1.5.0",
            "_model_name": "FloatProgressModel",
            "_view_count": null,
            "_view_module": "@jupyter-widgets/controls",
            "_view_module_version": "1.5.0",
            "_view_name": "ProgressView",
            "bar_style": "",
            "description": "",
            "description_tooltip": null,
            "layout": "IPY_MODEL_c442398a4b9d42c493f6b0c644368c1a",
            "max": 1,
            "min": 0,
            "orientation": "horizontal",
            "style": "IPY_MODEL_738ceec5545b4b6bb4c305037d380a17",
            "value": 1
          }
        },
        "0544990aef3c41d89bf0187f6ccbc720": {
          "model_module": "@jupyter-widgets/base",
          "model_name": "LayoutModel",
          "model_module_version": "1.2.0",
          "state": {
            "_model_module": "@jupyter-widgets/base",
            "_model_module_version": "1.2.0",
            "_model_name": "LayoutModel",
            "_view_count": null,
            "_view_module": "@jupyter-widgets/base",
            "_view_module_version": "1.2.0",
            "_view_name": "LayoutView",
            "align_content": null,
            "align_items": null,
            "align_self": null,
            "border": null,
            "bottom": null,
            "display": null,
            "flex": null,
            "flex_flow": null,
            "grid_area": null,
            "grid_auto_columns": null,
            "grid_auto_flow": null,
            "grid_auto_rows": null,
            "grid_column": null,
            "grid_gap": null,
            "grid_row": null,
            "grid_template_areas": null,
            "grid_template_columns": null,
            "grid_template_rows": null,
            "height": null,
            "justify_content": null,
            "justify_items": null,
            "left": null,
            "margin": null,
            "max_height": null,
            "max_width": null,
            "min_height": null,
            "min_width": null,
            "object_fit": null,
            "object_position": null,
            "order": null,
            "overflow": null,
            "overflow_x": null,
            "overflow_y": null,
            "padding": null,
            "right": null,
            "top": null,
            "visibility": null,
            "width": null
          }
        },
        "c312290a2fbb44d7be0c83af86ea55a9": {
          "model_module": "@jupyter-widgets/base",
          "model_name": "LayoutModel",
          "model_module_version": "1.2.0",
          "state": {
            "_model_module": "@jupyter-widgets/base",
            "_model_module_version": "1.2.0",
            "_model_name": "LayoutModel",
            "_view_count": null,
            "_view_module": "@jupyter-widgets/base",
            "_view_module_version": "1.2.0",
            "_view_name": "LayoutView",
            "align_content": null,
            "align_items": null,
            "align_self": null,
            "border": null,
            "bottom": null,
            "display": null,
            "flex": null,
            "flex_flow": null,
            "grid_area": null,
            "grid_auto_columns": null,
            "grid_auto_flow": null,
            "grid_auto_rows": null,
            "grid_column": null,
            "grid_gap": null,
            "grid_row": null,
            "grid_template_areas": null,
            "grid_template_columns": null,
            "grid_template_rows": null,
            "height": null,
            "justify_content": null,
            "justify_items": null,
            "left": null,
            "margin": null,
            "max_height": null,
            "max_width": null,
            "min_height": null,
            "min_width": null,
            "object_fit": null,
            "object_position": null,
            "order": null,
            "overflow": null,
            "overflow_x": null,
            "overflow_y": null,
            "padding": null,
            "right": null,
            "top": null,
            "visibility": null,
            "width": null
          }
        },
        "d1b45f50076f46b9ab68920f181cdd9d": {
          "model_module": "@jupyter-widgets/controls",
          "model_name": "DescriptionStyleModel",
          "model_module_version": "1.5.0",
          "state": {
            "_model_module": "@jupyter-widgets/controls",
            "_model_module_version": "1.5.0",
            "_model_name": "DescriptionStyleModel",
            "_view_count": null,
            "_view_module": "@jupyter-widgets/base",
            "_view_module_version": "1.2.0",
            "_view_name": "StyleView",
            "description_width": ""
          }
        },
        "c442398a4b9d42c493f6b0c644368c1a": {
          "model_module": "@jupyter-widgets/base",
          "model_name": "LayoutModel",
          "model_module_version": "1.2.0",
          "state": {
            "_model_module": "@jupyter-widgets/base",
            "_model_module_version": "1.2.0",
            "_model_name": "LayoutModel",
            "_view_count": null,
            "_view_module": "@jupyter-widgets/base",
            "_view_module_version": "1.2.0",
            "_view_name": "LayoutView",
            "align_content": null,
            "align_items": null,
            "align_self": null,
            "border": null,
            "bottom": null,
            "display": null,
            "flex": null,
            "flex_flow": null,
            "grid_area": null,
            "grid_auto_columns": null,
            "grid_auto_flow": null,
            "grid_auto_rows": null,
            "grid_column": null,
            "grid_gap": null,
            "grid_row": null,
            "grid_template_areas": null,
            "grid_template_columns": null,
            "grid_template_rows": null,
            "height": null,
            "justify_content": null,
            "justify_items": null,
            "left": null,
            "margin": null,
            "max_height": null,
            "max_width": null,
            "min_height": null,
            "min_width": null,
            "object_fit": null,
            "object_position": null,
            "order": null,
            "overflow": null,
            "overflow_x": null,
            "overflow_y": null,
            "padding": null,
            "right": null,
            "top": null,
            "visibility": null,
            "width": null
          }
        },
        "738ceec5545b4b6bb4c305037d380a17": {
          "model_module": "@jupyter-widgets/controls",
          "model_name": "ProgressStyleModel",
          "model_module_version": "1.5.0",
          "state": {
            "_model_module": "@jupyter-widgets/controls",
            "_model_module_version": "1.5.0",
            "_model_name": "ProgressStyleModel",
            "_view_count": null,
            "_view_module": "@jupyter-widgets/base",
            "_view_module_version": "1.2.0",
            "_view_name": "StyleView",
            "bar_color": null,
            "description_width": ""
          }
        },
        "8f4b42b2346a425ba2a19b96a5ff1204": {
          "model_module": "@jupyter-widgets/controls",
          "model_name": "VBoxModel",
          "model_module_version": "1.5.0",
          "state": {
            "_dom_classes": [],
            "_model_module": "@jupyter-widgets/controls",
            "_model_module_version": "1.5.0",
            "_model_name": "VBoxModel",
            "_view_count": null,
            "_view_module": "@jupyter-widgets/controls",
            "_view_module_version": "1.5.0",
            "_view_name": "VBoxView",
            "box_style": "",
            "children": [
              "IPY_MODEL_c1b87c14fe8a45449e991e615118cd7b",
              "IPY_MODEL_9ea2cb04445f4585b513ab3ee9c82e5a"
            ],
            "layout": "IPY_MODEL_434dab65c2b14522a22314e016493765"
          }
        },
        "c1b87c14fe8a45449e991e615118cd7b": {
          "model_module": "@jupyter-widgets/controls",
          "model_name": "LabelModel",
          "model_module_version": "1.5.0",
          "state": {
            "_dom_classes": [],
            "_model_module": "@jupyter-widgets/controls",
            "_model_module_version": "1.5.0",
            "_model_name": "LabelModel",
            "_view_count": null,
            "_view_module": "@jupyter-widgets/controls",
            "_view_module_version": "1.5.0",
            "_view_name": "LabelView",
            "description": "",
            "description_tooltip": null,
            "layout": "IPY_MODEL_d1f5cdf4c5ba46eba296301ea4358755",
            "placeholder": "​",
            "style": "IPY_MODEL_4cc46db47a424ad986ceed56a75248d6",
            "value": "0.011 MB of 0.011 MB uploaded (0.000 MB deduped)\r"
          }
        },
        "9ea2cb04445f4585b513ab3ee9c82e5a": {
          "model_module": "@jupyter-widgets/controls",
          "model_name": "FloatProgressModel",
          "model_module_version": "1.5.0",
          "state": {
            "_dom_classes": [],
            "_model_module": "@jupyter-widgets/controls",
            "_model_module_version": "1.5.0",
            "_model_name": "FloatProgressModel",
            "_view_count": null,
            "_view_module": "@jupyter-widgets/controls",
            "_view_module_version": "1.5.0",
            "_view_name": "ProgressView",
            "bar_style": "",
            "description": "",
            "description_tooltip": null,
            "layout": "IPY_MODEL_228d2e7dc3ef4ff08a86718060870a0f",
            "max": 1,
            "min": 0,
            "orientation": "horizontal",
            "style": "IPY_MODEL_cc51897e46d742e4b159a5a85a56b701",
            "value": 1
          }
        },
        "434dab65c2b14522a22314e016493765": {
          "model_module": "@jupyter-widgets/base",
          "model_name": "LayoutModel",
          "model_module_version": "1.2.0",
          "state": {
            "_model_module": "@jupyter-widgets/base",
            "_model_module_version": "1.2.0",
            "_model_name": "LayoutModel",
            "_view_count": null,
            "_view_module": "@jupyter-widgets/base",
            "_view_module_version": "1.2.0",
            "_view_name": "LayoutView",
            "align_content": null,
            "align_items": null,
            "align_self": null,
            "border": null,
            "bottom": null,
            "display": null,
            "flex": null,
            "flex_flow": null,
            "grid_area": null,
            "grid_auto_columns": null,
            "grid_auto_flow": null,
            "grid_auto_rows": null,
            "grid_column": null,
            "grid_gap": null,
            "grid_row": null,
            "grid_template_areas": null,
            "grid_template_columns": null,
            "grid_template_rows": null,
            "height": null,
            "justify_content": null,
            "justify_items": null,
            "left": null,
            "margin": null,
            "max_height": null,
            "max_width": null,
            "min_height": null,
            "min_width": null,
            "object_fit": null,
            "object_position": null,
            "order": null,
            "overflow": null,
            "overflow_x": null,
            "overflow_y": null,
            "padding": null,
            "right": null,
            "top": null,
            "visibility": null,
            "width": null
          }
        },
        "d1f5cdf4c5ba46eba296301ea4358755": {
          "model_module": "@jupyter-widgets/base",
          "model_name": "LayoutModel",
          "model_module_version": "1.2.0",
          "state": {
            "_model_module": "@jupyter-widgets/base",
            "_model_module_version": "1.2.0",
            "_model_name": "LayoutModel",
            "_view_count": null,
            "_view_module": "@jupyter-widgets/base",
            "_view_module_version": "1.2.0",
            "_view_name": "LayoutView",
            "align_content": null,
            "align_items": null,
            "align_self": null,
            "border": null,
            "bottom": null,
            "display": null,
            "flex": null,
            "flex_flow": null,
            "grid_area": null,
            "grid_auto_columns": null,
            "grid_auto_flow": null,
            "grid_auto_rows": null,
            "grid_column": null,
            "grid_gap": null,
            "grid_row": null,
            "grid_template_areas": null,
            "grid_template_columns": null,
            "grid_template_rows": null,
            "height": null,
            "justify_content": null,
            "justify_items": null,
            "left": null,
            "margin": null,
            "max_height": null,
            "max_width": null,
            "min_height": null,
            "min_width": null,
            "object_fit": null,
            "object_position": null,
            "order": null,
            "overflow": null,
            "overflow_x": null,
            "overflow_y": null,
            "padding": null,
            "right": null,
            "top": null,
            "visibility": null,
            "width": null
          }
        },
        "4cc46db47a424ad986ceed56a75248d6": {
          "model_module": "@jupyter-widgets/controls",
          "model_name": "DescriptionStyleModel",
          "model_module_version": "1.5.0",
          "state": {
            "_model_module": "@jupyter-widgets/controls",
            "_model_module_version": "1.5.0",
            "_model_name": "DescriptionStyleModel",
            "_view_count": null,
            "_view_module": "@jupyter-widgets/base",
            "_view_module_version": "1.2.0",
            "_view_name": "StyleView",
            "description_width": ""
          }
        },
        "228d2e7dc3ef4ff08a86718060870a0f": {
          "model_module": "@jupyter-widgets/base",
          "model_name": "LayoutModel",
          "model_module_version": "1.2.0",
          "state": {
            "_model_module": "@jupyter-widgets/base",
            "_model_module_version": "1.2.0",
            "_model_name": "LayoutModel",
            "_view_count": null,
            "_view_module": "@jupyter-widgets/base",
            "_view_module_version": "1.2.0",
            "_view_name": "LayoutView",
            "align_content": null,
            "align_items": null,
            "align_self": null,
            "border": null,
            "bottom": null,
            "display": null,
            "flex": null,
            "flex_flow": null,
            "grid_area": null,
            "grid_auto_columns": null,
            "grid_auto_flow": null,
            "grid_auto_rows": null,
            "grid_column": null,
            "grid_gap": null,
            "grid_row": null,
            "grid_template_areas": null,
            "grid_template_columns": null,
            "grid_template_rows": null,
            "height": null,
            "justify_content": null,
            "justify_items": null,
            "left": null,
            "margin": null,
            "max_height": null,
            "max_width": null,
            "min_height": null,
            "min_width": null,
            "object_fit": null,
            "object_position": null,
            "order": null,
            "overflow": null,
            "overflow_x": null,
            "overflow_y": null,
            "padding": null,
            "right": null,
            "top": null,
            "visibility": null,
            "width": null
          }
        },
        "cc51897e46d742e4b159a5a85a56b701": {
          "model_module": "@jupyter-widgets/controls",
          "model_name": "ProgressStyleModel",
          "model_module_version": "1.5.0",
          "state": {
            "_model_module": "@jupyter-widgets/controls",
            "_model_module_version": "1.5.0",
            "_model_name": "ProgressStyleModel",
            "_view_count": null,
            "_view_module": "@jupyter-widgets/base",
            "_view_module_version": "1.2.0",
            "_view_name": "StyleView",
            "bar_color": null,
            "description_width": ""
          }
        }
      }
    }
  },
  "cells": [
    {
      "cell_type": "markdown",
      "metadata": {
        "id": "view-in-github",
        "colab_type": "text"
      },
      "source": [
        "<a href=\"https://colab.research.google.com/github/iljf/AIB09_Discussion/blob/master/KLUE_ROBERTA_base_iljf_r1.ipynb\" target=\"_parent\"><img src=\"https://colab.research.google.com/assets/colab-badge.svg\" alt=\"Open In Colab\"/></a>"
      ]
    },
    {
      "cell_type": "markdown",
      "source": [
        "# KLUE - ROBERTA-BASE"
      ],
      "metadata": {
        "id": "SofYmTfqB_2n"
      }
    },
    {
      "cell_type": "markdown",
      "source": [
        "klue/roberta-base 모델을 KLUE 내 STS 데이터셋을 활용하여 모델을 훈련\n",
        "\n",
        "*   source code : https://github.com/UKPLab/sentence-transformers\n",
        "\n",
        "\n"
      ],
      "metadata": {
        "id": "Tr6odmlRBcT6"
      }
    },
    {
      "cell_type": "code",
      "source": [
        "!pip install transformers sentence-transformers datasets wandb "
      ],
      "metadata": {
        "id": "VvdX-pUUSqdV",
        "colab": {
          "base_uri": "https://localhost:8080/"
        },
        "outputId": "c4045ccc-243d-453e-fd42-fc458b58d76d"
      },
      "execution_count": null,
      "outputs": [
        {
          "output_type": "stream",
          "name": "stdout",
          "text": [
            "Looking in indexes: https://pypi.org/simple, https://us-python.pkg.dev/colab-wheels/public/simple/\n",
            "Requirement already satisfied: transformers in /usr/local/lib/python3.7/dist-packages (4.19.2)\n",
            "Requirement already satisfied: sentence-transformers in /usr/local/lib/python3.7/dist-packages (2.2.0)\n",
            "Requirement already satisfied: datasets in /usr/local/lib/python3.7/dist-packages (2.2.2)\n",
            "Requirement already satisfied: wandb in /usr/local/lib/python3.7/dist-packages (0.12.17)\n",
            "Requirement already satisfied: filelock in /usr/local/lib/python3.7/dist-packages (from transformers) (3.7.0)\n",
            "Requirement already satisfied: requests in /usr/local/lib/python3.7/dist-packages (from transformers) (2.23.0)\n",
            "Requirement already satisfied: numpy>=1.17 in /usr/local/lib/python3.7/dist-packages (from transformers) (1.21.6)\n",
            "Requirement already satisfied: tqdm>=4.27 in /usr/local/lib/python3.7/dist-packages (from transformers) (4.64.0)\n",
            "Requirement already satisfied: importlib-metadata in /usr/local/lib/python3.7/dist-packages (from transformers) (4.11.3)\n",
            "Requirement already satisfied: packaging>=20.0 in /usr/local/lib/python3.7/dist-packages (from transformers) (21.3)\n",
            "Requirement already satisfied: pyyaml>=5.1 in /usr/local/lib/python3.7/dist-packages (from transformers) (6.0)\n",
            "Requirement already satisfied: tokenizers!=0.11.3,<0.13,>=0.11.1 in /usr/local/lib/python3.7/dist-packages (from transformers) (0.12.1)\n",
            "Requirement already satisfied: regex!=2019.12.17 in /usr/local/lib/python3.7/dist-packages (from transformers) (2019.12.20)\n",
            "Requirement already satisfied: huggingface-hub<1.0,>=0.1.0 in /usr/local/lib/python3.7/dist-packages (from transformers) (0.7.0)\n",
            "Requirement already satisfied: typing-extensions>=3.7.4.3 in /usr/local/lib/python3.7/dist-packages (from huggingface-hub<1.0,>=0.1.0->transformers) (4.2.0)\n",
            "Requirement already satisfied: pyparsing!=3.0.5,>=2.0.2 in /usr/local/lib/python3.7/dist-packages (from packaging>=20.0->transformers) (3.0.9)\n",
            "Requirement already satisfied: nltk in /usr/local/lib/python3.7/dist-packages (from sentence-transformers) (3.2.5)\n",
            "Requirement already satisfied: scikit-learn in /usr/local/lib/python3.7/dist-packages (from sentence-transformers) (1.0.2)\n",
            "Requirement already satisfied: scipy in /usr/local/lib/python3.7/dist-packages (from sentence-transformers) (1.4.1)\n",
            "Requirement already satisfied: torchvision in /usr/local/lib/python3.7/dist-packages (from sentence-transformers) (0.12.0+cu113)\n",
            "Requirement already satisfied: sentencepiece in /usr/local/lib/python3.7/dist-packages (from sentence-transformers) (0.1.96)\n",
            "Requirement already satisfied: torch>=1.6.0 in /usr/local/lib/python3.7/dist-packages (from sentence-transformers) (1.11.0+cu113)\n",
            "Requirement already satisfied: dill<0.3.5 in /usr/local/lib/python3.7/dist-packages (from datasets) (0.3.4)\n",
            "Requirement already satisfied: fsspec[http]>=2021.05.0 in /usr/local/lib/python3.7/dist-packages (from datasets) (2022.5.0)\n",
            "Requirement already satisfied: pyarrow>=6.0.0 in /usr/local/lib/python3.7/dist-packages (from datasets) (6.0.1)\n",
            "Requirement already satisfied: aiohttp in /usr/local/lib/python3.7/dist-packages (from datasets) (3.8.1)\n",
            "Requirement already satisfied: pandas in /usr/local/lib/python3.7/dist-packages (from datasets) (1.3.5)\n",
            "Requirement already satisfied: responses<0.19 in /usr/local/lib/python3.7/dist-packages (from datasets) (0.18.0)\n",
            "Requirement already satisfied: xxhash in /usr/local/lib/python3.7/dist-packages (from datasets) (3.0.0)\n",
            "Requirement already satisfied: multiprocess in /usr/local/lib/python3.7/dist-packages (from datasets) (0.70.12.2)\n",
            "Requirement already satisfied: chardet<4,>=3.0.2 in /usr/local/lib/python3.7/dist-packages (from requests->transformers) (3.0.4)\n",
            "Requirement already satisfied: urllib3!=1.25.0,!=1.25.1,<1.26,>=1.21.1 in /usr/local/lib/python3.7/dist-packages (from requests->transformers) (1.25.11)\n",
            "Requirement already satisfied: idna<3,>=2.5 in /usr/local/lib/python3.7/dist-packages (from requests->transformers) (2.10)\n",
            "Requirement already satisfied: certifi>=2017.4.17 in /usr/local/lib/python3.7/dist-packages (from requests->transformers) (2022.5.18.1)\n",
            "Requirement already satisfied: psutil>=5.0.0 in /usr/local/lib/python3.7/dist-packages (from wandb) (5.4.8)\n",
            "Requirement already satisfied: Click!=8.0.0,>=7.0 in /usr/local/lib/python3.7/dist-packages (from wandb) (7.1.2)\n",
            "Requirement already satisfied: shortuuid>=0.5.0 in /usr/local/lib/python3.7/dist-packages (from wandb) (1.0.9)\n",
            "Requirement already satisfied: docker-pycreds>=0.4.0 in /usr/local/lib/python3.7/dist-packages (from wandb) (0.4.0)\n",
            "Requirement already satisfied: pathtools in /usr/local/lib/python3.7/dist-packages (from wandb) (0.1.2)\n",
            "Requirement already satisfied: setproctitle in /usr/local/lib/python3.7/dist-packages (from wandb) (1.2.3)\n",
            "Requirement already satisfied: promise<3,>=2.0 in /usr/local/lib/python3.7/dist-packages (from wandb) (2.3)\n",
            "Requirement already satisfied: GitPython>=1.0.0 in /usr/local/lib/python3.7/dist-packages (from wandb) (3.1.27)\n",
            "Requirement already satisfied: python-dateutil>=2.6.1 in /usr/local/lib/python3.7/dist-packages (from wandb) (2.8.2)\n",
            "Requirement already satisfied: protobuf<4.0dev,>=3.12.0 in /usr/local/lib/python3.7/dist-packages (from wandb) (3.17.3)\n",
            "Requirement already satisfied: sentry-sdk>=1.0.0 in /usr/local/lib/python3.7/dist-packages (from wandb) (1.5.12)\n",
            "Requirement already satisfied: setuptools in /usr/local/lib/python3.7/dist-packages (from wandb) (57.4.0)\n",
            "Requirement already satisfied: six>=1.13.0 in /usr/local/lib/python3.7/dist-packages (from wandb) (1.15.0)\n",
            "Requirement already satisfied: gitdb<5,>=4.0.1 in /usr/local/lib/python3.7/dist-packages (from GitPython>=1.0.0->wandb) (4.0.9)\n",
            "Requirement already satisfied: smmap<6,>=3.0.1 in /usr/local/lib/python3.7/dist-packages (from gitdb<5,>=4.0.1->GitPython>=1.0.0->wandb) (5.0.0)\n",
            "Requirement already satisfied: charset-normalizer<3.0,>=2.0 in /usr/local/lib/python3.7/dist-packages (from aiohttp->datasets) (2.0.12)\n",
            "Requirement already satisfied: frozenlist>=1.1.1 in /usr/local/lib/python3.7/dist-packages (from aiohttp->datasets) (1.3.0)\n",
            "Requirement already satisfied: asynctest==0.13.0 in /usr/local/lib/python3.7/dist-packages (from aiohttp->datasets) (0.13.0)\n",
            "Requirement already satisfied: attrs>=17.3.0 in /usr/local/lib/python3.7/dist-packages (from aiohttp->datasets) (21.4.0)\n",
            "Requirement already satisfied: multidict<7.0,>=4.5 in /usr/local/lib/python3.7/dist-packages (from aiohttp->datasets) (6.0.2)\n",
            "Requirement already satisfied: yarl<2.0,>=1.0 in /usr/local/lib/python3.7/dist-packages (from aiohttp->datasets) (1.7.2)\n",
            "Requirement already satisfied: async-timeout<5.0,>=4.0.0a3 in /usr/local/lib/python3.7/dist-packages (from aiohttp->datasets) (4.0.2)\n",
            "Requirement already satisfied: aiosignal>=1.1.2 in /usr/local/lib/python3.7/dist-packages (from aiohttp->datasets) (1.2.0)\n",
            "Requirement already satisfied: zipp>=0.5 in /usr/local/lib/python3.7/dist-packages (from importlib-metadata->transformers) (3.8.0)\n",
            "Requirement already satisfied: pytz>=2017.3 in /usr/local/lib/python3.7/dist-packages (from pandas->datasets) (2022.1)\n",
            "Requirement already satisfied: joblib>=0.11 in /usr/local/lib/python3.7/dist-packages (from scikit-learn->sentence-transformers) (1.1.0)\n",
            "Requirement already satisfied: threadpoolctl>=2.0.0 in /usr/local/lib/python3.7/dist-packages (from scikit-learn->sentence-transformers) (3.1.0)\n",
            "Requirement already satisfied: pillow!=8.3.*,>=5.3.0 in /usr/local/lib/python3.7/dist-packages (from torchvision->sentence-transformers) (7.1.2)\n"
          ]
        }
      ]
    },
    {
      "cell_type": "code",
      "source": [
        "import pandas as pd\n",
        "import os\n",
        "import sys\n",
        "import re\n",
        "import pandas as pd\n",
        "import numpy as np\n",
        "import random\n",
        "from sklearn.model_selection import train_test_split\n",
        "import math\n",
        "import logging\n",
        "from datetime import datetime\n",
        "\n",
        "import torch\n",
        "import torch.nn as nn\n",
        "from torch.utils.data import Dataset, DataLoader, RandomSampler, SequentialSampler, random_split\n",
        "from datasets import load_dataset\n",
        "from sentence_transformers import SentenceTransformer,  LoggingHandler, losses, models, util\n",
        "from sentence_transformers.evaluation import EmbeddingSimilarityEvaluator\n",
        "from sentence_transformers.readers import InputExample\n",
        "from sklearn.metrics import f1_score\n",
        "import torch.nn.functional as F\n",
        "from torch.optim import AdamW\n",
        "from torch.nn import CosineSimilarity, MSELoss\n",
        "from torch.nn.utils import clip_grad_norm_\n"
      ],
      "metadata": {
        "id": "oDiVDNEaCIfy"
      },
      "execution_count": null,
      "outputs": []
    },
    {
      "cell_type": "code",
      "source": [
        "#logger 초기화\n",
        "logging.basicConfig(\n",
        "    format=\"%(asctime)s - %(message)s\",\n",
        "    datefmt=\"%Y-%m-%d %H:%M:%S\",\n",
        "    level=logging.INFO,\n",
        "    handlers=[LoggingHandler()],\n",
        ")"
      ],
      "metadata": {
        "id": "6AyEcBOxCgwK"
      },
      "execution_count": null,
      "outputs": []
    },
    {
      "cell_type": "code",
      "source": [
        "#argument setting\n",
        "task = \"sts\"\n",
        "model_checkpoint = \"klue/roberta-base\""
      ],
      "metadata": {
        "id": "lvLiVxN80Tsp"
      },
      "execution_count": null,
      "outputs": []
    },
    {
      "cell_type": "code",
      "source": [
        "from datasets import load_dataset\n",
        "dataset = load_dataset('klue', task)"
      ],
      "metadata": {
        "id": "lPecIcbp0Jxq",
        "colab": {
          "base_uri": "https://localhost:8080/",
          "height": 67,
          "referenced_widgets": [
            "4a4ebfc65c3b487f8a22277eb7b54437",
            "6a8261a457b843668cf46ffa343cbf88",
            "2fb5b7b175f74d9a8974b006c7354524",
            "7d0c3c2181544d0a92d3f7db57fa35c0",
            "33f38eb79ccb44bbb0f1548476cadcd2",
            "76d5ae540fce41a7acf43a1e10e8c094",
            "3a4cbae5607546efbdce585042d80446",
            "fe21db46899c46b8b2c9b944e8333425",
            "f1fd3d3af5c347cfbaa01fe20ea2e9c7",
            "e58403ca8d0446e493d0b34ed324b03c",
            "92d263b783434646a0f8243eb679dacf"
          ]
        },
        "outputId": "1a86876a-5edc-4213-c508-0cf5511b6e78"
      },
      "execution_count": null,
      "outputs": [
        {
          "output_type": "stream",
          "name": "stdout",
          "text": [
            "2022-05-31 06:55:58 - Reusing dataset klue (/root/.cache/huggingface/datasets/klue/sts/1.0.0/e0fc3bc3de3eb03be2c92d72fd04a60ecc71903f821619cb28ca0e1e29e4233e)\n"
          ]
        },
        {
          "output_type": "display_data",
          "data": {
            "text/plain": [
              "  0%|          | 0/2 [00:00<?, ?it/s]"
            ],
            "application/vnd.jupyter.widget-view+json": {
              "version_major": 2,
              "version_minor": 0,
              "model_id": "4a4ebfc65c3b487f8a22277eb7b54437"
            }
          },
          "metadata": {}
        }
      ]
    },
    {
      "cell_type": "code",
      "source": [
        "type(dataset)"
      ],
      "metadata": {
        "id": "f4CuugscjKPC",
        "colab": {
          "base_uri": "https://localhost:8080/"
        },
        "outputId": "5efea48e-030b-4b90-ac7a-f8151b39a59f"
      },
      "execution_count": null,
      "outputs": [
        {
          "output_type": "execute_result",
          "data": {
            "text/plain": [
              "datasets.dataset_dict.DatasetDict"
            ]
          },
          "metadata": {},
          "execution_count": 6
        }
      ]
    },
    {
      "cell_type": "code",
      "source": [
        "dataset.keys()"
      ],
      "metadata": {
        "id": "hTCPrpIX19-z",
        "colab": {
          "base_uri": "https://localhost:8080/"
        },
        "outputId": "94b7b904-0900-467c-d8b0-93ba1ed64e50"
      },
      "execution_count": null,
      "outputs": [
        {
          "output_type": "execute_result",
          "data": {
            "text/plain": [
              "dict_keys(['train', 'validation'])"
            ]
          },
          "metadata": {},
          "execution_count": 7
        }
      ]
    },
    {
      "cell_type": "code",
      "source": [
        "dataset.shape"
      ],
      "metadata": {
        "id": "wSgEpJ254wkD",
        "colab": {
          "base_uri": "https://localhost:8080/"
        },
        "outputId": "3f3e12d6-d186-4243-f755-d7825b26046a"
      },
      "execution_count": null,
      "outputs": [
        {
          "output_type": "execute_result",
          "data": {
            "text/plain": [
              "{'train': (11668, 5), 'validation': (519, 5)}"
            ]
          },
          "metadata": {},
          "execution_count": 8
        }
      ]
    },
    {
      "cell_type": "code",
      "source": [
        "dataset['train']"
      ],
      "metadata": {
        "id": "IfDNkMPq3F3W",
        "colab": {
          "base_uri": "https://localhost:8080/"
        },
        "outputId": "53cbbe1d-9240-4003-da9a-e63cc0df2943"
      },
      "execution_count": null,
      "outputs": [
        {
          "output_type": "execute_result",
          "data": {
            "text/plain": [
              "Dataset({\n",
              "    features: ['guid', 'source', 'sentence1', 'sentence2', 'labels'],\n",
              "    num_rows: 11668\n",
              "})"
            ]
          },
          "metadata": {},
          "execution_count": 9
        }
      ]
    },
    {
      "cell_type": "code",
      "source": [
        "dataset['validation']"
      ],
      "metadata": {
        "id": "-SYRNGYu3JbM",
        "colab": {
          "base_uri": "https://localhost:8080/"
        },
        "outputId": "b4e80dfb-8821-489d-b212-0db5125c420b"
      },
      "execution_count": null,
      "outputs": [
        {
          "output_type": "execute_result",
          "data": {
            "text/plain": [
              "Dataset({\n",
              "    features: ['guid', 'source', 'sentence1', 'sentence2', 'labels'],\n",
              "    num_rows: 519\n",
              "})"
            ]
          },
          "metadata": {},
          "execution_count": 10
        }
      ]
    },
    {
      "cell_type": "code",
      "source": [
        "!git clone https://github.com/KLUE-benchmark/KLUE.git"
      ],
      "metadata": {
        "id": "0vEM5qBzFhgB",
        "colab": {
          "base_uri": "https://localhost:8080/"
        },
        "outputId": "7b03acd9-4303-4b2c-fd8b-22804aaa5a3c"
      },
      "execution_count": null,
      "outputs": [
        {
          "output_type": "stream",
          "name": "stdout",
          "text": [
            "fatal: destination path 'KLUE' already exists and is not an empty directory.\n"
          ]
        }
      ]
    },
    {
      "cell_type": "code",
      "source": [
        "KLUE_dataset = pd.read_json('/content/KLUE/klue_benchmark/klue-sts-v1.1/klue-sts-v1.1_train.json')"
      ],
      "metadata": {
        "id": "xg7uonDyFlxT"
      },
      "execution_count": null,
      "outputs": []
    },
    {
      "cell_type": "code",
      "source": [
        "KLUE_dataset.shape"
      ],
      "metadata": {
        "id": "1UhytGLGF4b7",
        "colab": {
          "base_uri": "https://localhost:8080/"
        },
        "outputId": "14e6957c-4b52-4fe7-b553-2c297518a519"
      },
      "execution_count": null,
      "outputs": [
        {
          "output_type": "execute_result",
          "data": {
            "text/plain": [
              "(11668, 6)"
            ]
          },
          "metadata": {},
          "execution_count": 13
        }
      ]
    },
    {
      "cell_type": "code",
      "source": [
        "KLUE_dataset.head()"
      ],
      "metadata": {
        "id": "k0A_xbmXGZnu",
        "colab": {
          "base_uri": "https://localhost:8080/",
          "height": 206
        },
        "outputId": "fb613c15-c9b6-42d7-d17c-cdcdfe99ec70"
      },
      "execution_count": null,
      "outputs": [
        {
          "output_type": "execute_result",
          "data": {
            "text/plain": [
              "                      guid           source  \\\n",
              "0  klue-sts-v1_train_00000       airbnb-rtt   \n",
              "1  klue-sts-v1_train_00001   policy-sampled   \n",
              "2  klue-sts-v1_train_00002  paraKQC-sampled   \n",
              "3  klue-sts-v1_train_00003   policy-sampled   \n",
              "4  klue-sts-v1_train_00004       airbnb-rtt   \n",
              "\n",
              "                                           sentence1  \\\n",
              "0                   숙소 위치는 찾기 쉽고 일반적인 한국의 반지하 숙소입니다.   \n",
              "1      위반행위 조사 등을 거부·방해·기피한 자는 500만원 이하 과태료 부과 대상이다.   \n",
              "2            회사가 보낸 메일은 이 지메일이 아니라 다른 지메일 계정으로 전달해줘.   \n",
              "3  긴급 고용안정지원금은 지역고용대응 등 특별지원금, 지자체별 소상공인 지원사업, 취업...   \n",
              "4                        호스트의 답장이 늦으나, 개선될 것으로 보입니다.   \n",
              "\n",
              "                                    sentence2  \\\n",
              "0  숙박시설의 위치는 쉽게 찾을 수 있고 한국의 대표적인 반지하 숙박시설입니다.   \n",
              "1       시민들 스스로 자발적인 예방 노력을 한 것은 아산 뿐만이 아니었다.   \n",
              "2                  사람들이 주로 네이버 메일을 쓰는 이유를 알려줘   \n",
              "3   고용보험이 1차 고용안전망이라면, 국민취업지원제도는 2차 고용안전망입니다.   \n",
              "4                  호스트 응답이 늦었지만 개선될 것으로 보입니다.   \n",
              "\n",
              "                                              labels  \\\n",
              "0  {'label': 3.7, 'real-label': 3.714285714285714...   \n",
              "1  {'label': 0.0, 'real-label': 0.0, 'binary-labe...   \n",
              "2  {'label': 0.30000000000000004, 'real-label': 0...   \n",
              "3  {'label': 0.6000000000000001, 'real-label': 0....   \n",
              "4  {'label': 4.7, 'real-label': 4.714285714285714...   \n",
              "\n",
              "                                         annotations  \n",
              "0  {'agreement': '0:0:0:2:5:0', 'annotators': ['0...  \n",
              "1  {'agreement': '5:0:0:0:0:0', 'annotators': ['1...  \n",
              "2  {'agreement': '4:2:0:0:0:0', 'annotators': ['1...  \n",
              "3  {'agreement': '4:2:1:0:0:0', 'annotators': ['1...  \n",
              "4  {'agreement': '0:0:0:0:2:5', 'annotators': ['1...  "
            ],
            "text/html": [
              "\n",
              "  <div id=\"df-b18d04d6-cd05-4750-bbfa-493132864c5c\">\n",
              "    <div class=\"colab-df-container\">\n",
              "      <div>\n",
              "<style scoped>\n",
              "    .dataframe tbody tr th:only-of-type {\n",
              "        vertical-align: middle;\n",
              "    }\n",
              "\n",
              "    .dataframe tbody tr th {\n",
              "        vertical-align: top;\n",
              "    }\n",
              "\n",
              "    .dataframe thead th {\n",
              "        text-align: right;\n",
              "    }\n",
              "</style>\n",
              "<table border=\"1\" class=\"dataframe\">\n",
              "  <thead>\n",
              "    <tr style=\"text-align: right;\">\n",
              "      <th></th>\n",
              "      <th>guid</th>\n",
              "      <th>source</th>\n",
              "      <th>sentence1</th>\n",
              "      <th>sentence2</th>\n",
              "      <th>labels</th>\n",
              "      <th>annotations</th>\n",
              "    </tr>\n",
              "  </thead>\n",
              "  <tbody>\n",
              "    <tr>\n",
              "      <th>0</th>\n",
              "      <td>klue-sts-v1_train_00000</td>\n",
              "      <td>airbnb-rtt</td>\n",
              "      <td>숙소 위치는 찾기 쉽고 일반적인 한국의 반지하 숙소입니다.</td>\n",
              "      <td>숙박시설의 위치는 쉽게 찾을 수 있고 한국의 대표적인 반지하 숙박시설입니다.</td>\n",
              "      <td>{'label': 3.7, 'real-label': 3.714285714285714...</td>\n",
              "      <td>{'agreement': '0:0:0:2:5:0', 'annotators': ['0...</td>\n",
              "    </tr>\n",
              "    <tr>\n",
              "      <th>1</th>\n",
              "      <td>klue-sts-v1_train_00001</td>\n",
              "      <td>policy-sampled</td>\n",
              "      <td>위반행위 조사 등을 거부·방해·기피한 자는 500만원 이하 과태료 부과 대상이다.</td>\n",
              "      <td>시민들 스스로 자발적인 예방 노력을 한 것은 아산 뿐만이 아니었다.</td>\n",
              "      <td>{'label': 0.0, 'real-label': 0.0, 'binary-labe...</td>\n",
              "      <td>{'agreement': '5:0:0:0:0:0', 'annotators': ['1...</td>\n",
              "    </tr>\n",
              "    <tr>\n",
              "      <th>2</th>\n",
              "      <td>klue-sts-v1_train_00002</td>\n",
              "      <td>paraKQC-sampled</td>\n",
              "      <td>회사가 보낸 메일은 이 지메일이 아니라 다른 지메일 계정으로 전달해줘.</td>\n",
              "      <td>사람들이 주로 네이버 메일을 쓰는 이유를 알려줘</td>\n",
              "      <td>{'label': 0.30000000000000004, 'real-label': 0...</td>\n",
              "      <td>{'agreement': '4:2:0:0:0:0', 'annotators': ['1...</td>\n",
              "    </tr>\n",
              "    <tr>\n",
              "      <th>3</th>\n",
              "      <td>klue-sts-v1_train_00003</td>\n",
              "      <td>policy-sampled</td>\n",
              "      <td>긴급 고용안정지원금은 지역고용대응 등 특별지원금, 지자체별 소상공인 지원사업, 취업...</td>\n",
              "      <td>고용보험이 1차 고용안전망이라면, 국민취업지원제도는 2차 고용안전망입니다.</td>\n",
              "      <td>{'label': 0.6000000000000001, 'real-label': 0....</td>\n",
              "      <td>{'agreement': '4:2:1:0:0:0', 'annotators': ['1...</td>\n",
              "    </tr>\n",
              "    <tr>\n",
              "      <th>4</th>\n",
              "      <td>klue-sts-v1_train_00004</td>\n",
              "      <td>airbnb-rtt</td>\n",
              "      <td>호스트의 답장이 늦으나, 개선될 것으로 보입니다.</td>\n",
              "      <td>호스트 응답이 늦었지만 개선될 것으로 보입니다.</td>\n",
              "      <td>{'label': 4.7, 'real-label': 4.714285714285714...</td>\n",
              "      <td>{'agreement': '0:0:0:0:2:5', 'annotators': ['1...</td>\n",
              "    </tr>\n",
              "  </tbody>\n",
              "</table>\n",
              "</div>\n",
              "      <button class=\"colab-df-convert\" onclick=\"convertToInteractive('df-b18d04d6-cd05-4750-bbfa-493132864c5c')\"\n",
              "              title=\"Convert this dataframe to an interactive table.\"\n",
              "              style=\"display:none;\">\n",
              "        \n",
              "  <svg xmlns=\"http://www.w3.org/2000/svg\" height=\"24px\"viewBox=\"0 0 24 24\"\n",
              "       width=\"24px\">\n",
              "    <path d=\"M0 0h24v24H0V0z\" fill=\"none\"/>\n",
              "    <path d=\"M18.56 5.44l.94 2.06.94-2.06 2.06-.94-2.06-.94-.94-2.06-.94 2.06-2.06.94zm-11 1L8.5 8.5l.94-2.06 2.06-.94-2.06-.94L8.5 2.5l-.94 2.06-2.06.94zm10 10l.94 2.06.94-2.06 2.06-.94-2.06-.94-.94-2.06-.94 2.06-2.06.94z\"/><path d=\"M17.41 7.96l-1.37-1.37c-.4-.4-.92-.59-1.43-.59-.52 0-1.04.2-1.43.59L10.3 9.45l-7.72 7.72c-.78.78-.78 2.05 0 2.83L4 21.41c.39.39.9.59 1.41.59.51 0 1.02-.2 1.41-.59l7.78-7.78 2.81-2.81c.8-.78.8-2.07 0-2.86zM5.41 20L4 18.59l7.72-7.72 1.47 1.35L5.41 20z\"/>\n",
              "  </svg>\n",
              "      </button>\n",
              "      \n",
              "  <style>\n",
              "    .colab-df-container {\n",
              "      display:flex;\n",
              "      flex-wrap:wrap;\n",
              "      gap: 12px;\n",
              "    }\n",
              "\n",
              "    .colab-df-convert {\n",
              "      background-color: #E8F0FE;\n",
              "      border: none;\n",
              "      border-radius: 50%;\n",
              "      cursor: pointer;\n",
              "      display: none;\n",
              "      fill: #1967D2;\n",
              "      height: 32px;\n",
              "      padding: 0 0 0 0;\n",
              "      width: 32px;\n",
              "    }\n",
              "\n",
              "    .colab-df-convert:hover {\n",
              "      background-color: #E2EBFA;\n",
              "      box-shadow: 0px 1px 2px rgba(60, 64, 67, 0.3), 0px 1px 3px 1px rgba(60, 64, 67, 0.15);\n",
              "      fill: #174EA6;\n",
              "    }\n",
              "\n",
              "    [theme=dark] .colab-df-convert {\n",
              "      background-color: #3B4455;\n",
              "      fill: #D2E3FC;\n",
              "    }\n",
              "\n",
              "    [theme=dark] .colab-df-convert:hover {\n",
              "      background-color: #434B5C;\n",
              "      box-shadow: 0px 1px 3px 1px rgba(0, 0, 0, 0.15);\n",
              "      filter: drop-shadow(0px 1px 2px rgba(0, 0, 0, 0.3));\n",
              "      fill: #FFFFFF;\n",
              "    }\n",
              "  </style>\n",
              "\n",
              "      <script>\n",
              "        const buttonEl =\n",
              "          document.querySelector('#df-b18d04d6-cd05-4750-bbfa-493132864c5c button.colab-df-convert');\n",
              "        buttonEl.style.display =\n",
              "          google.colab.kernel.accessAllowed ? 'block' : 'none';\n",
              "\n",
              "        async function convertToInteractive(key) {\n",
              "          const element = document.querySelector('#df-b18d04d6-cd05-4750-bbfa-493132864c5c');\n",
              "          const dataTable =\n",
              "            await google.colab.kernel.invokeFunction('convertToInteractive',\n",
              "                                                     [key], {});\n",
              "          if (!dataTable) return;\n",
              "\n",
              "          const docLinkHtml = 'Like what you see? Visit the ' +\n",
              "            '<a target=\"_blank\" href=https://colab.research.google.com/notebooks/data_table.ipynb>data table notebook</a>'\n",
              "            + ' to learn more about interactive tables.';\n",
              "          element.innerHTML = '';\n",
              "          dataTable['output_type'] = 'display_data';\n",
              "          await google.colab.output.renderOutput(dataTable, element);\n",
              "          const docLink = document.createElement('div');\n",
              "          docLink.innerHTML = docLinkHtml;\n",
              "          element.appendChild(docLink);\n",
              "        }\n",
              "      </script>\n",
              "    </div>\n",
              "  </div>\n",
              "  "
            ]
          },
          "metadata": {},
          "execution_count": 14
        }
      ]
    },
    {
      "cell_type": "code",
      "source": [
        "KLUE_dataset.duplicated(['sentence1', 'sentence2']).sum()"
      ],
      "metadata": {
        "id": "HiMZ7OWQF_J_",
        "colab": {
          "base_uri": "https://localhost:8080/"
        },
        "outputId": "67dcdb4b-2711-4c56-ecf9-fcecc48982d5"
      },
      "execution_count": null,
      "outputs": [
        {
          "output_type": "execute_result",
          "data": {
            "text/plain": [
              "7"
            ]
          },
          "metadata": {},
          "execution_count": 15
        }
      ]
    },
    {
      "cell_type": "code",
      "source": [
        "KLUE_dataset = KLUE_dataset.drop_duplicates(['sentence1','sentence2'], keep='first', ignore_index=True)"
      ],
      "metadata": {
        "id": "_0wuO7CUGsVO"
      },
      "execution_count": null,
      "outputs": []
    },
    {
      "cell_type": "code",
      "source": [
        "labels = KLUE_dataset.labels.to_list()\n",
        "labels = pd.DataFrame(labels)\n",
        "print(len(labels))\n",
        "labels"
      ],
      "metadata": {
        "id": "aeBnG6AgGx1Q",
        "colab": {
          "base_uri": "https://localhost:8080/",
          "height": 442
        },
        "outputId": "76366746-270d-4934-dcba-a676914cb9ab"
      },
      "execution_count": null,
      "outputs": [
        {
          "output_type": "stream",
          "name": "stdout",
          "text": [
            "11661\n"
          ]
        },
        {
          "output_type": "execute_result",
          "data": {
            "text/plain": [
              "       label  real-label  binary-label\n",
              "0        3.7    3.714286             1\n",
              "1        0.0    0.000000             0\n",
              "2        0.3    0.333333             0\n",
              "3        0.6    0.571429             0\n",
              "4        4.7    4.714286             1\n",
              "...      ...         ...           ...\n",
              "11656    4.0    4.000000             1\n",
              "11657    0.0    0.000000             0\n",
              "11658    3.7    3.666667             1\n",
              "11659    4.7    4.714286             1\n",
              "11660    3.3    3.333333             1\n",
              "\n",
              "[11661 rows x 3 columns]"
            ],
            "text/html": [
              "\n",
              "  <div id=\"df-41083dff-3d0d-432f-9ad5-9229dd3ad113\">\n",
              "    <div class=\"colab-df-container\">\n",
              "      <div>\n",
              "<style scoped>\n",
              "    .dataframe tbody tr th:only-of-type {\n",
              "        vertical-align: middle;\n",
              "    }\n",
              "\n",
              "    .dataframe tbody tr th {\n",
              "        vertical-align: top;\n",
              "    }\n",
              "\n",
              "    .dataframe thead th {\n",
              "        text-align: right;\n",
              "    }\n",
              "</style>\n",
              "<table border=\"1\" class=\"dataframe\">\n",
              "  <thead>\n",
              "    <tr style=\"text-align: right;\">\n",
              "      <th></th>\n",
              "      <th>label</th>\n",
              "      <th>real-label</th>\n",
              "      <th>binary-label</th>\n",
              "    </tr>\n",
              "  </thead>\n",
              "  <tbody>\n",
              "    <tr>\n",
              "      <th>0</th>\n",
              "      <td>3.7</td>\n",
              "      <td>3.714286</td>\n",
              "      <td>1</td>\n",
              "    </tr>\n",
              "    <tr>\n",
              "      <th>1</th>\n",
              "      <td>0.0</td>\n",
              "      <td>0.000000</td>\n",
              "      <td>0</td>\n",
              "    </tr>\n",
              "    <tr>\n",
              "      <th>2</th>\n",
              "      <td>0.3</td>\n",
              "      <td>0.333333</td>\n",
              "      <td>0</td>\n",
              "    </tr>\n",
              "    <tr>\n",
              "      <th>3</th>\n",
              "      <td>0.6</td>\n",
              "      <td>0.571429</td>\n",
              "      <td>0</td>\n",
              "    </tr>\n",
              "    <tr>\n",
              "      <th>4</th>\n",
              "      <td>4.7</td>\n",
              "      <td>4.714286</td>\n",
              "      <td>1</td>\n",
              "    </tr>\n",
              "    <tr>\n",
              "      <th>...</th>\n",
              "      <td>...</td>\n",
              "      <td>...</td>\n",
              "      <td>...</td>\n",
              "    </tr>\n",
              "    <tr>\n",
              "      <th>11656</th>\n",
              "      <td>4.0</td>\n",
              "      <td>4.000000</td>\n",
              "      <td>1</td>\n",
              "    </tr>\n",
              "    <tr>\n",
              "      <th>11657</th>\n",
              "      <td>0.0</td>\n",
              "      <td>0.000000</td>\n",
              "      <td>0</td>\n",
              "    </tr>\n",
              "    <tr>\n",
              "      <th>11658</th>\n",
              "      <td>3.7</td>\n",
              "      <td>3.666667</td>\n",
              "      <td>1</td>\n",
              "    </tr>\n",
              "    <tr>\n",
              "      <th>11659</th>\n",
              "      <td>4.7</td>\n",
              "      <td>4.714286</td>\n",
              "      <td>1</td>\n",
              "    </tr>\n",
              "    <tr>\n",
              "      <th>11660</th>\n",
              "      <td>3.3</td>\n",
              "      <td>3.333333</td>\n",
              "      <td>1</td>\n",
              "    </tr>\n",
              "  </tbody>\n",
              "</table>\n",
              "<p>11661 rows × 3 columns</p>\n",
              "</div>\n",
              "      <button class=\"colab-df-convert\" onclick=\"convertToInteractive('df-41083dff-3d0d-432f-9ad5-9229dd3ad113')\"\n",
              "              title=\"Convert this dataframe to an interactive table.\"\n",
              "              style=\"display:none;\">\n",
              "        \n",
              "  <svg xmlns=\"http://www.w3.org/2000/svg\" height=\"24px\"viewBox=\"0 0 24 24\"\n",
              "       width=\"24px\">\n",
              "    <path d=\"M0 0h24v24H0V0z\" fill=\"none\"/>\n",
              "    <path d=\"M18.56 5.44l.94 2.06.94-2.06 2.06-.94-2.06-.94-.94-2.06-.94 2.06-2.06.94zm-11 1L8.5 8.5l.94-2.06 2.06-.94-2.06-.94L8.5 2.5l-.94 2.06-2.06.94zm10 10l.94 2.06.94-2.06 2.06-.94-2.06-.94-.94-2.06-.94 2.06-2.06.94z\"/><path d=\"M17.41 7.96l-1.37-1.37c-.4-.4-.92-.59-1.43-.59-.52 0-1.04.2-1.43.59L10.3 9.45l-7.72 7.72c-.78.78-.78 2.05 0 2.83L4 21.41c.39.39.9.59 1.41.59.51 0 1.02-.2 1.41-.59l7.78-7.78 2.81-2.81c.8-.78.8-2.07 0-2.86zM5.41 20L4 18.59l7.72-7.72 1.47 1.35L5.41 20z\"/>\n",
              "  </svg>\n",
              "      </button>\n",
              "      \n",
              "  <style>\n",
              "    .colab-df-container {\n",
              "      display:flex;\n",
              "      flex-wrap:wrap;\n",
              "      gap: 12px;\n",
              "    }\n",
              "\n",
              "    .colab-df-convert {\n",
              "      background-color: #E8F0FE;\n",
              "      border: none;\n",
              "      border-radius: 50%;\n",
              "      cursor: pointer;\n",
              "      display: none;\n",
              "      fill: #1967D2;\n",
              "      height: 32px;\n",
              "      padding: 0 0 0 0;\n",
              "      width: 32px;\n",
              "    }\n",
              "\n",
              "    .colab-df-convert:hover {\n",
              "      background-color: #E2EBFA;\n",
              "      box-shadow: 0px 1px 2px rgba(60, 64, 67, 0.3), 0px 1px 3px 1px rgba(60, 64, 67, 0.15);\n",
              "      fill: #174EA6;\n",
              "    }\n",
              "\n",
              "    [theme=dark] .colab-df-convert {\n",
              "      background-color: #3B4455;\n",
              "      fill: #D2E3FC;\n",
              "    }\n",
              "\n",
              "    [theme=dark] .colab-df-convert:hover {\n",
              "      background-color: #434B5C;\n",
              "      box-shadow: 0px 1px 3px 1px rgba(0, 0, 0, 0.15);\n",
              "      filter: drop-shadow(0px 1px 2px rgba(0, 0, 0, 0.3));\n",
              "      fill: #FFFFFF;\n",
              "    }\n",
              "  </style>\n",
              "\n",
              "      <script>\n",
              "        const buttonEl =\n",
              "          document.querySelector('#df-41083dff-3d0d-432f-9ad5-9229dd3ad113 button.colab-df-convert');\n",
              "        buttonEl.style.display =\n",
              "          google.colab.kernel.accessAllowed ? 'block' : 'none';\n",
              "\n",
              "        async function convertToInteractive(key) {\n",
              "          const element = document.querySelector('#df-41083dff-3d0d-432f-9ad5-9229dd3ad113');\n",
              "          const dataTable =\n",
              "            await google.colab.kernel.invokeFunction('convertToInteractive',\n",
              "                                                     [key], {});\n",
              "          if (!dataTable) return;\n",
              "\n",
              "          const docLinkHtml = 'Like what you see? Visit the ' +\n",
              "            '<a target=\"_blank\" href=https://colab.research.google.com/notebooks/data_table.ipynb>data table notebook</a>'\n",
              "            + ' to learn more about interactive tables.';\n",
              "          element.innerHTML = '';\n",
              "          dataTable['output_type'] = 'display_data';\n",
              "          await google.colab.output.renderOutput(dataTable, element);\n",
              "          const docLink = document.createElement('div');\n",
              "          docLink.innerHTML = docLinkHtml;\n",
              "          element.appendChild(docLink);\n",
              "        }\n",
              "      </script>\n",
              "    </div>\n",
              "  </div>\n",
              "  "
            ]
          },
          "metadata": {},
          "execution_count": 17
        }
      ]
    },
    {
      "cell_type": "code",
      "source": [
        "KLUE_dataset = KLUE_dataset[['sentence1', 'sentence2']].join(labels[['real-label']])\n",
        "KLUE_dataset.head()"
      ],
      "metadata": {
        "id": "ZUYxBvXrHxrq",
        "colab": {
          "base_uri": "https://localhost:8080/",
          "height": 206
        },
        "outputId": "921c49eb-b93c-49ae-e725-6ffc1fa8d12a"
      },
      "execution_count": null,
      "outputs": [
        {
          "output_type": "execute_result",
          "data": {
            "text/plain": [
              "                                           sentence1  \\\n",
              "0                   숙소 위치는 찾기 쉽고 일반적인 한국의 반지하 숙소입니다.   \n",
              "1      위반행위 조사 등을 거부·방해·기피한 자는 500만원 이하 과태료 부과 대상이다.   \n",
              "2            회사가 보낸 메일은 이 지메일이 아니라 다른 지메일 계정으로 전달해줘.   \n",
              "3  긴급 고용안정지원금은 지역고용대응 등 특별지원금, 지자체별 소상공인 지원사업, 취업...   \n",
              "4                        호스트의 답장이 늦으나, 개선될 것으로 보입니다.   \n",
              "\n",
              "                                    sentence2  real-label  \n",
              "0  숙박시설의 위치는 쉽게 찾을 수 있고 한국의 대표적인 반지하 숙박시설입니다.    3.714286  \n",
              "1       시민들 스스로 자발적인 예방 노력을 한 것은 아산 뿐만이 아니었다.    0.000000  \n",
              "2                  사람들이 주로 네이버 메일을 쓰는 이유를 알려줘    0.333333  \n",
              "3   고용보험이 1차 고용안전망이라면, 국민취업지원제도는 2차 고용안전망입니다.    0.571429  \n",
              "4                  호스트 응답이 늦었지만 개선될 것으로 보입니다.    4.714286  "
            ],
            "text/html": [
              "\n",
              "  <div id=\"df-64fa02ec-6b21-47b6-b8da-72ef193919e8\">\n",
              "    <div class=\"colab-df-container\">\n",
              "      <div>\n",
              "<style scoped>\n",
              "    .dataframe tbody tr th:only-of-type {\n",
              "        vertical-align: middle;\n",
              "    }\n",
              "\n",
              "    .dataframe tbody tr th {\n",
              "        vertical-align: top;\n",
              "    }\n",
              "\n",
              "    .dataframe thead th {\n",
              "        text-align: right;\n",
              "    }\n",
              "</style>\n",
              "<table border=\"1\" class=\"dataframe\">\n",
              "  <thead>\n",
              "    <tr style=\"text-align: right;\">\n",
              "      <th></th>\n",
              "      <th>sentence1</th>\n",
              "      <th>sentence2</th>\n",
              "      <th>real-label</th>\n",
              "    </tr>\n",
              "  </thead>\n",
              "  <tbody>\n",
              "    <tr>\n",
              "      <th>0</th>\n",
              "      <td>숙소 위치는 찾기 쉽고 일반적인 한국의 반지하 숙소입니다.</td>\n",
              "      <td>숙박시설의 위치는 쉽게 찾을 수 있고 한국의 대표적인 반지하 숙박시설입니다.</td>\n",
              "      <td>3.714286</td>\n",
              "    </tr>\n",
              "    <tr>\n",
              "      <th>1</th>\n",
              "      <td>위반행위 조사 등을 거부·방해·기피한 자는 500만원 이하 과태료 부과 대상이다.</td>\n",
              "      <td>시민들 스스로 자발적인 예방 노력을 한 것은 아산 뿐만이 아니었다.</td>\n",
              "      <td>0.000000</td>\n",
              "    </tr>\n",
              "    <tr>\n",
              "      <th>2</th>\n",
              "      <td>회사가 보낸 메일은 이 지메일이 아니라 다른 지메일 계정으로 전달해줘.</td>\n",
              "      <td>사람들이 주로 네이버 메일을 쓰는 이유를 알려줘</td>\n",
              "      <td>0.333333</td>\n",
              "    </tr>\n",
              "    <tr>\n",
              "      <th>3</th>\n",
              "      <td>긴급 고용안정지원금은 지역고용대응 등 특별지원금, 지자체별 소상공인 지원사업, 취업...</td>\n",
              "      <td>고용보험이 1차 고용안전망이라면, 국민취업지원제도는 2차 고용안전망입니다.</td>\n",
              "      <td>0.571429</td>\n",
              "    </tr>\n",
              "    <tr>\n",
              "      <th>4</th>\n",
              "      <td>호스트의 답장이 늦으나, 개선될 것으로 보입니다.</td>\n",
              "      <td>호스트 응답이 늦었지만 개선될 것으로 보입니다.</td>\n",
              "      <td>4.714286</td>\n",
              "    </tr>\n",
              "  </tbody>\n",
              "</table>\n",
              "</div>\n",
              "      <button class=\"colab-df-convert\" onclick=\"convertToInteractive('df-64fa02ec-6b21-47b6-b8da-72ef193919e8')\"\n",
              "              title=\"Convert this dataframe to an interactive table.\"\n",
              "              style=\"display:none;\">\n",
              "        \n",
              "  <svg xmlns=\"http://www.w3.org/2000/svg\" height=\"24px\"viewBox=\"0 0 24 24\"\n",
              "       width=\"24px\">\n",
              "    <path d=\"M0 0h24v24H0V0z\" fill=\"none\"/>\n",
              "    <path d=\"M18.56 5.44l.94 2.06.94-2.06 2.06-.94-2.06-.94-.94-2.06-.94 2.06-2.06.94zm-11 1L8.5 8.5l.94-2.06 2.06-.94-2.06-.94L8.5 2.5l-.94 2.06-2.06.94zm10 10l.94 2.06.94-2.06 2.06-.94-2.06-.94-.94-2.06-.94 2.06-2.06.94z\"/><path d=\"M17.41 7.96l-1.37-1.37c-.4-.4-.92-.59-1.43-.59-.52 0-1.04.2-1.43.59L10.3 9.45l-7.72 7.72c-.78.78-.78 2.05 0 2.83L4 21.41c.39.39.9.59 1.41.59.51 0 1.02-.2 1.41-.59l7.78-7.78 2.81-2.81c.8-.78.8-2.07 0-2.86zM5.41 20L4 18.59l7.72-7.72 1.47 1.35L5.41 20z\"/>\n",
              "  </svg>\n",
              "      </button>\n",
              "      \n",
              "  <style>\n",
              "    .colab-df-container {\n",
              "      display:flex;\n",
              "      flex-wrap:wrap;\n",
              "      gap: 12px;\n",
              "    }\n",
              "\n",
              "    .colab-df-convert {\n",
              "      background-color: #E8F0FE;\n",
              "      border: none;\n",
              "      border-radius: 50%;\n",
              "      cursor: pointer;\n",
              "      display: none;\n",
              "      fill: #1967D2;\n",
              "      height: 32px;\n",
              "      padding: 0 0 0 0;\n",
              "      width: 32px;\n",
              "    }\n",
              "\n",
              "    .colab-df-convert:hover {\n",
              "      background-color: #E2EBFA;\n",
              "      box-shadow: 0px 1px 2px rgba(60, 64, 67, 0.3), 0px 1px 3px 1px rgba(60, 64, 67, 0.15);\n",
              "      fill: #174EA6;\n",
              "    }\n",
              "\n",
              "    [theme=dark] .colab-df-convert {\n",
              "      background-color: #3B4455;\n",
              "      fill: #D2E3FC;\n",
              "    }\n",
              "\n",
              "    [theme=dark] .colab-df-convert:hover {\n",
              "      background-color: #434B5C;\n",
              "      box-shadow: 0px 1px 3px 1px rgba(0, 0, 0, 0.15);\n",
              "      filter: drop-shadow(0px 1px 2px rgba(0, 0, 0, 0.3));\n",
              "      fill: #FFFFFF;\n",
              "    }\n",
              "  </style>\n",
              "\n",
              "      <script>\n",
              "        const buttonEl =\n",
              "          document.querySelector('#df-64fa02ec-6b21-47b6-b8da-72ef193919e8 button.colab-df-convert');\n",
              "        buttonEl.style.display =\n",
              "          google.colab.kernel.accessAllowed ? 'block' : 'none';\n",
              "\n",
              "        async function convertToInteractive(key) {\n",
              "          const element = document.querySelector('#df-64fa02ec-6b21-47b6-b8da-72ef193919e8');\n",
              "          const dataTable =\n",
              "            await google.colab.kernel.invokeFunction('convertToInteractive',\n",
              "                                                     [key], {});\n",
              "          if (!dataTable) return;\n",
              "\n",
              "          const docLinkHtml = 'Like what you see? Visit the ' +\n",
              "            '<a target=\"_blank\" href=https://colab.research.google.com/notebooks/data_table.ipynb>data table notebook</a>'\n",
              "            + ' to learn more about interactive tables.';\n",
              "          element.innerHTML = '';\n",
              "          dataTable['output_type'] = 'display_data';\n",
              "          await google.colab.output.renderOutput(dataTable, element);\n",
              "          const docLink = document.createElement('div');\n",
              "          docLink.innerHTML = docLinkHtml;\n",
              "          element.appendChild(docLink);\n",
              "        }\n",
              "      </script>\n",
              "    </div>\n",
              "  </div>\n",
              "  "
            ]
          },
          "metadata": {},
          "execution_count": 18
        }
      ]
    },
    {
      "cell_type": "code",
      "source": [
        "!git clone https://github.com/kakaobrain/KorNLUDatasets/"
      ],
      "metadata": {
        "id": "dkAJL8CW3fbj",
        "colab": {
          "base_uri": "https://localhost:8080/"
        },
        "outputId": "d021e7da-dd84-48e7-ca81-9f5011fe9214"
      },
      "execution_count": null,
      "outputs": [
        {
          "output_type": "stream",
          "name": "stdout",
          "text": [
            "fatal: destination path 'KorNLUDatasets' already exists and is not an empty directory.\n"
          ]
        }
      ]
    },
    {
      "cell_type": "code",
      "source": [
        "!git clone https://github.com/warnikchow/paraKQC"
      ],
      "metadata": {
        "id": "gOYFrFS89maM",
        "colab": {
          "base_uri": "https://localhost:8080/"
        },
        "outputId": "484ea918-d32a-47f3-bbe8-88086eabc12f"
      },
      "execution_count": null,
      "outputs": [
        {
          "output_type": "stream",
          "name": "stdout",
          "text": [
            "fatal: destination path 'paraKQC' already exists and is not an empty directory.\n"
          ]
        }
      ]
    },
    {
      "cell_type": "code",
      "source": [
        "dir = '/content/KorNLUDatasets/KorSTS/sts-train.tsv'"
      ],
      "metadata": {
        "id": "GB7-NVAf-Mtq"
      },
      "execution_count": null,
      "outputs": []
    },
    {
      "cell_type": "code",
      "source": [
        "Korsts_dataset = pd.read_csv(dir, delimiter=\"\\t+\")"
      ],
      "metadata": {
        "id": "udT_aTRO-SpG",
        "colab": {
          "base_uri": "https://localhost:8080/"
        },
        "outputId": "c3b3db2a-ba08-40db-ed5a-a1ed81e7e625"
      },
      "execution_count": null,
      "outputs": [
        {
          "output_type": "stream",
          "name": "stderr",
          "text": [
            "/usr/local/lib/python3.7/dist-packages/pandas/util/_decorators.py:311: ParserWarning: Falling back to the 'python' engine because the 'c' engine does not support regex separators (separators > 1 char and different from '\\s+' are interpreted as regex); you can avoid this warning by specifying engine='python'.\n",
            "  return func(*args, **kwargs)\n"
          ]
        }
      ]
    },
    {
      "cell_type": "code",
      "source": [
        "Korsts_dataset.shape"
      ],
      "metadata": {
        "id": "E9DFzFc4ABpP",
        "colab": {
          "base_uri": "https://localhost:8080/"
        },
        "outputId": "91723ea6-b0da-4030-f7d2-221681d208c6"
      },
      "execution_count": null,
      "outputs": [
        {
          "output_type": "execute_result",
          "data": {
            "text/plain": [
              "(5749, 7)"
            ]
          },
          "metadata": {},
          "execution_count": 23
        }
      ]
    },
    {
      "cell_type": "code",
      "source": [
        "Korsts_dataset.head()"
      ],
      "metadata": {
        "id": "FxVmYqk8AFiy",
        "colab": {
          "base_uri": "https://localhost:8080/",
          "height": 206
        },
        "outputId": "e3330fdb-181a-4be6-a4a4-4e4e8ffba58a"
      },
      "execution_count": null,
      "outputs": [
        {
          "output_type": "execute_result",
          "data": {
            "text/plain": [
              "           genre filename      year  id  score               sentence1  \\\n",
              "0  main-captions   MSRvid  2012test   1   5.00           비행기가 이륙하고 있다.   \n",
              "1  main-captions   MSRvid  2012test   4   3.80   한 남자가 큰 플루트를 연주하고 있다.   \n",
              "2  main-captions   MSRvid  2012test   5   3.80  한 남자가 피자에 치즈를 뿌려놓고 있다.   \n",
              "3  main-captions   MSRvid  2012test   6   2.60        세 남자가 체스를 하고 있다.   \n",
              "4  main-captions   MSRvid  2012test   9   4.25      한 남자가 첼로를 연주하고 있다.   \n",
              "\n",
              "                      sentence2  \n",
              "0                 비행기가 이륙하고 있다.  \n",
              "1             남자가 플루트를 연주하고 있다.  \n",
              "2  한 남자가 구운 피자에 치즈 조각을 뿌려놓고 있다.  \n",
              "3              두 남자가 체스를 하고 있다.  \n",
              "4       자리에 앉은 남자가 첼로를 연주하고 있다.  "
            ],
            "text/html": [
              "\n",
              "  <div id=\"df-e846a322-bcc4-4a20-97b2-e4d621e9d968\">\n",
              "    <div class=\"colab-df-container\">\n",
              "      <div>\n",
              "<style scoped>\n",
              "    .dataframe tbody tr th:only-of-type {\n",
              "        vertical-align: middle;\n",
              "    }\n",
              "\n",
              "    .dataframe tbody tr th {\n",
              "        vertical-align: top;\n",
              "    }\n",
              "\n",
              "    .dataframe thead th {\n",
              "        text-align: right;\n",
              "    }\n",
              "</style>\n",
              "<table border=\"1\" class=\"dataframe\">\n",
              "  <thead>\n",
              "    <tr style=\"text-align: right;\">\n",
              "      <th></th>\n",
              "      <th>genre</th>\n",
              "      <th>filename</th>\n",
              "      <th>year</th>\n",
              "      <th>id</th>\n",
              "      <th>score</th>\n",
              "      <th>sentence1</th>\n",
              "      <th>sentence2</th>\n",
              "    </tr>\n",
              "  </thead>\n",
              "  <tbody>\n",
              "    <tr>\n",
              "      <th>0</th>\n",
              "      <td>main-captions</td>\n",
              "      <td>MSRvid</td>\n",
              "      <td>2012test</td>\n",
              "      <td>1</td>\n",
              "      <td>5.00</td>\n",
              "      <td>비행기가 이륙하고 있다.</td>\n",
              "      <td>비행기가 이륙하고 있다.</td>\n",
              "    </tr>\n",
              "    <tr>\n",
              "      <th>1</th>\n",
              "      <td>main-captions</td>\n",
              "      <td>MSRvid</td>\n",
              "      <td>2012test</td>\n",
              "      <td>4</td>\n",
              "      <td>3.80</td>\n",
              "      <td>한 남자가 큰 플루트를 연주하고 있다.</td>\n",
              "      <td>남자가 플루트를 연주하고 있다.</td>\n",
              "    </tr>\n",
              "    <tr>\n",
              "      <th>2</th>\n",
              "      <td>main-captions</td>\n",
              "      <td>MSRvid</td>\n",
              "      <td>2012test</td>\n",
              "      <td>5</td>\n",
              "      <td>3.80</td>\n",
              "      <td>한 남자가 피자에 치즈를 뿌려놓고 있다.</td>\n",
              "      <td>한 남자가 구운 피자에 치즈 조각을 뿌려놓고 있다.</td>\n",
              "    </tr>\n",
              "    <tr>\n",
              "      <th>3</th>\n",
              "      <td>main-captions</td>\n",
              "      <td>MSRvid</td>\n",
              "      <td>2012test</td>\n",
              "      <td>6</td>\n",
              "      <td>2.60</td>\n",
              "      <td>세 남자가 체스를 하고 있다.</td>\n",
              "      <td>두 남자가 체스를 하고 있다.</td>\n",
              "    </tr>\n",
              "    <tr>\n",
              "      <th>4</th>\n",
              "      <td>main-captions</td>\n",
              "      <td>MSRvid</td>\n",
              "      <td>2012test</td>\n",
              "      <td>9</td>\n",
              "      <td>4.25</td>\n",
              "      <td>한 남자가 첼로를 연주하고 있다.</td>\n",
              "      <td>자리에 앉은 남자가 첼로를 연주하고 있다.</td>\n",
              "    </tr>\n",
              "  </tbody>\n",
              "</table>\n",
              "</div>\n",
              "      <button class=\"colab-df-convert\" onclick=\"convertToInteractive('df-e846a322-bcc4-4a20-97b2-e4d621e9d968')\"\n",
              "              title=\"Convert this dataframe to an interactive table.\"\n",
              "              style=\"display:none;\">\n",
              "        \n",
              "  <svg xmlns=\"http://www.w3.org/2000/svg\" height=\"24px\"viewBox=\"0 0 24 24\"\n",
              "       width=\"24px\">\n",
              "    <path d=\"M0 0h24v24H0V0z\" fill=\"none\"/>\n",
              "    <path d=\"M18.56 5.44l.94 2.06.94-2.06 2.06-.94-2.06-.94-.94-2.06-.94 2.06-2.06.94zm-11 1L8.5 8.5l.94-2.06 2.06-.94-2.06-.94L8.5 2.5l-.94 2.06-2.06.94zm10 10l.94 2.06.94-2.06 2.06-.94-2.06-.94-.94-2.06-.94 2.06-2.06.94z\"/><path d=\"M17.41 7.96l-1.37-1.37c-.4-.4-.92-.59-1.43-.59-.52 0-1.04.2-1.43.59L10.3 9.45l-7.72 7.72c-.78.78-.78 2.05 0 2.83L4 21.41c.39.39.9.59 1.41.59.51 0 1.02-.2 1.41-.59l7.78-7.78 2.81-2.81c.8-.78.8-2.07 0-2.86zM5.41 20L4 18.59l7.72-7.72 1.47 1.35L5.41 20z\"/>\n",
              "  </svg>\n",
              "      </button>\n",
              "      \n",
              "  <style>\n",
              "    .colab-df-container {\n",
              "      display:flex;\n",
              "      flex-wrap:wrap;\n",
              "      gap: 12px;\n",
              "    }\n",
              "\n",
              "    .colab-df-convert {\n",
              "      background-color: #E8F0FE;\n",
              "      border: none;\n",
              "      border-radius: 50%;\n",
              "      cursor: pointer;\n",
              "      display: none;\n",
              "      fill: #1967D2;\n",
              "      height: 32px;\n",
              "      padding: 0 0 0 0;\n",
              "      width: 32px;\n",
              "    }\n",
              "\n",
              "    .colab-df-convert:hover {\n",
              "      background-color: #E2EBFA;\n",
              "      box-shadow: 0px 1px 2px rgba(60, 64, 67, 0.3), 0px 1px 3px 1px rgba(60, 64, 67, 0.15);\n",
              "      fill: #174EA6;\n",
              "    }\n",
              "\n",
              "    [theme=dark] .colab-df-convert {\n",
              "      background-color: #3B4455;\n",
              "      fill: #D2E3FC;\n",
              "    }\n",
              "\n",
              "    [theme=dark] .colab-df-convert:hover {\n",
              "      background-color: #434B5C;\n",
              "      box-shadow: 0px 1px 3px 1px rgba(0, 0, 0, 0.15);\n",
              "      filter: drop-shadow(0px 1px 2px rgba(0, 0, 0, 0.3));\n",
              "      fill: #FFFFFF;\n",
              "    }\n",
              "  </style>\n",
              "\n",
              "      <script>\n",
              "        const buttonEl =\n",
              "          document.querySelector('#df-e846a322-bcc4-4a20-97b2-e4d621e9d968 button.colab-df-convert');\n",
              "        buttonEl.style.display =\n",
              "          google.colab.kernel.accessAllowed ? 'block' : 'none';\n",
              "\n",
              "        async function convertToInteractive(key) {\n",
              "          const element = document.querySelector('#df-e846a322-bcc4-4a20-97b2-e4d621e9d968');\n",
              "          const dataTable =\n",
              "            await google.colab.kernel.invokeFunction('convertToInteractive',\n",
              "                                                     [key], {});\n",
              "          if (!dataTable) return;\n",
              "\n",
              "          const docLinkHtml = 'Like what you see? Visit the ' +\n",
              "            '<a target=\"_blank\" href=https://colab.research.google.com/notebooks/data_table.ipynb>data table notebook</a>'\n",
              "            + ' to learn more about interactive tables.';\n",
              "          element.innerHTML = '';\n",
              "          dataTable['output_type'] = 'display_data';\n",
              "          await google.colab.output.renderOutput(dataTable, element);\n",
              "          const docLink = document.createElement('div');\n",
              "          docLink.innerHTML = docLinkHtml;\n",
              "          element.appendChild(docLink);\n",
              "        }\n",
              "      </script>\n",
              "    </div>\n",
              "  </div>\n",
              "  "
            ]
          },
          "metadata": {},
          "execution_count": 24
        }
      ]
    },
    {
      "cell_type": "code",
      "source": [
        "Korsts_dataset = Korsts_dataset.drop_duplicates(['sentence1','sentence2'], keep='first', ignore_index=True)"
      ],
      "metadata": {
        "id": "7fjRgHdO_f8e"
      },
      "execution_count": null,
      "outputs": []
    },
    {
      "cell_type": "code",
      "source": [
        "Korsts_dataset.isnull().sum()"
      ],
      "metadata": {
        "id": "juIs7vfeBFVt",
        "colab": {
          "base_uri": "https://localhost:8080/"
        },
        "outputId": "db4ebdd9-307d-46c0-e4cf-b3b0c2fd3a1c"
      },
      "execution_count": null,
      "outputs": [
        {
          "output_type": "execute_result",
          "data": {
            "text/plain": [
              "genre        0\n",
              "filename     0\n",
              "year         0\n",
              "id           0\n",
              "score        0\n",
              "sentence1    0\n",
              "sentence2    0\n",
              "dtype: int64"
            ]
          },
          "metadata": {},
          "execution_count": 26
        }
      ]
    },
    {
      "cell_type": "code",
      "source": [
        "Korsts_dataset.rename(columns = {'score':'real-label'},inplace=True)"
      ],
      "metadata": {
        "id": "xv5EaslRBJHG"
      },
      "execution_count": null,
      "outputs": []
    },
    {
      "cell_type": "code",
      "source": [
        "Korsts_dataset = Korsts_dataset[['sentence1', 'sentence2', 'real-label']]\n",
        "Korsts_dataset.head()"
      ],
      "metadata": {
        "id": "6riTejKvAsLh",
        "colab": {
          "base_uri": "https://localhost:8080/",
          "height": 206
        },
        "outputId": "2db70fcb-55e2-474e-92ff-f1ef8f716406"
      },
      "execution_count": null,
      "outputs": [
        {
          "output_type": "execute_result",
          "data": {
            "text/plain": [
              "                sentence1                     sentence2  real-label\n",
              "0           비행기가 이륙하고 있다.                 비행기가 이륙하고 있다.        5.00\n",
              "1   한 남자가 큰 플루트를 연주하고 있다.             남자가 플루트를 연주하고 있다.        3.80\n",
              "2  한 남자가 피자에 치즈를 뿌려놓고 있다.  한 남자가 구운 피자에 치즈 조각을 뿌려놓고 있다.        3.80\n",
              "3        세 남자가 체스를 하고 있다.              두 남자가 체스를 하고 있다.        2.60\n",
              "4      한 남자가 첼로를 연주하고 있다.       자리에 앉은 남자가 첼로를 연주하고 있다.        4.25"
            ],
            "text/html": [
              "\n",
              "  <div id=\"df-866b71d5-7a9f-41c6-9980-beb4245ba659\">\n",
              "    <div class=\"colab-df-container\">\n",
              "      <div>\n",
              "<style scoped>\n",
              "    .dataframe tbody tr th:only-of-type {\n",
              "        vertical-align: middle;\n",
              "    }\n",
              "\n",
              "    .dataframe tbody tr th {\n",
              "        vertical-align: top;\n",
              "    }\n",
              "\n",
              "    .dataframe thead th {\n",
              "        text-align: right;\n",
              "    }\n",
              "</style>\n",
              "<table border=\"1\" class=\"dataframe\">\n",
              "  <thead>\n",
              "    <tr style=\"text-align: right;\">\n",
              "      <th></th>\n",
              "      <th>sentence1</th>\n",
              "      <th>sentence2</th>\n",
              "      <th>real-label</th>\n",
              "    </tr>\n",
              "  </thead>\n",
              "  <tbody>\n",
              "    <tr>\n",
              "      <th>0</th>\n",
              "      <td>비행기가 이륙하고 있다.</td>\n",
              "      <td>비행기가 이륙하고 있다.</td>\n",
              "      <td>5.00</td>\n",
              "    </tr>\n",
              "    <tr>\n",
              "      <th>1</th>\n",
              "      <td>한 남자가 큰 플루트를 연주하고 있다.</td>\n",
              "      <td>남자가 플루트를 연주하고 있다.</td>\n",
              "      <td>3.80</td>\n",
              "    </tr>\n",
              "    <tr>\n",
              "      <th>2</th>\n",
              "      <td>한 남자가 피자에 치즈를 뿌려놓고 있다.</td>\n",
              "      <td>한 남자가 구운 피자에 치즈 조각을 뿌려놓고 있다.</td>\n",
              "      <td>3.80</td>\n",
              "    </tr>\n",
              "    <tr>\n",
              "      <th>3</th>\n",
              "      <td>세 남자가 체스를 하고 있다.</td>\n",
              "      <td>두 남자가 체스를 하고 있다.</td>\n",
              "      <td>2.60</td>\n",
              "    </tr>\n",
              "    <tr>\n",
              "      <th>4</th>\n",
              "      <td>한 남자가 첼로를 연주하고 있다.</td>\n",
              "      <td>자리에 앉은 남자가 첼로를 연주하고 있다.</td>\n",
              "      <td>4.25</td>\n",
              "    </tr>\n",
              "  </tbody>\n",
              "</table>\n",
              "</div>\n",
              "      <button class=\"colab-df-convert\" onclick=\"convertToInteractive('df-866b71d5-7a9f-41c6-9980-beb4245ba659')\"\n",
              "              title=\"Convert this dataframe to an interactive table.\"\n",
              "              style=\"display:none;\">\n",
              "        \n",
              "  <svg xmlns=\"http://www.w3.org/2000/svg\" height=\"24px\"viewBox=\"0 0 24 24\"\n",
              "       width=\"24px\">\n",
              "    <path d=\"M0 0h24v24H0V0z\" fill=\"none\"/>\n",
              "    <path d=\"M18.56 5.44l.94 2.06.94-2.06 2.06-.94-2.06-.94-.94-2.06-.94 2.06-2.06.94zm-11 1L8.5 8.5l.94-2.06 2.06-.94-2.06-.94L8.5 2.5l-.94 2.06-2.06.94zm10 10l.94 2.06.94-2.06 2.06-.94-2.06-.94-.94-2.06-.94 2.06-2.06.94z\"/><path d=\"M17.41 7.96l-1.37-1.37c-.4-.4-.92-.59-1.43-.59-.52 0-1.04.2-1.43.59L10.3 9.45l-7.72 7.72c-.78.78-.78 2.05 0 2.83L4 21.41c.39.39.9.59 1.41.59.51 0 1.02-.2 1.41-.59l7.78-7.78 2.81-2.81c.8-.78.8-2.07 0-2.86zM5.41 20L4 18.59l7.72-7.72 1.47 1.35L5.41 20z\"/>\n",
              "  </svg>\n",
              "      </button>\n",
              "      \n",
              "  <style>\n",
              "    .colab-df-container {\n",
              "      display:flex;\n",
              "      flex-wrap:wrap;\n",
              "      gap: 12px;\n",
              "    }\n",
              "\n",
              "    .colab-df-convert {\n",
              "      background-color: #E8F0FE;\n",
              "      border: none;\n",
              "      border-radius: 50%;\n",
              "      cursor: pointer;\n",
              "      display: none;\n",
              "      fill: #1967D2;\n",
              "      height: 32px;\n",
              "      padding: 0 0 0 0;\n",
              "      width: 32px;\n",
              "    }\n",
              "\n",
              "    .colab-df-convert:hover {\n",
              "      background-color: #E2EBFA;\n",
              "      box-shadow: 0px 1px 2px rgba(60, 64, 67, 0.3), 0px 1px 3px 1px rgba(60, 64, 67, 0.15);\n",
              "      fill: #174EA6;\n",
              "    }\n",
              "\n",
              "    [theme=dark] .colab-df-convert {\n",
              "      background-color: #3B4455;\n",
              "      fill: #D2E3FC;\n",
              "    }\n",
              "\n",
              "    [theme=dark] .colab-df-convert:hover {\n",
              "      background-color: #434B5C;\n",
              "      box-shadow: 0px 1px 3px 1px rgba(0, 0, 0, 0.15);\n",
              "      filter: drop-shadow(0px 1px 2px rgba(0, 0, 0, 0.3));\n",
              "      fill: #FFFFFF;\n",
              "    }\n",
              "  </style>\n",
              "\n",
              "      <script>\n",
              "        const buttonEl =\n",
              "          document.querySelector('#df-866b71d5-7a9f-41c6-9980-beb4245ba659 button.colab-df-convert');\n",
              "        buttonEl.style.display =\n",
              "          google.colab.kernel.accessAllowed ? 'block' : 'none';\n",
              "\n",
              "        async function convertToInteractive(key) {\n",
              "          const element = document.querySelector('#df-866b71d5-7a9f-41c6-9980-beb4245ba659');\n",
              "          const dataTable =\n",
              "            await google.colab.kernel.invokeFunction('convertToInteractive',\n",
              "                                                     [key], {});\n",
              "          if (!dataTable) return;\n",
              "\n",
              "          const docLinkHtml = 'Like what you see? Visit the ' +\n",
              "            '<a target=\"_blank\" href=https://colab.research.google.com/notebooks/data_table.ipynb>data table notebook</a>'\n",
              "            + ' to learn more about interactive tables.';\n",
              "          element.innerHTML = '';\n",
              "          dataTable['output_type'] = 'display_data';\n",
              "          await google.colab.output.renderOutput(dataTable, element);\n",
              "          const docLink = document.createElement('div');\n",
              "          docLink.innerHTML = docLinkHtml;\n",
              "          element.appendChild(docLink);\n",
              "        }\n",
              "      </script>\n",
              "    </div>\n",
              "  </div>\n",
              "  "
            ]
          },
          "metadata": {},
          "execution_count": 28
        }
      ]
    },
    {
      "cell_type": "code",
      "source": [
        "dir2 = '/content/paraKQC/data/paraKQC_v1.txt'"
      ],
      "metadata": {
        "id": "JgegVrDaDeq0"
      },
      "execution_count": null,
      "outputs": []
    },
    {
      "cell_type": "code",
      "source": [
        "ParaKQC_raw = pd.read_csv(dir2, sep=\"\\t\")"
      ],
      "metadata": {
        "id": "abaTytbQI84G"
      },
      "execution_count": null,
      "outputs": []
    },
    {
      "cell_type": "code",
      "source": [
        "ParaKQC_raw.head()"
      ],
      "metadata": {
        "id": "KMrG1XiHJKN1",
        "colab": {
          "base_uri": "https://localhost:8080/",
          "height": 206
        },
        "outputId": "5ed46346-79ed-4ea8-90e1-c06949b2fa0a"
      },
      "execution_count": null,
      "outputs": [
        {
          "output_type": "execute_result",
          "data": {
            "text/plain": [
              "   0  0.1  메일을 다 비울까 아니면 안읽은 것만 지울까?\n",
              "0  0    0   메일 중에 안읽은 것만 지울까? 다 지울까?\n",
              "1  0    0            안읽은 메일만 지워 다지워?\n",
              "2  0    0         다 지울까 안읽은 메일만 지울까?\n",
              "3  0    0        전체를 비울까 안읽은 것만 비울까?\n",
              "4  0    0  안읽은 메일만 지울꺼야? 아니면 다 지울꺼야?"
            ],
            "text/html": [
              "\n",
              "  <div id=\"df-767457be-7577-4620-a1f3-760045493bf4\">\n",
              "    <div class=\"colab-df-container\">\n",
              "      <div>\n",
              "<style scoped>\n",
              "    .dataframe tbody tr th:only-of-type {\n",
              "        vertical-align: middle;\n",
              "    }\n",
              "\n",
              "    .dataframe tbody tr th {\n",
              "        vertical-align: top;\n",
              "    }\n",
              "\n",
              "    .dataframe thead th {\n",
              "        text-align: right;\n",
              "    }\n",
              "</style>\n",
              "<table border=\"1\" class=\"dataframe\">\n",
              "  <thead>\n",
              "    <tr style=\"text-align: right;\">\n",
              "      <th></th>\n",
              "      <th>0</th>\n",
              "      <th>0.1</th>\n",
              "      <th>메일을 다 비울까 아니면 안읽은 것만 지울까?</th>\n",
              "    </tr>\n",
              "  </thead>\n",
              "  <tbody>\n",
              "    <tr>\n",
              "      <th>0</th>\n",
              "      <td>0</td>\n",
              "      <td>0</td>\n",
              "      <td>메일 중에 안읽은 것만 지울까? 다 지울까?</td>\n",
              "    </tr>\n",
              "    <tr>\n",
              "      <th>1</th>\n",
              "      <td>0</td>\n",
              "      <td>0</td>\n",
              "      <td>안읽은 메일만 지워 다지워?</td>\n",
              "    </tr>\n",
              "    <tr>\n",
              "      <th>2</th>\n",
              "      <td>0</td>\n",
              "      <td>0</td>\n",
              "      <td>다 지울까 안읽은 메일만 지울까?</td>\n",
              "    </tr>\n",
              "    <tr>\n",
              "      <th>3</th>\n",
              "      <td>0</td>\n",
              "      <td>0</td>\n",
              "      <td>전체를 비울까 안읽은 것만 비울까?</td>\n",
              "    </tr>\n",
              "    <tr>\n",
              "      <th>4</th>\n",
              "      <td>0</td>\n",
              "      <td>0</td>\n",
              "      <td>안읽은 메일만 지울꺼야? 아니면 다 지울꺼야?</td>\n",
              "    </tr>\n",
              "  </tbody>\n",
              "</table>\n",
              "</div>\n",
              "      <button class=\"colab-df-convert\" onclick=\"convertToInteractive('df-767457be-7577-4620-a1f3-760045493bf4')\"\n",
              "              title=\"Convert this dataframe to an interactive table.\"\n",
              "              style=\"display:none;\">\n",
              "        \n",
              "  <svg xmlns=\"http://www.w3.org/2000/svg\" height=\"24px\"viewBox=\"0 0 24 24\"\n",
              "       width=\"24px\">\n",
              "    <path d=\"M0 0h24v24H0V0z\" fill=\"none\"/>\n",
              "    <path d=\"M18.56 5.44l.94 2.06.94-2.06 2.06-.94-2.06-.94-.94-2.06-.94 2.06-2.06.94zm-11 1L8.5 8.5l.94-2.06 2.06-.94-2.06-.94L8.5 2.5l-.94 2.06-2.06.94zm10 10l.94 2.06.94-2.06 2.06-.94-2.06-.94-.94-2.06-.94 2.06-2.06.94z\"/><path d=\"M17.41 7.96l-1.37-1.37c-.4-.4-.92-.59-1.43-.59-.52 0-1.04.2-1.43.59L10.3 9.45l-7.72 7.72c-.78.78-.78 2.05 0 2.83L4 21.41c.39.39.9.59 1.41.59.51 0 1.02-.2 1.41-.59l7.78-7.78 2.81-2.81c.8-.78.8-2.07 0-2.86zM5.41 20L4 18.59l7.72-7.72 1.47 1.35L5.41 20z\"/>\n",
              "  </svg>\n",
              "      </button>\n",
              "      \n",
              "  <style>\n",
              "    .colab-df-container {\n",
              "      display:flex;\n",
              "      flex-wrap:wrap;\n",
              "      gap: 12px;\n",
              "    }\n",
              "\n",
              "    .colab-df-convert {\n",
              "      background-color: #E8F0FE;\n",
              "      border: none;\n",
              "      border-radius: 50%;\n",
              "      cursor: pointer;\n",
              "      display: none;\n",
              "      fill: #1967D2;\n",
              "      height: 32px;\n",
              "      padding: 0 0 0 0;\n",
              "      width: 32px;\n",
              "    }\n",
              "\n",
              "    .colab-df-convert:hover {\n",
              "      background-color: #E2EBFA;\n",
              "      box-shadow: 0px 1px 2px rgba(60, 64, 67, 0.3), 0px 1px 3px 1px rgba(60, 64, 67, 0.15);\n",
              "      fill: #174EA6;\n",
              "    }\n",
              "\n",
              "    [theme=dark] .colab-df-convert {\n",
              "      background-color: #3B4455;\n",
              "      fill: #D2E3FC;\n",
              "    }\n",
              "\n",
              "    [theme=dark] .colab-df-convert:hover {\n",
              "      background-color: #434B5C;\n",
              "      box-shadow: 0px 1px 3px 1px rgba(0, 0, 0, 0.15);\n",
              "      filter: drop-shadow(0px 1px 2px rgba(0, 0, 0, 0.3));\n",
              "      fill: #FFFFFF;\n",
              "    }\n",
              "  </style>\n",
              "\n",
              "      <script>\n",
              "        const buttonEl =\n",
              "          document.querySelector('#df-767457be-7577-4620-a1f3-760045493bf4 button.colab-df-convert');\n",
              "        buttonEl.style.display =\n",
              "          google.colab.kernel.accessAllowed ? 'block' : 'none';\n",
              "\n",
              "        async function convertToInteractive(key) {\n",
              "          const element = document.querySelector('#df-767457be-7577-4620-a1f3-760045493bf4');\n",
              "          const dataTable =\n",
              "            await google.colab.kernel.invokeFunction('convertToInteractive',\n",
              "                                                     [key], {});\n",
              "          if (!dataTable) return;\n",
              "\n",
              "          const docLinkHtml = 'Like what you see? Visit the ' +\n",
              "            '<a target=\"_blank\" href=https://colab.research.google.com/notebooks/data_table.ipynb>data table notebook</a>'\n",
              "            + ' to learn more about interactive tables.';\n",
              "          element.innerHTML = '';\n",
              "          dataTable['output_type'] = 'display_data';\n",
              "          await google.colab.output.renderOutput(dataTable, element);\n",
              "          const docLink = document.createElement('div');\n",
              "          docLink.innerHTML = docLinkHtml;\n",
              "          element.appendChild(docLink);\n",
              "        }\n",
              "      </script>\n",
              "    </div>\n",
              "  </div>\n",
              "  "
            ]
          },
          "metadata": {},
          "execution_count": 31
        }
      ]
    },
    {
      "cell_type": "code",
      "source": [
        "df = pd.concat([KLUE_dataset,Korsts_dataset],axis=0, join='inner', ignore_index=True)"
      ],
      "metadata": {
        "id": "NYIEg1PaLZNf"
      },
      "execution_count": null,
      "outputs": []
    },
    {
      "cell_type": "code",
      "source": [
        "import html\n",
        "import regex as re\n",
        "from bs4 import BeautifulSoup\n",
        "\n",
        "def preprocess(sentence):\n",
        "    sen = BeautifulSoup(html.unescape(sentence), 'html.parser').text     # html parse\n",
        "    sen = sen.replace(\"\\n\", \" \")                                    # \\n\n",
        "    sen = re.sub('\"',' ', sen)                                      # 따옴표 \n",
        "    sen = re.sub(\"[^a-zA-Z0-9가-힣]\", \" \", sen)                  #영문, 한글, 숫자 만\n",
        "    sen = re.sub('[-=+,#/\\?:^$.@*\\\"※~&%ㆍ·!』\\\\‘〈〉|\\(\\)\\[\\]\\<\\>`\\'…》《]','', sen)    \n",
        "    return sen\n",
        "\n",
        "\n",
        "\n",
        "def preprocess_train(df):\n",
        "    sentence1 = df['sentence1'].tolist()\n",
        "    sentence2 = df['sentence2'].tolist()\n",
        "    real_label = df['real-label'].tolist()\n",
        "\n",
        "    processed1 = []\n",
        "    processed2 = []\n",
        "\n",
        "    for sen1 in sentence1:\n",
        "        processed1.append(preprocess(sen1))\n",
        "    for sen2 in sentence2:\n",
        "        processed2.append(preprocess(sen2))\n",
        "    \n",
        "    processed_df = pd.DataFrame(list(zip(processed1, processed2, real_label)),\n",
        "                        columns = ['sentence1', 'sentence2', 'real-label'])\n",
        "\n",
        "\n",
        "    return processed_df"
      ],
      "metadata": {
        "id": "DFwz8L-OKtRa"
      },
      "execution_count": null,
      "outputs": []
    },
    {
      "cell_type": "code",
      "source": [
        "df = preprocess_train(df)"
      ],
      "metadata": {
        "id": "OBPxnxkPMMNA"
      },
      "execution_count": null,
      "outputs": []
    },
    {
      "cell_type": "code",
      "source": [
        "df.shape"
      ],
      "metadata": {
        "id": "SCq_jbL-MWV_",
        "colab": {
          "base_uri": "https://localhost:8080/"
        },
        "outputId": "78c2a9f0-54f8-4c1e-94b5-c8f98a1f51ec"
      },
      "execution_count": null,
      "outputs": [
        {
          "output_type": "execute_result",
          "data": {
            "text/plain": [
              "(17361, 3)"
            ]
          },
          "metadata": {},
          "execution_count": 35
        }
      ]
    },
    {
      "cell_type": "code",
      "source": [
        "df.head()"
      ],
      "metadata": {
        "id": "qlk_PDc5Mb2I",
        "colab": {
          "base_uri": "https://localhost:8080/",
          "height": 206
        },
        "outputId": "42024940-df49-4f5e-e251-c80a0250cb44"
      },
      "execution_count": null,
      "outputs": [
        {
          "output_type": "execute_result",
          "data": {
            "text/plain": [
              "                                           sentence1  \\\n",
              "0                   숙소 위치는 찾기 쉽고 일반적인 한국의 반지하 숙소입니다    \n",
              "1      위반행위 조사 등을 거부 방해 기피한 자는 500만원 이하 과태료 부과 대상이다    \n",
              "2            회사가 보낸 메일은 이 지메일이 아니라 다른 지메일 계정으로 전달해줘    \n",
              "3  긴급 고용안정지원금은 지역고용대응 등 특별지원금  지자체별 소상공인 지원사업  취업...   \n",
              "4                        호스트의 답장이 늦으나  개선될 것으로 보입니다    \n",
              "\n",
              "                                    sentence2  real-label  \n",
              "0  숙박시설의 위치는 쉽게 찾을 수 있고 한국의 대표적인 반지하 숙박시설입니다     3.714286  \n",
              "1       시민들 스스로 자발적인 예방 노력을 한 것은 아산 뿐만이 아니었다     0.000000  \n",
              "2                  사람들이 주로 네이버 메일을 쓰는 이유를 알려줘    0.333333  \n",
              "3   고용보험이 1차 고용안전망이라면  국민취업지원제도는 2차 고용안전망입니다     0.571429  \n",
              "4                  호스트 응답이 늦었지만 개선될 것으로 보입니다     4.714286  "
            ],
            "text/html": [
              "\n",
              "  <div id=\"df-9bbfa613-e0ca-46e6-be1f-fec8e31b438e\">\n",
              "    <div class=\"colab-df-container\">\n",
              "      <div>\n",
              "<style scoped>\n",
              "    .dataframe tbody tr th:only-of-type {\n",
              "        vertical-align: middle;\n",
              "    }\n",
              "\n",
              "    .dataframe tbody tr th {\n",
              "        vertical-align: top;\n",
              "    }\n",
              "\n",
              "    .dataframe thead th {\n",
              "        text-align: right;\n",
              "    }\n",
              "</style>\n",
              "<table border=\"1\" class=\"dataframe\">\n",
              "  <thead>\n",
              "    <tr style=\"text-align: right;\">\n",
              "      <th></th>\n",
              "      <th>sentence1</th>\n",
              "      <th>sentence2</th>\n",
              "      <th>real-label</th>\n",
              "    </tr>\n",
              "  </thead>\n",
              "  <tbody>\n",
              "    <tr>\n",
              "      <th>0</th>\n",
              "      <td>숙소 위치는 찾기 쉽고 일반적인 한국의 반지하 숙소입니다</td>\n",
              "      <td>숙박시설의 위치는 쉽게 찾을 수 있고 한국의 대표적인 반지하 숙박시설입니다</td>\n",
              "      <td>3.714286</td>\n",
              "    </tr>\n",
              "    <tr>\n",
              "      <th>1</th>\n",
              "      <td>위반행위 조사 등을 거부 방해 기피한 자는 500만원 이하 과태료 부과 대상이다</td>\n",
              "      <td>시민들 스스로 자발적인 예방 노력을 한 것은 아산 뿐만이 아니었다</td>\n",
              "      <td>0.000000</td>\n",
              "    </tr>\n",
              "    <tr>\n",
              "      <th>2</th>\n",
              "      <td>회사가 보낸 메일은 이 지메일이 아니라 다른 지메일 계정으로 전달해줘</td>\n",
              "      <td>사람들이 주로 네이버 메일을 쓰는 이유를 알려줘</td>\n",
              "      <td>0.333333</td>\n",
              "    </tr>\n",
              "    <tr>\n",
              "      <th>3</th>\n",
              "      <td>긴급 고용안정지원금은 지역고용대응 등 특별지원금  지자체별 소상공인 지원사업  취업...</td>\n",
              "      <td>고용보험이 1차 고용안전망이라면  국민취업지원제도는 2차 고용안전망입니다</td>\n",
              "      <td>0.571429</td>\n",
              "    </tr>\n",
              "    <tr>\n",
              "      <th>4</th>\n",
              "      <td>호스트의 답장이 늦으나  개선될 것으로 보입니다</td>\n",
              "      <td>호스트 응답이 늦었지만 개선될 것으로 보입니다</td>\n",
              "      <td>4.714286</td>\n",
              "    </tr>\n",
              "  </tbody>\n",
              "</table>\n",
              "</div>\n",
              "      <button class=\"colab-df-convert\" onclick=\"convertToInteractive('df-9bbfa613-e0ca-46e6-be1f-fec8e31b438e')\"\n",
              "              title=\"Convert this dataframe to an interactive table.\"\n",
              "              style=\"display:none;\">\n",
              "        \n",
              "  <svg xmlns=\"http://www.w3.org/2000/svg\" height=\"24px\"viewBox=\"0 0 24 24\"\n",
              "       width=\"24px\">\n",
              "    <path d=\"M0 0h24v24H0V0z\" fill=\"none\"/>\n",
              "    <path d=\"M18.56 5.44l.94 2.06.94-2.06 2.06-.94-2.06-.94-.94-2.06-.94 2.06-2.06.94zm-11 1L8.5 8.5l.94-2.06 2.06-.94-2.06-.94L8.5 2.5l-.94 2.06-2.06.94zm10 10l.94 2.06.94-2.06 2.06-.94-2.06-.94-.94-2.06-.94 2.06-2.06.94z\"/><path d=\"M17.41 7.96l-1.37-1.37c-.4-.4-.92-.59-1.43-.59-.52 0-1.04.2-1.43.59L10.3 9.45l-7.72 7.72c-.78.78-.78 2.05 0 2.83L4 21.41c.39.39.9.59 1.41.59.51 0 1.02-.2 1.41-.59l7.78-7.78 2.81-2.81c.8-.78.8-2.07 0-2.86zM5.41 20L4 18.59l7.72-7.72 1.47 1.35L5.41 20z\"/>\n",
              "  </svg>\n",
              "      </button>\n",
              "      \n",
              "  <style>\n",
              "    .colab-df-container {\n",
              "      display:flex;\n",
              "      flex-wrap:wrap;\n",
              "      gap: 12px;\n",
              "    }\n",
              "\n",
              "    .colab-df-convert {\n",
              "      background-color: #E8F0FE;\n",
              "      border: none;\n",
              "      border-radius: 50%;\n",
              "      cursor: pointer;\n",
              "      display: none;\n",
              "      fill: #1967D2;\n",
              "      height: 32px;\n",
              "      padding: 0 0 0 0;\n",
              "      width: 32px;\n",
              "    }\n",
              "\n",
              "    .colab-df-convert:hover {\n",
              "      background-color: #E2EBFA;\n",
              "      box-shadow: 0px 1px 2px rgba(60, 64, 67, 0.3), 0px 1px 3px 1px rgba(60, 64, 67, 0.15);\n",
              "      fill: #174EA6;\n",
              "    }\n",
              "\n",
              "    [theme=dark] .colab-df-convert {\n",
              "      background-color: #3B4455;\n",
              "      fill: #D2E3FC;\n",
              "    }\n",
              "\n",
              "    [theme=dark] .colab-df-convert:hover {\n",
              "      background-color: #434B5C;\n",
              "      box-shadow: 0px 1px 3px 1px rgba(0, 0, 0, 0.15);\n",
              "      filter: drop-shadow(0px 1px 2px rgba(0, 0, 0, 0.3));\n",
              "      fill: #FFFFFF;\n",
              "    }\n",
              "  </style>\n",
              "\n",
              "      <script>\n",
              "        const buttonEl =\n",
              "          document.querySelector('#df-9bbfa613-e0ca-46e6-be1f-fec8e31b438e button.colab-df-convert');\n",
              "        buttonEl.style.display =\n",
              "          google.colab.kernel.accessAllowed ? 'block' : 'none';\n",
              "\n",
              "        async function convertToInteractive(key) {\n",
              "          const element = document.querySelector('#df-9bbfa613-e0ca-46e6-be1f-fec8e31b438e');\n",
              "          const dataTable =\n",
              "            await google.colab.kernel.invokeFunction('convertToInteractive',\n",
              "                                                     [key], {});\n",
              "          if (!dataTable) return;\n",
              "\n",
              "          const docLinkHtml = 'Like what you see? Visit the ' +\n",
              "            '<a target=\"_blank\" href=https://colab.research.google.com/notebooks/data_table.ipynb>data table notebook</a>'\n",
              "            + ' to learn more about interactive tables.';\n",
              "          element.innerHTML = '';\n",
              "          dataTable['output_type'] = 'display_data';\n",
              "          await google.colab.output.renderOutput(dataTable, element);\n",
              "          const docLink = document.createElement('div');\n",
              "          docLink.innerHTML = docLinkHtml;\n",
              "          element.appendChild(docLink);\n",
              "        }\n",
              "      </script>\n",
              "    </div>\n",
              "  </div>\n",
              "  "
            ]
          },
          "metadata": {},
          "execution_count": 36
        }
      ]
    },
    {
      "cell_type": "code",
      "source": [
        "df.tail()"
      ],
      "metadata": {
        "id": "A5A6P6vxMigg",
        "colab": {
          "base_uri": "https://localhost:8080/",
          "height": 206
        },
        "outputId": "140d48c5-7f52-430e-94b8-4b55a4c6dba6"
      },
      "execution_count": null,
      "outputs": [
        {
          "output_type": "execute_result",
          "data": {
            "text/plain": [
              "                                     sentence1  \\\n",
              "17356                폭풍우 클로다흐가 영국을 강타하면서 심한 강풍   \n",
              "17357  리비아 테러리스트들이 공습에 대한 복수로 찍은 수십 명의 이집트 인질들   \n",
              "17358                            바레인으로 향하는 대통령   \n",
              "17359              중국  인도는 양국 관계를 증진시키겠다고 맹세한다   \n",
              "17360           푸틴 대변인   도핑 혐의는 근거 없는 것으로 보인다    \n",
              "\n",
              "                                            sentence2  real-label  \n",
              "17356                        메르켈은 나토와 라트비아의 연대를 약속한다          0.0  \n",
              "17357  나일강에서 더 많은 시체가 발견되면서 이집트 보트 충돌 사고 사망자 수가 증가한다          0.0  \n",
              "17358                      시 주석   에볼라 퇴치를 계속 돕기 위한 중국         0.0  \n",
              "17359             중국은 불안한 주식 거래자들을 안심시키기 위해 뒤뚱거리고 있다          0.0  \n",
              "17360               가장 최근의 심한 날씨   토네이도 후 텍사스에서 1명 사망         0.0  "
            ],
            "text/html": [
              "\n",
              "  <div id=\"df-b028068e-ddb4-45ae-8a64-0e42e7c5de2b\">\n",
              "    <div class=\"colab-df-container\">\n",
              "      <div>\n",
              "<style scoped>\n",
              "    .dataframe tbody tr th:only-of-type {\n",
              "        vertical-align: middle;\n",
              "    }\n",
              "\n",
              "    .dataframe tbody tr th {\n",
              "        vertical-align: top;\n",
              "    }\n",
              "\n",
              "    .dataframe thead th {\n",
              "        text-align: right;\n",
              "    }\n",
              "</style>\n",
              "<table border=\"1\" class=\"dataframe\">\n",
              "  <thead>\n",
              "    <tr style=\"text-align: right;\">\n",
              "      <th></th>\n",
              "      <th>sentence1</th>\n",
              "      <th>sentence2</th>\n",
              "      <th>real-label</th>\n",
              "    </tr>\n",
              "  </thead>\n",
              "  <tbody>\n",
              "    <tr>\n",
              "      <th>17356</th>\n",
              "      <td>폭풍우 클로다흐가 영국을 강타하면서 심한 강풍</td>\n",
              "      <td>메르켈은 나토와 라트비아의 연대를 약속한다</td>\n",
              "      <td>0.0</td>\n",
              "    </tr>\n",
              "    <tr>\n",
              "      <th>17357</th>\n",
              "      <td>리비아 테러리스트들이 공습에 대한 복수로 찍은 수십 명의 이집트 인질들</td>\n",
              "      <td>나일강에서 더 많은 시체가 발견되면서 이집트 보트 충돌 사고 사망자 수가 증가한다</td>\n",
              "      <td>0.0</td>\n",
              "    </tr>\n",
              "    <tr>\n",
              "      <th>17358</th>\n",
              "      <td>바레인으로 향하는 대통령</td>\n",
              "      <td>시 주석   에볼라 퇴치를 계속 돕기 위한 중국</td>\n",
              "      <td>0.0</td>\n",
              "    </tr>\n",
              "    <tr>\n",
              "      <th>17359</th>\n",
              "      <td>중국  인도는 양국 관계를 증진시키겠다고 맹세한다</td>\n",
              "      <td>중국은 불안한 주식 거래자들을 안심시키기 위해 뒤뚱거리고 있다</td>\n",
              "      <td>0.0</td>\n",
              "    </tr>\n",
              "    <tr>\n",
              "      <th>17360</th>\n",
              "      <td>푸틴 대변인   도핑 혐의는 근거 없는 것으로 보인다</td>\n",
              "      <td>가장 최근의 심한 날씨   토네이도 후 텍사스에서 1명 사망</td>\n",
              "      <td>0.0</td>\n",
              "    </tr>\n",
              "  </tbody>\n",
              "</table>\n",
              "</div>\n",
              "      <button class=\"colab-df-convert\" onclick=\"convertToInteractive('df-b028068e-ddb4-45ae-8a64-0e42e7c5de2b')\"\n",
              "              title=\"Convert this dataframe to an interactive table.\"\n",
              "              style=\"display:none;\">\n",
              "        \n",
              "  <svg xmlns=\"http://www.w3.org/2000/svg\" height=\"24px\"viewBox=\"0 0 24 24\"\n",
              "       width=\"24px\">\n",
              "    <path d=\"M0 0h24v24H0V0z\" fill=\"none\"/>\n",
              "    <path d=\"M18.56 5.44l.94 2.06.94-2.06 2.06-.94-2.06-.94-.94-2.06-.94 2.06-2.06.94zm-11 1L8.5 8.5l.94-2.06 2.06-.94-2.06-.94L8.5 2.5l-.94 2.06-2.06.94zm10 10l.94 2.06.94-2.06 2.06-.94-2.06-.94-.94-2.06-.94 2.06-2.06.94z\"/><path d=\"M17.41 7.96l-1.37-1.37c-.4-.4-.92-.59-1.43-.59-.52 0-1.04.2-1.43.59L10.3 9.45l-7.72 7.72c-.78.78-.78 2.05 0 2.83L4 21.41c.39.39.9.59 1.41.59.51 0 1.02-.2 1.41-.59l7.78-7.78 2.81-2.81c.8-.78.8-2.07 0-2.86zM5.41 20L4 18.59l7.72-7.72 1.47 1.35L5.41 20z\"/>\n",
              "  </svg>\n",
              "      </button>\n",
              "      \n",
              "  <style>\n",
              "    .colab-df-container {\n",
              "      display:flex;\n",
              "      flex-wrap:wrap;\n",
              "      gap: 12px;\n",
              "    }\n",
              "\n",
              "    .colab-df-convert {\n",
              "      background-color: #E8F0FE;\n",
              "      border: none;\n",
              "      border-radius: 50%;\n",
              "      cursor: pointer;\n",
              "      display: none;\n",
              "      fill: #1967D2;\n",
              "      height: 32px;\n",
              "      padding: 0 0 0 0;\n",
              "      width: 32px;\n",
              "    }\n",
              "\n",
              "    .colab-df-convert:hover {\n",
              "      background-color: #E2EBFA;\n",
              "      box-shadow: 0px 1px 2px rgba(60, 64, 67, 0.3), 0px 1px 3px 1px rgba(60, 64, 67, 0.15);\n",
              "      fill: #174EA6;\n",
              "    }\n",
              "\n",
              "    [theme=dark] .colab-df-convert {\n",
              "      background-color: #3B4455;\n",
              "      fill: #D2E3FC;\n",
              "    }\n",
              "\n",
              "    [theme=dark] .colab-df-convert:hover {\n",
              "      background-color: #434B5C;\n",
              "      box-shadow: 0px 1px 3px 1px rgba(0, 0, 0, 0.15);\n",
              "      filter: drop-shadow(0px 1px 2px rgba(0, 0, 0, 0.3));\n",
              "      fill: #FFFFFF;\n",
              "    }\n",
              "  </style>\n",
              "\n",
              "      <script>\n",
              "        const buttonEl =\n",
              "          document.querySelector('#df-b028068e-ddb4-45ae-8a64-0e42e7c5de2b button.colab-df-convert');\n",
              "        buttonEl.style.display =\n",
              "          google.colab.kernel.accessAllowed ? 'block' : 'none';\n",
              "\n",
              "        async function convertToInteractive(key) {\n",
              "          const element = document.querySelector('#df-b028068e-ddb4-45ae-8a64-0e42e7c5de2b');\n",
              "          const dataTable =\n",
              "            await google.colab.kernel.invokeFunction('convertToInteractive',\n",
              "                                                     [key], {});\n",
              "          if (!dataTable) return;\n",
              "\n",
              "          const docLinkHtml = 'Like what you see? Visit the ' +\n",
              "            '<a target=\"_blank\" href=https://colab.research.google.com/notebooks/data_table.ipynb>data table notebook</a>'\n",
              "            + ' to learn more about interactive tables.';\n",
              "          element.innerHTML = '';\n",
              "          dataTable['output_type'] = 'display_data';\n",
              "          await google.colab.output.renderOutput(dataTable, element);\n",
              "          const docLink = document.createElement('div');\n",
              "          docLink.innerHTML = docLinkHtml;\n",
              "          element.appendChild(docLink);\n",
              "        }\n",
              "      </script>\n",
              "    </div>\n",
              "  </div>\n",
              "  "
            ]
          },
          "metadata": {},
          "execution_count": 37
        }
      ]
    },
    {
      "cell_type": "code",
      "source": [
        "test = pd.read_json('/content/KLUE/klue_benchmark/klue-sts-v1.1/klue-sts-v1.1_dev.json')"
      ],
      "metadata": {
        "id": "CAhUKimhMtpr"
      },
      "execution_count": null,
      "outputs": []
    },
    {
      "cell_type": "code",
      "source": [
        "test = test.drop_duplicates(['sentence1','sentence2'], keep='first', ignore_index=True)"
      ],
      "metadata": {
        "id": "nr4WEOImNJJs"
      },
      "execution_count": null,
      "outputs": []
    },
    {
      "cell_type": "code",
      "source": [
        "labels = test.labels.to_list()\n",
        "labels = pd.DataFrame(labels)\n",
        "print(len(labels))\n",
        "labels"
      ],
      "metadata": {
        "id": "8_XiJhgTNVyc",
        "colab": {
          "base_uri": "https://localhost:8080/",
          "height": 442
        },
        "outputId": "fd9e25af-1c29-4003-a8cc-b18a5e03e776"
      },
      "execution_count": null,
      "outputs": [
        {
          "output_type": "stream",
          "name": "stdout",
          "text": [
            "519\n"
          ]
        },
        {
          "output_type": "execute_result",
          "data": {
            "text/plain": [
              "     label  real-label  binary-label\n",
              "0      4.9    4.857143             1\n",
              "1      1.4    1.428571             0\n",
              "2      1.3    1.285714             0\n",
              "3      3.7    3.714286             1\n",
              "4      2.5    2.500000             0\n",
              "..     ...         ...           ...\n",
              "514    2.2    2.200000             0\n",
              "515    2.8    2.833333             0\n",
              "516    0.3    0.333333             0\n",
              "517    0.3    0.333333             0\n",
              "518    2.9    2.857143             0\n",
              "\n",
              "[519 rows x 3 columns]"
            ],
            "text/html": [
              "\n",
              "  <div id=\"df-788e96b3-6a72-45eb-802b-a2beb91e59cd\">\n",
              "    <div class=\"colab-df-container\">\n",
              "      <div>\n",
              "<style scoped>\n",
              "    .dataframe tbody tr th:only-of-type {\n",
              "        vertical-align: middle;\n",
              "    }\n",
              "\n",
              "    .dataframe tbody tr th {\n",
              "        vertical-align: top;\n",
              "    }\n",
              "\n",
              "    .dataframe thead th {\n",
              "        text-align: right;\n",
              "    }\n",
              "</style>\n",
              "<table border=\"1\" class=\"dataframe\">\n",
              "  <thead>\n",
              "    <tr style=\"text-align: right;\">\n",
              "      <th></th>\n",
              "      <th>label</th>\n",
              "      <th>real-label</th>\n",
              "      <th>binary-label</th>\n",
              "    </tr>\n",
              "  </thead>\n",
              "  <tbody>\n",
              "    <tr>\n",
              "      <th>0</th>\n",
              "      <td>4.9</td>\n",
              "      <td>4.857143</td>\n",
              "      <td>1</td>\n",
              "    </tr>\n",
              "    <tr>\n",
              "      <th>1</th>\n",
              "      <td>1.4</td>\n",
              "      <td>1.428571</td>\n",
              "      <td>0</td>\n",
              "    </tr>\n",
              "    <tr>\n",
              "      <th>2</th>\n",
              "      <td>1.3</td>\n",
              "      <td>1.285714</td>\n",
              "      <td>0</td>\n",
              "    </tr>\n",
              "    <tr>\n",
              "      <th>3</th>\n",
              "      <td>3.7</td>\n",
              "      <td>3.714286</td>\n",
              "      <td>1</td>\n",
              "    </tr>\n",
              "    <tr>\n",
              "      <th>4</th>\n",
              "      <td>2.5</td>\n",
              "      <td>2.500000</td>\n",
              "      <td>0</td>\n",
              "    </tr>\n",
              "    <tr>\n",
              "      <th>...</th>\n",
              "      <td>...</td>\n",
              "      <td>...</td>\n",
              "      <td>...</td>\n",
              "    </tr>\n",
              "    <tr>\n",
              "      <th>514</th>\n",
              "      <td>2.2</td>\n",
              "      <td>2.200000</td>\n",
              "      <td>0</td>\n",
              "    </tr>\n",
              "    <tr>\n",
              "      <th>515</th>\n",
              "      <td>2.8</td>\n",
              "      <td>2.833333</td>\n",
              "      <td>0</td>\n",
              "    </tr>\n",
              "    <tr>\n",
              "      <th>516</th>\n",
              "      <td>0.3</td>\n",
              "      <td>0.333333</td>\n",
              "      <td>0</td>\n",
              "    </tr>\n",
              "    <tr>\n",
              "      <th>517</th>\n",
              "      <td>0.3</td>\n",
              "      <td>0.333333</td>\n",
              "      <td>0</td>\n",
              "    </tr>\n",
              "    <tr>\n",
              "      <th>518</th>\n",
              "      <td>2.9</td>\n",
              "      <td>2.857143</td>\n",
              "      <td>0</td>\n",
              "    </tr>\n",
              "  </tbody>\n",
              "</table>\n",
              "<p>519 rows × 3 columns</p>\n",
              "</div>\n",
              "      <button class=\"colab-df-convert\" onclick=\"convertToInteractive('df-788e96b3-6a72-45eb-802b-a2beb91e59cd')\"\n",
              "              title=\"Convert this dataframe to an interactive table.\"\n",
              "              style=\"display:none;\">\n",
              "        \n",
              "  <svg xmlns=\"http://www.w3.org/2000/svg\" height=\"24px\"viewBox=\"0 0 24 24\"\n",
              "       width=\"24px\">\n",
              "    <path d=\"M0 0h24v24H0V0z\" fill=\"none\"/>\n",
              "    <path d=\"M18.56 5.44l.94 2.06.94-2.06 2.06-.94-2.06-.94-.94-2.06-.94 2.06-2.06.94zm-11 1L8.5 8.5l.94-2.06 2.06-.94-2.06-.94L8.5 2.5l-.94 2.06-2.06.94zm10 10l.94 2.06.94-2.06 2.06-.94-2.06-.94-.94-2.06-.94 2.06-2.06.94z\"/><path d=\"M17.41 7.96l-1.37-1.37c-.4-.4-.92-.59-1.43-.59-.52 0-1.04.2-1.43.59L10.3 9.45l-7.72 7.72c-.78.78-.78 2.05 0 2.83L4 21.41c.39.39.9.59 1.41.59.51 0 1.02-.2 1.41-.59l7.78-7.78 2.81-2.81c.8-.78.8-2.07 0-2.86zM5.41 20L4 18.59l7.72-7.72 1.47 1.35L5.41 20z\"/>\n",
              "  </svg>\n",
              "      </button>\n",
              "      \n",
              "  <style>\n",
              "    .colab-df-container {\n",
              "      display:flex;\n",
              "      flex-wrap:wrap;\n",
              "      gap: 12px;\n",
              "    }\n",
              "\n",
              "    .colab-df-convert {\n",
              "      background-color: #E8F0FE;\n",
              "      border: none;\n",
              "      border-radius: 50%;\n",
              "      cursor: pointer;\n",
              "      display: none;\n",
              "      fill: #1967D2;\n",
              "      height: 32px;\n",
              "      padding: 0 0 0 0;\n",
              "      width: 32px;\n",
              "    }\n",
              "\n",
              "    .colab-df-convert:hover {\n",
              "      background-color: #E2EBFA;\n",
              "      box-shadow: 0px 1px 2px rgba(60, 64, 67, 0.3), 0px 1px 3px 1px rgba(60, 64, 67, 0.15);\n",
              "      fill: #174EA6;\n",
              "    }\n",
              "\n",
              "    [theme=dark] .colab-df-convert {\n",
              "      background-color: #3B4455;\n",
              "      fill: #D2E3FC;\n",
              "    }\n",
              "\n",
              "    [theme=dark] .colab-df-convert:hover {\n",
              "      background-color: #434B5C;\n",
              "      box-shadow: 0px 1px 3px 1px rgba(0, 0, 0, 0.15);\n",
              "      filter: drop-shadow(0px 1px 2px rgba(0, 0, 0, 0.3));\n",
              "      fill: #FFFFFF;\n",
              "    }\n",
              "  </style>\n",
              "\n",
              "      <script>\n",
              "        const buttonEl =\n",
              "          document.querySelector('#df-788e96b3-6a72-45eb-802b-a2beb91e59cd button.colab-df-convert');\n",
              "        buttonEl.style.display =\n",
              "          google.colab.kernel.accessAllowed ? 'block' : 'none';\n",
              "\n",
              "        async function convertToInteractive(key) {\n",
              "          const element = document.querySelector('#df-788e96b3-6a72-45eb-802b-a2beb91e59cd');\n",
              "          const dataTable =\n",
              "            await google.colab.kernel.invokeFunction('convertToInteractive',\n",
              "                                                     [key], {});\n",
              "          if (!dataTable) return;\n",
              "\n",
              "          const docLinkHtml = 'Like what you see? Visit the ' +\n",
              "            '<a target=\"_blank\" href=https://colab.research.google.com/notebooks/data_table.ipynb>data table notebook</a>'\n",
              "            + ' to learn more about interactive tables.';\n",
              "          element.innerHTML = '';\n",
              "          dataTable['output_type'] = 'display_data';\n",
              "          await google.colab.output.renderOutput(dataTable, element);\n",
              "          const docLink = document.createElement('div');\n",
              "          docLink.innerHTML = docLinkHtml;\n",
              "          element.appendChild(docLink);\n",
              "        }\n",
              "      </script>\n",
              "    </div>\n",
              "  </div>\n",
              "  "
            ]
          },
          "metadata": {},
          "execution_count": 40
        }
      ]
    },
    {
      "cell_type": "code",
      "source": [
        "test = test[['sentence1', 'sentence2']].join(labels[['real-label']])\n",
        "test.head()"
      ],
      "metadata": {
        "id": "k7W_bYnbNbF5",
        "colab": {
          "base_uri": "https://localhost:8080/",
          "height": 206
        },
        "outputId": "c8e508ca-ffdd-4b84-f7e8-48ee92d3e65e"
      },
      "execution_count": null,
      "outputs": [
        {
          "output_type": "execute_result",
          "data": {
            "text/plain": [
              "                                           sentence1  \\\n",
              "0                           무엇보다도 호스트분들이 너무 친절하셨습니다.   \n",
              "1                             주요 관광지 모두 걸어서 이동가능합니다.   \n",
              "2  학생들의 균형 있는 영어능력을 향상시킬 수 있는 학교 수업을 유도하기 위해 2018...   \n",
              "3                          다만, 도로와 인접해서 거리의 소음이 들려요.   \n",
              "4                형이 다시 캐나다 들어가야 하니 가족모임 일정은 바꾸지 마세요.   \n",
              "\n",
              "                                           sentence2  real-label  \n",
              "0                            무엇보다도, 호스트들은 매우 친절했습니다.    4.857143  \n",
              "1                        위치는 피렌체 중심가까지 걸어서 이동 가능합니다.    1.428571  \n",
              "2  영어 영역의 경우 학생들이 한글 해석본을 암기하는 문제를 해소하기 위해 2016학년...    1.285714  \n",
              "3                 하지만, 길과 가깝기 때문에 거리의 소음을 들을 수 있습니다.    3.714286  \n",
              "4                            가족 모임 일정은 바꾸지 말도록 하십시오.    2.500000  "
            ],
            "text/html": [
              "\n",
              "  <div id=\"df-05028123-4a40-4011-9619-2ea5a16655de\">\n",
              "    <div class=\"colab-df-container\">\n",
              "      <div>\n",
              "<style scoped>\n",
              "    .dataframe tbody tr th:only-of-type {\n",
              "        vertical-align: middle;\n",
              "    }\n",
              "\n",
              "    .dataframe tbody tr th {\n",
              "        vertical-align: top;\n",
              "    }\n",
              "\n",
              "    .dataframe thead th {\n",
              "        text-align: right;\n",
              "    }\n",
              "</style>\n",
              "<table border=\"1\" class=\"dataframe\">\n",
              "  <thead>\n",
              "    <tr style=\"text-align: right;\">\n",
              "      <th></th>\n",
              "      <th>sentence1</th>\n",
              "      <th>sentence2</th>\n",
              "      <th>real-label</th>\n",
              "    </tr>\n",
              "  </thead>\n",
              "  <tbody>\n",
              "    <tr>\n",
              "      <th>0</th>\n",
              "      <td>무엇보다도 호스트분들이 너무 친절하셨습니다.</td>\n",
              "      <td>무엇보다도, 호스트들은 매우 친절했습니다.</td>\n",
              "      <td>4.857143</td>\n",
              "    </tr>\n",
              "    <tr>\n",
              "      <th>1</th>\n",
              "      <td>주요 관광지 모두 걸어서 이동가능합니다.</td>\n",
              "      <td>위치는 피렌체 중심가까지 걸어서 이동 가능합니다.</td>\n",
              "      <td>1.428571</td>\n",
              "    </tr>\n",
              "    <tr>\n",
              "      <th>2</th>\n",
              "      <td>학생들의 균형 있는 영어능력을 향상시킬 수 있는 학교 수업을 유도하기 위해 2018...</td>\n",
              "      <td>영어 영역의 경우 학생들이 한글 해석본을 암기하는 문제를 해소하기 위해 2016학년...</td>\n",
              "      <td>1.285714</td>\n",
              "    </tr>\n",
              "    <tr>\n",
              "      <th>3</th>\n",
              "      <td>다만, 도로와 인접해서 거리의 소음이 들려요.</td>\n",
              "      <td>하지만, 길과 가깝기 때문에 거리의 소음을 들을 수 있습니다.</td>\n",
              "      <td>3.714286</td>\n",
              "    </tr>\n",
              "    <tr>\n",
              "      <th>4</th>\n",
              "      <td>형이 다시 캐나다 들어가야 하니 가족모임 일정은 바꾸지 마세요.</td>\n",
              "      <td>가족 모임 일정은 바꾸지 말도록 하십시오.</td>\n",
              "      <td>2.500000</td>\n",
              "    </tr>\n",
              "  </tbody>\n",
              "</table>\n",
              "</div>\n",
              "      <button class=\"colab-df-convert\" onclick=\"convertToInteractive('df-05028123-4a40-4011-9619-2ea5a16655de')\"\n",
              "              title=\"Convert this dataframe to an interactive table.\"\n",
              "              style=\"display:none;\">\n",
              "        \n",
              "  <svg xmlns=\"http://www.w3.org/2000/svg\" height=\"24px\"viewBox=\"0 0 24 24\"\n",
              "       width=\"24px\">\n",
              "    <path d=\"M0 0h24v24H0V0z\" fill=\"none\"/>\n",
              "    <path d=\"M18.56 5.44l.94 2.06.94-2.06 2.06-.94-2.06-.94-.94-2.06-.94 2.06-2.06.94zm-11 1L8.5 8.5l.94-2.06 2.06-.94-2.06-.94L8.5 2.5l-.94 2.06-2.06.94zm10 10l.94 2.06.94-2.06 2.06-.94-2.06-.94-.94-2.06-.94 2.06-2.06.94z\"/><path d=\"M17.41 7.96l-1.37-1.37c-.4-.4-.92-.59-1.43-.59-.52 0-1.04.2-1.43.59L10.3 9.45l-7.72 7.72c-.78.78-.78 2.05 0 2.83L4 21.41c.39.39.9.59 1.41.59.51 0 1.02-.2 1.41-.59l7.78-7.78 2.81-2.81c.8-.78.8-2.07 0-2.86zM5.41 20L4 18.59l7.72-7.72 1.47 1.35L5.41 20z\"/>\n",
              "  </svg>\n",
              "      </button>\n",
              "      \n",
              "  <style>\n",
              "    .colab-df-container {\n",
              "      display:flex;\n",
              "      flex-wrap:wrap;\n",
              "      gap: 12px;\n",
              "    }\n",
              "\n",
              "    .colab-df-convert {\n",
              "      background-color: #E8F0FE;\n",
              "      border: none;\n",
              "      border-radius: 50%;\n",
              "      cursor: pointer;\n",
              "      display: none;\n",
              "      fill: #1967D2;\n",
              "      height: 32px;\n",
              "      padding: 0 0 0 0;\n",
              "      width: 32px;\n",
              "    }\n",
              "\n",
              "    .colab-df-convert:hover {\n",
              "      background-color: #E2EBFA;\n",
              "      box-shadow: 0px 1px 2px rgba(60, 64, 67, 0.3), 0px 1px 3px 1px rgba(60, 64, 67, 0.15);\n",
              "      fill: #174EA6;\n",
              "    }\n",
              "\n",
              "    [theme=dark] .colab-df-convert {\n",
              "      background-color: #3B4455;\n",
              "      fill: #D2E3FC;\n",
              "    }\n",
              "\n",
              "    [theme=dark] .colab-df-convert:hover {\n",
              "      background-color: #434B5C;\n",
              "      box-shadow: 0px 1px 3px 1px rgba(0, 0, 0, 0.15);\n",
              "      filter: drop-shadow(0px 1px 2px rgba(0, 0, 0, 0.3));\n",
              "      fill: #FFFFFF;\n",
              "    }\n",
              "  </style>\n",
              "\n",
              "      <script>\n",
              "        const buttonEl =\n",
              "          document.querySelector('#df-05028123-4a40-4011-9619-2ea5a16655de button.colab-df-convert');\n",
              "        buttonEl.style.display =\n",
              "          google.colab.kernel.accessAllowed ? 'block' : 'none';\n",
              "\n",
              "        async function convertToInteractive(key) {\n",
              "          const element = document.querySelector('#df-05028123-4a40-4011-9619-2ea5a16655de');\n",
              "          const dataTable =\n",
              "            await google.colab.kernel.invokeFunction('convertToInteractive',\n",
              "                                                     [key], {});\n",
              "          if (!dataTable) return;\n",
              "\n",
              "          const docLinkHtml = 'Like what you see? Visit the ' +\n",
              "            '<a target=\"_blank\" href=https://colab.research.google.com/notebooks/data_table.ipynb>data table notebook</a>'\n",
              "            + ' to learn more about interactive tables.';\n",
              "          element.innerHTML = '';\n",
              "          dataTable['output_type'] = 'display_data';\n",
              "          await google.colab.output.renderOutput(dataTable, element);\n",
              "          const docLink = document.createElement('div');\n",
              "          docLink.innerHTML = docLinkHtml;\n",
              "          element.appendChild(docLink);\n",
              "        }\n",
              "      </script>\n",
              "    </div>\n",
              "  </div>\n",
              "  "
            ]
          },
          "metadata": {},
          "execution_count": 41
        }
      ]
    },
    {
      "cell_type": "code",
      "source": [
        "# device type\n",
        "if torch.cuda.is_available():\n",
        "    device = torch.device(\"cuda\")\n",
        "    print(f\"# available GPUs : {torch.cuda.device_count()}\")\n",
        "    print(f\"GPU name : {torch.cuda.get_device_name()}\")\n",
        "else:\n",
        "    device = torch.device(\"cpu\")\n",
        "print(device)"
      ],
      "metadata": {
        "id": "4BDhax7ER97G",
        "colab": {
          "base_uri": "https://localhost:8080/"
        },
        "outputId": "32308a2e-5230-4da2-ca12-06982d52575a"
      },
      "execution_count": null,
      "outputs": [
        {
          "output_type": "stream",
          "name": "stdout",
          "text": [
            "# available GPUs : 1\n",
            "GPU name : Tesla T4\n",
            "cuda\n"
          ]
        }
      ]
    },
    {
      "cell_type": "code",
      "source": [
        "from transformers import AutoTokenizer, AutoModelForSequenceClassification, TrainingArguments, Trainer, AutoModel\n",
        "from transformers import get_linear_schedule_with_warmup, get_constant_schedule"
      ],
      "metadata": {
        "id": "jCHq5q6WWxin"
      },
      "execution_count": null,
      "outputs": []
    },
    {
      "cell_type": "code",
      "source": [
        "model_checkpoint"
      ],
      "metadata": {
        "colab": {
          "base_uri": "https://localhost:8080/",
          "height": 35
        },
        "id": "_m1g5IUzYFc7",
        "outputId": "6594125a-e06e-4cf1-e78f-9c6d86111bf8"
      },
      "execution_count": null,
      "outputs": [
        {
          "output_type": "execute_result",
          "data": {
            "text/plain": [
              "'klue/roberta-base'"
            ],
            "application/vnd.google.colaboratory.intrinsic+json": {
              "type": "string"
            }
          },
          "metadata": {},
          "execution_count": 44
        }
      ]
    },
    {
      "cell_type": "code",
      "source": [
        "tokenizer = AutoTokenizer.from_pretrained(\"rurupang/roberta-base-finetuned-sts\")"
      ],
      "metadata": {
        "id": "SzsAojjVYHh8"
      },
      "execution_count": null,
      "outputs": []
    },
    {
      "cell_type": "code",
      "source": [
        "class CustomDataset(Dataset):\n",
        "    def __init__(self, sentence1, sentence2, real_label):\n",
        "        self.X1 = sentence1 #list str\n",
        "        self.X2 = sentence2 #list str\n",
        "        self.Y = real_label #list float\n",
        "\n",
        "    def __len__(self):\n",
        "        return len(self.X1)\n",
        "    \n",
        "    def __getitem__(self, index):\n",
        "        return self.X1[index], self.X2[index], self.Y[index]"
      ],
      "metadata": {
        "id": "7HKRAfmoZUyT"
      },
      "execution_count": null,
      "outputs": []
    },
    {
      "cell_type": "code",
      "source": [
        "def generate_dataset(df, flag):\n",
        "    sen_one = df['sentence1'].tolist()\n",
        "    sen_two = df['sentence2'].tolist()\n",
        "    real_lab = df['real-label'].tolist()\n",
        "    \n",
        "    if flag:\n",
        "        return CustomDataset(sen_one, sen_two, real_lab)\n",
        "    else:\n",
        "        return CustomDataset(sen_one, sen_two, lab)"
      ],
      "metadata": {
        "id": "FzA0s2kVjhPl"
      },
      "execution_count": null,
      "outputs": []
    },
    {
      "cell_type": "code",
      "source": [
        "train, val = train_test_split(df, test_size=0.1, shuffle=True)"
      ],
      "metadata": {
        "id": "Rs-KC8o4ll-Q"
      },
      "execution_count": null,
      "outputs": []
    },
    {
      "cell_type": "code",
      "source": [
        "train_dataset = generate_dataset(train, True)\n",
        "val_dataset = generate_dataset(val, True)\n",
        "test_dataset = generate_dataset(test, True)"
      ],
      "metadata": {
        "id": "lzJ1wDMIjnGc"
      },
      "execution_count": null,
      "outputs": []
    },
    {
      "cell_type": "code",
      "source": [
        "# seed 설정\n",
        "seed = 42\n",
        "random.seed(seed)\n",
        "torch.manual_seed(seed)\n",
        "torch.cuda.manual_seed_all(seed)"
      ],
      "metadata": {
        "id": "WtPmO4Tki6QV"
      },
      "execution_count": null,
      "outputs": []
    },
    {
      "cell_type": "code",
      "source": [
        "max_length = 128"
      ],
      "metadata": {
        "id": "nPHBzE87ERZE"
      },
      "execution_count": null,
      "outputs": []
    },
    {
      "cell_type": "code",
      "source": [
        "def CustomCollateFn(batch):\n",
        "    sen_one_list = []\n",
        "    sen_two_list = []\n",
        "    label_list = []\n",
        "\n",
        "\n",
        "    for sen_one, sen_two, label in batch:\n",
        "        sen_one_list.append(sen_one)\n",
        "        sen_two_list.append(sen_two)\n",
        "        label_list.append(label/5.0)\n",
        "    \n",
        "    tokenized_sen_one = tokenizer(sen_one_list, add_special_tokens=True, padding='max_length',\n",
        "                                truncation=True, max_length=max_length, return_tensors='pt')\n",
        "    tokenized_sen_two = tokenizer(sen_two_list, add_special_tokens=True, padding='max_length',\n",
        "                                truncation=True, max_length=max_length, return_tensors='pt')\n",
        "\n",
        "    label_list = torch.Tensor(label_list)\n",
        "\n",
        "\n",
        "    return (tokenized_sen_one, tokenized_sen_two, label_list)\n",
        "\n",
        "def CustomCollateFn_dev(batch):\n",
        "    sen_one_list = []\n",
        "    sen_two_list = []\n",
        "    label_list = []\n",
        "\n",
        "\n",
        "    for sen_one, sen_two, label in batch:\n",
        "        sen_one_list.append(sen_one)\n",
        "        sen_two_list.append(sen_two)\n",
        "        label_list.append(label)\n",
        "\n",
        "    tokenized_sen_one = tokenizer(sen_one_list, add_special_tokens=True, padding='max_length',\n",
        "                                truncation=True, max_length=max_length, return_tensors='pt')\n",
        "    tokenized_sen_two = tokenizer(sen_two_list, add_special_tokens=True, padding='max_length',\n",
        "                                truncation=True, max_length=max_length, return_tensors='pt')\n",
        "\n",
        "    label_list = torch.Tensor(label_list)\n",
        "\n",
        "    return (tokenized_sen_one, tokenized_sen_two, label_list)"
      ],
      "metadata": {
        "id": "zzTwHuOW1X09"
      },
      "execution_count": null,
      "outputs": []
    },
    {
      "cell_type": "code",
      "source": [
        "def mean_pooling_fn(model_output, attention_mask):\n",
        "    token_embeddings = model_output[0] #First element of model_output contains all token embeddings\n",
        "    input_mask_expanded = attention_mask.unsqueeze(-1).expand(token_embeddings.size()).float()\n",
        "    return torch.sum(token_embeddings * input_mask_expanded, 1) / torch.clamp(input_mask_expanded.sum(1), min=1e-8)"
      ],
      "metadata": {
        "id": "EPs_J-VUookz"
      },
      "execution_count": null,
      "outputs": []
    },
    {
      "cell_type": "code",
      "source": [
        "class CustomPooling(nn.Module):\n",
        "    def __init__(self):\n",
        "        super(CustomPooling, self).__init__()\n",
        "\n",
        "        self.robert = AutoModel.from_pretrained(\"klue/roberta-base\")\n",
        "\n",
        "\n",
        "        self.cos_score = nn.Sequential(\n",
        "            nn.Identity()\n",
        "        )\n",
        "    \n",
        "    def forward(self, senone, sentwo):\n",
        "        output_one = self.robert(input_ids=senone['input_ids'], attention_mask=senone['attention_mask'],\n",
        "                             token_type_ids=senone['token_type_ids'])\n",
        "        output_two = self.robert(input_ids=sentwo['input_ids'], attention_mask=sentwo['attention_mask'],\n",
        "                             token_type_ids=sentwo['token_type_ids'])\n",
        "\n",
        "        pooled_one = mean_pooling_fn(output_one, senone['attention_mask'])\n",
        "        pooled_two = mean_pooling_fn(output_two, sentwo['attention_mask'])\n",
        "\n",
        "\n",
        "        cos_sim = torch.cosine_similarity(pooled_one, pooled_two)\n",
        "        logit = self.cos_score(cos_sim)\n",
        "\n",
        "        return logit"
      ],
      "metadata": {
        "id": "ok3yEC3Ko3G6"
      },
      "execution_count": null,
      "outputs": []
    },
    {
      "cell_type": "code",
      "source": [
        "def initializer(input_dataloader, epochs):\n",
        "\n",
        "    model = CustomPooling()\n",
        "    optimizer = AdamW(model.parameters(), lr=1e-5, eps=1e-8)\n",
        "    print(f'total step: {len(input_dataloader) * epochs}')\n",
        "\n",
        "    scheduler = get_linear_schedule_with_warmup(\n",
        "        optimizer,\n",
        "        num_warmup_steps = round(len(input_dataloader)*0.1),\n",
        "        num_training_steps = len(input_dataloader) * epochs,\n",
        "\n",
        "    )\n",
        "\n",
        "    return model, optimizer, scheduler"
      ],
      "metadata": {
        "id": "1O_8G5-wsJwd"
      },
      "execution_count": null,
      "outputs": []
    },
    {
      "cell_type": "code",
      "source": [
        "def initializer(input_dataloader, epochs):\n",
        "    \"\"\"\n",
        "    설정에 맞춰서 wandb sweep 실행.\n",
        "    \"\"\"\n",
        "    wandb.init(config=sweep_config)\n",
        "    model = CustomPooling()   \n",
        "    w_config = wandb.config   \n",
        "\n",
        "    optimizer = AdamW(model.parameters(), lr = 1e-5, eps = 1e-8) \n",
        "    scheduler = get_linear_schedule_with_warmup(\n",
        "        optimizer,\n",
        "        num_warmup_steps = round(len(input_dataloader)*0.1),\n",
        "        num_training_steps = len(input_dataloader) * epochs,\n",
        "\n",
        "    )\n",
        "    print(f'total step: {len(input_dataloader) * epochs}') \n",
        "    text_table = wandb.Table(columns=[\"epoch\", \"step\", \"text\", 'true_label', 'pred_label'])\n",
        "    wandb.log({f\"error-text-{wandb.run.name}\" : text_table})\n",
        "    return model, optimizer, scheduler"
      ],
      "metadata": {
        "id": "Sc57lFAhqR7G"
      },
      "execution_count": null,
      "outputs": []
    },
    {
      "cell_type": "code",
      "source": [
        "metric_name = \"pearsonr\""
      ],
      "metadata": {
        "id": "SnJ-gUFqMw2U"
      },
      "execution_count": null,
      "outputs": []
    },
    {
      "cell_type": "code",
      "source": [
        "model_name = model_checkpoint.split(\"/\")[-1]\n",
        "output_dir = os.path.join(\"test-klue\", \"sts\")\n",
        "logging_dir = os.path.join(output_dir, 'logs')\n",
        "args = TrainingArguments(\n",
        "    # checkpoint\n",
        "    output_dir=output_dir,\n",
        "    # overwrite_output_dir=True,\n",
        "\n",
        "    # Model Save & Load\n",
        "    save_strategy = \"epoch\", # 'steps'\n",
        "    load_best_model_at_end=True,\n",
        "    # save_steps = 500,\n",
        "\n",
        "\n",
        "    # Dataset\n",
        "    num_train_epochs=4,\n",
        "    per_device_train_batch_size=32,\n",
        "    per_device_eval_batch_size=8,\n",
        "    \n",
        "    # Optimizer\n",
        "    learning_rate=1e-5, # 5e-5\n",
        "    weight_decay=0.01,  # 0\n",
        "    # warmup_steps=200,\n",
        "\n",
        "    # Resularization\n",
        "    # max_grad_norm = 1.0,\n",
        "    # label_smoothing_factor=0.1,\n",
        "\n",
        "\n",
        "    # Evaluation \n",
        "    metric_for_best_model='eval_' + metric_name,\n",
        "    evaluation_strategy = \"epoch\",\n",
        "\n",
        "\n",
        "    # Logging\n",
        "    logging_dir=logging_dir,\n",
        "    report_to='wandb',\n",
        ")"
      ],
      "metadata": {
        "id": "GY_2guKXqqEu"
      },
      "execution_count": null,
      "outputs": []
    },
    {
      "cell_type": "code",
      "source": [
        "def save_checkpoint(path, model, optimizer, scheduler, epoch, loss):\n",
        "    file_name = f'/content/drive/MyDrive/CP2/checkpoints/sts_hyper.ckpt.{epoch}'\n",
        "    torch.save({\n",
        "        'epoch':epoch,\n",
        "        'model_state_dict':model.state_dict(),\n",
        "        'optimizer_state_dict':optimizer.state_dict(),\n",
        "        'scheduler_state_dict':scheduler.state_dict(),\n",
        "        'loss':loss\n",
        "    }, file_name)\n",
        "\n",
        "    print(f'SAVING EPOCH {epoch} ...')"
      ],
      "metadata": {
        "id": "F2AprFA6za0S"
      },
      "execution_count": null,
      "outputs": []
    },
    {
      "cell_type": "code",
      "source": [
        "def train(model, loss_fct, scheduler, optimizer, train_dataloader, valid_dataloader, epochs):\n",
        "    for epoch in range(epochs):\n",
        "        print(f'****** STARTING TO TRAIN EPOCH #{epoch} ******')\n",
        "\n",
        "        wandb.watch(model, log=\"all\", log_freq = 10)\n",
        "        total_loss = 0\n",
        "        batch_loss = 0\n",
        "        batch_count = 0\n",
        "\n",
        "        model.train()\n",
        "        model.to(device)\n",
        "\n",
        "        for step, batch in enumerate(train_dataloader):\n",
        "            batch_count += 1\n",
        "            batch = tuple(items.to(device) for items in batch)\n",
        "\n",
        "            (x_batch_one, x_batch_two, y_batch) = batch\n",
        "\n",
        "            model.zero_grad()\n",
        "\n",
        "            logit = model(x_batch_one, x_batch_two)\n",
        "            loss = loss_fct(logit, y_batch)\n",
        "\n",
        "            batch_loss += loss.item()\n",
        "            total_loss += loss.item()\n",
        "\n",
        "            loss.backward()\n",
        "            clip_grad_norm_(model.parameters(), 1.0)\n",
        "\n",
        "            optimizer.step()\n",
        "            scheduler.step()\n",
        "\n",
        "            if(step % 10 == 0 and step != 0):\n",
        "                wandb.log({'train_loss': batch_loss / batch_count, 'train_lr': optimizer.param_groups[0]['lr']})\n",
        "                print(f\"Step : {step + 1}, train Loss : {batch_loss / batch_count:.4f}\")                      \n",
        "                # reset \n",
        "                batch_loss, batch_count = 0,0\n",
        "\n",
        "        wandb.log({'total_train_loss': total_loss / (step + 1), 'total_train_lr': optimizer.param_groups[0]['lr'], \"epoch\" : (epoch + 1)})\n",
        "  \n",
        "\n",
        "        print(f\"Epoch {epoch} Total Mean Loss : {total_loss/(step+1):.4f}\")\n",
        "        print(f\"*****Epoch {epoch} Train Finish*****\\n\")\n",
        "        save_checkpoint(\".\", model, optimizer, scheduler, epoch, total_loss/(step+1))\n",
        "        torch.cuda.empty_cache()\n",
        "       \n",
        "        if valid_dataloader is not None:\n",
        "            print(f\"*****Epoch {epoch} Valid Start*****\")\n",
        "            valid_loss, valid_pearson, valid_f1 = validate(model, loss_fct, valid_dataloader)\n",
        "            print(f\"Epoch {epoch} Valid Loss : {valid_loss} Valid Pearsonr : {valid_pearson} ValidF1 : {valid_f1}\")\n",
        "            print(f\"*****Epoch {epoch} Valid Finish*****\\n\")\n",
        "  \n",
        "\n",
        "    print('** Train Completed! **')"
      ],
      "metadata": {
        "id": "B3gbKP_kM5RF"
      },
      "execution_count": null,
      "outputs": []
    },
    {
      "cell_type": "code",
      "source": [
        "from datasets import list_metrics, load_metric\n",
        "metrics_list = list_metrics()\n",
        "len(metrics_list)\n",
        "print(', '.join(metric for metric in metrics_list))"
      ],
      "metadata": {
        "colab": {
          "base_uri": "https://localhost:8080/"
        },
        "id": "xKjWBJ5rgTir",
        "outputId": "981523f4-435a-40c8-cec8-0c3835f3c337"
      },
      "execution_count": null,
      "outputs": [
        {
          "output_type": "stream",
          "name": "stdout",
          "text": [
            "accuracy, bertscore, bleu, bleurt, cer, chrf, code_eval, comet, competition_math, coval, cuad, exact_match, f1, frugalscore, glue, google_bleu, indic_glue, mae, mahalanobis, matthews_correlation, mauve, mean_iou, meteor, mse, pearsonr, perplexity, precision, recall, roc_auc, rouge, sacrebleu, sari, seqeval, spearmanr, squad, squad_v2, super_glue, ter, wer, wiki_split, xnli, xtreme_s\n"
          ]
        }
      ]
    },
    {
      "cell_type": "code",
      "source": [
        "metric_name = \"pearsonr\"\n",
        "metric_pearsonr = load_metric(metric_name)\n",
        "metric_name2 = \"f1\"\n",
        "metric_f1 = load_metric(metric_name2)"
      ],
      "metadata": {
        "id": "s0anvhTykJ0L"
      },
      "execution_count": null,
      "outputs": []
    },
    {
      "cell_type": "code",
      "source": [
        "def compute_metrics(eval_pred):\n",
        "    predictions, labels = eval_pred\n",
        "    predictions = predictions[:, 0]\n",
        "    pr = metric_pearsonr.compute(predictions=predictions,\n",
        "                                  references=labels)\n",
        "    return pr\n",
        "\n",
        "    f1 = metric_f1.compute(predictions=predictions,\n",
        "                                  references=labels)\n",
        "    return {'pearsonr' : pr,\n",
        "             'f1' : f1}"
      ],
      "metadata": {
        "id": "wv5w6czrkTnf"
      },
      "execution_count": null,
      "outputs": []
    },
    {
      "cell_type": "code",
      "source": [
        "!pip install audtorch"
      ],
      "metadata": {
        "colab": {
          "base_uri": "https://localhost:8080/"
        },
        "id": "m34YdaallRZu",
        "outputId": "c426a887-5b05-426b-cb01-60ae3fcf24a2"
      },
      "execution_count": null,
      "outputs": [
        {
          "output_type": "stream",
          "name": "stdout",
          "text": [
            "Looking in indexes: https://pypi.org/simple, https://us-python.pkg.dev/colab-wheels/public/simple/\n",
            "Requirement already satisfied: audtorch in /usr/local/lib/python3.7/dist-packages (0.6.4)\n",
            "Requirement already satisfied: resampy in /usr/local/lib/python3.7/dist-packages (from audtorch) (0.2.2)\n",
            "Requirement already satisfied: librosa>=0.8.0 in /usr/local/lib/python3.7/dist-packages (from audtorch) (0.8.1)\n",
            "Requirement already satisfied: numpy in /usr/local/lib/python3.7/dist-packages (from audtorch) (1.21.6)\n",
            "Requirement already satisfied: pandas in /usr/local/lib/python3.7/dist-packages (from audtorch) (1.3.5)\n",
            "Requirement already satisfied: tqdm in /usr/local/lib/python3.7/dist-packages (from audtorch) (4.64.0)\n",
            "Requirement already satisfied: tabulate in /usr/local/lib/python3.7/dist-packages (from audtorch) (0.8.9)\n",
            "Requirement already satisfied: torch in /usr/local/lib/python3.7/dist-packages (from audtorch) (1.11.0+cu113)\n",
            "Requirement already satisfied: audiofile in /usr/local/lib/python3.7/dist-packages (from audtorch) (1.1.0)\n",
            "Requirement already satisfied: joblib>=0.14 in /usr/local/lib/python3.7/dist-packages (from librosa>=0.8.0->audtorch) (1.1.0)\n",
            "Requirement already satisfied: scipy>=1.0.0 in /usr/local/lib/python3.7/dist-packages (from librosa>=0.8.0->audtorch) (1.4.1)\n",
            "Requirement already satisfied: numba>=0.43.0 in /usr/local/lib/python3.7/dist-packages (from librosa>=0.8.0->audtorch) (0.51.2)\n",
            "Requirement already satisfied: packaging>=20.0 in /usr/local/lib/python3.7/dist-packages (from librosa>=0.8.0->audtorch) (21.3)\n",
            "Requirement already satisfied: pooch>=1.0 in /usr/local/lib/python3.7/dist-packages (from librosa>=0.8.0->audtorch) (1.6.0)\n",
            "Requirement already satisfied: audioread>=2.0.0 in /usr/local/lib/python3.7/dist-packages (from librosa>=0.8.0->audtorch) (2.1.9)\n",
            "Requirement already satisfied: scikit-learn!=0.19.0,>=0.14.0 in /usr/local/lib/python3.7/dist-packages (from librosa>=0.8.0->audtorch) (1.0.2)\n",
            "Requirement already satisfied: decorator>=3.0.0 in /usr/local/lib/python3.7/dist-packages (from librosa>=0.8.0->audtorch) (4.4.2)\n",
            "Requirement already satisfied: soundfile>=0.10.2 in /usr/local/lib/python3.7/dist-packages (from librosa>=0.8.0->audtorch) (0.10.3.post1)\n",
            "Requirement already satisfied: llvmlite<0.35,>=0.34.0.dev0 in /usr/local/lib/python3.7/dist-packages (from numba>=0.43.0->librosa>=0.8.0->audtorch) (0.34.0)\n",
            "Requirement already satisfied: setuptools in /usr/local/lib/python3.7/dist-packages (from numba>=0.43.0->librosa>=0.8.0->audtorch) (57.4.0)\n",
            "Requirement already satisfied: pyparsing!=3.0.5,>=2.0.2 in /usr/local/lib/python3.7/dist-packages (from packaging>=20.0->librosa>=0.8.0->audtorch) (3.0.9)\n",
            "Requirement already satisfied: requests>=2.19.0 in /usr/local/lib/python3.7/dist-packages (from pooch>=1.0->librosa>=0.8.0->audtorch) (2.23.0)\n",
            "Requirement already satisfied: appdirs>=1.3.0 in /usr/local/lib/python3.7/dist-packages (from pooch>=1.0->librosa>=0.8.0->audtorch) (1.4.4)\n",
            "Requirement already satisfied: idna<3,>=2.5 in /usr/local/lib/python3.7/dist-packages (from requests>=2.19.0->pooch>=1.0->librosa>=0.8.0->audtorch) (2.10)\n",
            "Requirement already satisfied: chardet<4,>=3.0.2 in /usr/local/lib/python3.7/dist-packages (from requests>=2.19.0->pooch>=1.0->librosa>=0.8.0->audtorch) (3.0.4)\n",
            "Requirement already satisfied: urllib3!=1.25.0,!=1.25.1,<1.26,>=1.21.1 in /usr/local/lib/python3.7/dist-packages (from requests>=2.19.0->pooch>=1.0->librosa>=0.8.0->audtorch) (1.25.11)\n",
            "Requirement already satisfied: certifi>=2017.4.17 in /usr/local/lib/python3.7/dist-packages (from requests>=2.19.0->pooch>=1.0->librosa>=0.8.0->audtorch) (2022.5.18.1)\n",
            "Requirement already satisfied: six>=1.3 in /usr/local/lib/python3.7/dist-packages (from resampy->audtorch) (1.15.0)\n",
            "Requirement already satisfied: threadpoolctl>=2.0.0 in /usr/local/lib/python3.7/dist-packages (from scikit-learn!=0.19.0,>=0.14.0->librosa>=0.8.0->audtorch) (3.1.0)\n",
            "Requirement already satisfied: cffi>=1.0 in /usr/local/lib/python3.7/dist-packages (from soundfile>=0.10.2->librosa>=0.8.0->audtorch) (1.15.0)\n",
            "Requirement already satisfied: pycparser in /usr/local/lib/python3.7/dist-packages (from cffi>=1.0->soundfile>=0.10.2->librosa>=0.8.0->audtorch) (2.21)\n",
            "Requirement already satisfied: sox in /usr/local/lib/python3.7/dist-packages (from audiofile->audtorch) (1.4.1)\n",
            "Requirement already satisfied: audeer in /usr/local/lib/python3.7/dist-packages (from audiofile->audtorch) (1.18.0)\n",
            "Requirement already satisfied: python-dateutil>=2.7.3 in /usr/local/lib/python3.7/dist-packages (from pandas->audtorch) (2.8.2)\n",
            "Requirement already satisfied: pytz>=2017.3 in /usr/local/lib/python3.7/dist-packages (from pandas->audtorch) (2022.1)\n",
            "Requirement already satisfied: typing-extensions in /usr/local/lib/python3.7/dist-packages (from torch->audtorch) (4.2.0)\n"
          ]
        }
      ]
    },
    {
      "cell_type": "code",
      "source": [
        "from audtorch.metrics.functional import pearsonr\n",
        "from scipy import stats"
      ],
      "metadata": {
        "id": "R3BbSATSz4G8"
      },
      "execution_count": null,
      "outputs": []
    },
    {
      "cell_type": "code",
      "source": [
        "def validate(model, loss_fct, valid_dataloader):\n",
        "\n",
        "    model.eval()\n",
        "    model.to(device)\n",
        "\n",
        "    total_loss = 0\n",
        "    total_acc = 0\n",
        "    all_prediction = []\n",
        "    all_reallabel = []\n",
        "\n",
        "    for step, batch in enumerate(valid_dataloader):\n",
        "        batch = tuple(items.to(device) for items in batch)\n",
        "\n",
        "        (x_batch_one, x_batch_two, batch_y) = batch\n",
        "\n",
        "        with torch.no_grad():\n",
        "            logit = model(x_batch_one, x_batch_two)\n",
        "\n",
        "        logit = logit*5\n",
        "        loss = loss_fct(logit, batch_y)\n",
        "        total_loss += loss.item()\n",
        "\n",
        "\n",
        "        logit = logit[:].cpu()\n",
        "        batch_y = batch_y.cpu()\n",
        "\n",
        "        print(f'Step: {step},  Pearson: {pearsonr(logit, batch_y)}')\n",
        "\n",
        "        all_prediction = all_prediction + logit.tolist()\n",
        "        all_reallabel = all_reallabel + batch_y.tolist()\n",
        "\n",
        "    #pearson\n",
        "\n",
        "    pred = torch.Tensor(all_prediction) # x\n",
        "    real = torch.Tensor(all_reallabel) # y\n",
        "    \n",
        "    pearson = pearsonr(pred, real)\n",
        "    \n",
        "    #loss\n",
        "    total_loss = total_loss / (step+1)\n",
        "\n",
        "    #f1\n",
        "    fone = f1_process(pred, real)\n",
        "\n",
        "    wandb.log({'total_valid_loss': total_loss, \"total_f1_score \": fone, \"total_pearsonr\" : pearson})  \n",
        "    print('total_valid_loss : ', total_loss, \"total_f1_score : \",  fone,  \"total_pearsonr :\", pearson)  \n",
        "    return total_loss, pearson, fone"
      ],
      "metadata": {
        "id": "Ce9_9CIVlWn3"
      },
      "execution_count": null,
      "outputs": []
    },
    {
      "cell_type": "code",
      "source": [
        "def f1_process(pred, real):\n",
        "    bin_real = []\n",
        "    bin_pred = []\n",
        "\n",
        "    for index in range(len(real)):\n",
        "        if real[index] < 3:\n",
        "            bin_real.append(0)\n",
        "        else:\n",
        "            bin_real.append(1)\n",
        "    \n",
        "        if pred[index] < 3:\n",
        "            bin_pred.append(0)\n",
        "        else:\n",
        "            bin_pred.append(1)\n",
        "\n",
        "    return f1_score(bin_real, bin_pred)"
      ],
      "metadata": {
        "id": "n_iqdWlMlfIB"
      },
      "execution_count": null,
      "outputs": []
    },
    {
      "cell_type": "code",
      "source": [
        "train_dataloader = DataLoader(\n",
        "    train_dataset,\n",
        "    batch_size = 32,\n",
        "    sampler = RandomSampler(train_dataset),\n",
        "    collate_fn = CustomCollateFn,\n",
        ")\n",
        "valid_dataloader = DataLoader(\n",
        "    val_dataset,\n",
        "    batch_size = 8,\n",
        "    sampler = SequentialSampler(val_dataset),\n",
        "    collate_fn = CustomCollateFn_dev,\n",
        ")\n",
        "test_dataloader = DataLoader(\n",
        "    test_dataset,\n",
        "    batch_size = 8,\n",
        "    sampler = SequentialSampler(test_dataset),\n",
        "    collate_fn = CustomCollateFn_dev,\n",
        ")"
      ],
      "metadata": {
        "id": "8PjTOj-tlg2i"
      },
      "execution_count": null,
      "outputs": []
    },
    {
      "cell_type": "code",
      "source": [
        "!pip install wandb"
      ],
      "metadata": {
        "colab": {
          "base_uri": "https://localhost:8080/"
        },
        "id": "ShalEM-XnUW1",
        "outputId": "52880622-8b97-4127-b3c3-8803d278c0ca"
      },
      "execution_count": null,
      "outputs": [
        {
          "output_type": "stream",
          "name": "stdout",
          "text": [
            "Looking in indexes: https://pypi.org/simple, https://us-python.pkg.dev/colab-wheels/public/simple/\n",
            "Requirement already satisfied: wandb in /usr/local/lib/python3.7/dist-packages (0.12.17)\n",
            "Requirement already satisfied: promise<3,>=2.0 in /usr/local/lib/python3.7/dist-packages (from wandb) (2.3)\n",
            "Requirement already satisfied: GitPython>=1.0.0 in /usr/local/lib/python3.7/dist-packages (from wandb) (3.1.27)\n",
            "Requirement already satisfied: docker-pycreds>=0.4.0 in /usr/local/lib/python3.7/dist-packages (from wandb) (0.4.0)\n",
            "Requirement already satisfied: sentry-sdk>=1.0.0 in /usr/local/lib/python3.7/dist-packages (from wandb) (1.5.12)\n",
            "Requirement already satisfied: pathtools in /usr/local/lib/python3.7/dist-packages (from wandb) (0.1.2)\n",
            "Requirement already satisfied: psutil>=5.0.0 in /usr/local/lib/python3.7/dist-packages (from wandb) (5.4.8)\n",
            "Requirement already satisfied: PyYAML in /usr/local/lib/python3.7/dist-packages (from wandb) (6.0)\n",
            "Requirement already satisfied: shortuuid>=0.5.0 in /usr/local/lib/python3.7/dist-packages (from wandb) (1.0.9)\n",
            "Requirement already satisfied: protobuf<4.0dev,>=3.12.0 in /usr/local/lib/python3.7/dist-packages (from wandb) (3.17.3)\n",
            "Requirement already satisfied: setuptools in /usr/local/lib/python3.7/dist-packages (from wandb) (57.4.0)\n",
            "Requirement already satisfied: requests<3,>=2.0.0 in /usr/local/lib/python3.7/dist-packages (from wandb) (2.23.0)\n",
            "Requirement already satisfied: Click!=8.0.0,>=7.0 in /usr/local/lib/python3.7/dist-packages (from wandb) (7.1.2)\n",
            "Requirement already satisfied: python-dateutil>=2.6.1 in /usr/local/lib/python3.7/dist-packages (from wandb) (2.8.2)\n",
            "Requirement already satisfied: setproctitle in /usr/local/lib/python3.7/dist-packages (from wandb) (1.2.3)\n",
            "Requirement already satisfied: six>=1.13.0 in /usr/local/lib/python3.7/dist-packages (from wandb) (1.15.0)\n",
            "Requirement already satisfied: typing-extensions>=3.7.4.3 in /usr/local/lib/python3.7/dist-packages (from GitPython>=1.0.0->wandb) (4.2.0)\n",
            "Requirement already satisfied: gitdb<5,>=4.0.1 in /usr/local/lib/python3.7/dist-packages (from GitPython>=1.0.0->wandb) (4.0.9)\n",
            "Requirement already satisfied: smmap<6,>=3.0.1 in /usr/local/lib/python3.7/dist-packages (from gitdb<5,>=4.0.1->GitPython>=1.0.0->wandb) (5.0.0)\n",
            "Requirement already satisfied: idna<3,>=2.5 in /usr/local/lib/python3.7/dist-packages (from requests<3,>=2.0.0->wandb) (2.10)\n",
            "Requirement already satisfied: certifi>=2017.4.17 in /usr/local/lib/python3.7/dist-packages (from requests<3,>=2.0.0->wandb) (2022.5.18.1)\n",
            "Requirement already satisfied: urllib3!=1.25.0,!=1.25.1,<1.26,>=1.21.1 in /usr/local/lib/python3.7/dist-packages (from requests<3,>=2.0.0->wandb) (1.25.11)\n",
            "Requirement already satisfied: chardet<4,>=3.0.2 in /usr/local/lib/python3.7/dist-packages (from requests<3,>=2.0.0->wandb) (3.0.4)\n"
          ]
        }
      ]
    },
    {
      "cell_type": "code",
      "source": [
        "import wandb\n",
        "wandb.login()"
      ],
      "metadata": {
        "colab": {
          "base_uri": "https://localhost:8080/"
        },
        "id": "GfGcITslkdc_",
        "outputId": "f6a0cea6-06dd-447b-81f4-bd36eabdb5b8"
      },
      "execution_count": null,
      "outputs": [
        {
          "output_type": "stream",
          "name": "stderr",
          "text": [
            "\u001b[34m\u001b[1mwandb\u001b[0m: Currently logged in as: \u001b[33miljf\u001b[0m. Use \u001b[1m`wandb login --relogin`\u001b[0m to force relogin\n"
          ]
        },
        {
          "output_type": "execute_result",
          "data": {
            "text/plain": [
              "True"
            ]
          },
          "metadata": {},
          "execution_count": 70
        }
      ]
    },
    {
      "cell_type": "code",
      "source": [
        "id = wandb.util.generate_id()\n",
        "print(id)"
      ],
      "metadata": {
        "colab": {
          "base_uri": "https://localhost:8080/"
        },
        "id": "ngOBxO_fk1WJ",
        "outputId": "eb499408-412e-4c58-ff69-fe800f93d669"
      },
      "execution_count": null,
      "outputs": [
        {
          "output_type": "stream",
          "name": "stdout",
          "text": [
            "33wlf2w0\n"
          ]
        }
      ]
    },
    {
      "cell_type": "code",
      "source": [
        "sweep_config = {\n",
        "    \n",
        "    \"name\" : \"sts_r2\",   \n",
        "    \"method\": \"bayes\",\n",
        "    \"metric\": {\n",
        "        \"name\" : \"total_pearsonr\", \n",
        "        \"goal\" : \"maximize\"\n",
        "                },\n",
        "    \n",
        "    \"parameters\": { \n",
        "        \"epochs\" : {\n",
        "            \"distribution\" : \"categorical\",\n",
        "            \"values\" : [4]},\n",
        "        \"learning_rate\" : {\n",
        "            \"distribution\" : \"categorical\",\n",
        "            \"values\" : [1e-5, 2e-5, 5e-5]},                     \n",
        "        \"eps\" : {\n",
        "            \"distribution\" : \"categorical\",\n",
        "            \"values\" : [1e-8]\n",
        "        },\n",
        "        \"train_batch_size\" : {\n",
        "            \"distribution\" : \"categorical\",\n",
        "            \"values\" : [32]\n",
        "        },\n",
        "        \"valid_batch_size\" : {\n",
        "            \"distribution\" : \"categorical\",\n",
        "            \"values\" : [8]\n",
        "        },\n",
        "        \"warm_up_ratio\" : {\n",
        "            \"distribution\" : \"categorical\",\n",
        "            \"values\" : [0, 0.1]  #[0, 0.1, 0.2]\n",
        "        },\n",
        "    },         \n",
        "    \"early_terminate\" : {\n",
        "        \"type\": \"hyperband\", # metric이 2번 이상 개선되지 않을 경우 조기 종료\n",
        "        \"min_iter\" : 2,\n",
        "        \"eta\" : 2\n",
        "        }\n",
        "}"
      ],
      "metadata": {
        "id": "JyqD23kDk3Ki"
      },
      "execution_count": null,
      "outputs": []
    },
    {
      "cell_type": "code",
      "source": [
        "def run_sweeep(config=None):\n",
        "    \"\"\"\n",
        "    설정에 맞춰서 wandb sweep 실행.\n",
        "    \"\"\"\n",
        "    model = CustomPooling() \n",
        "    wandb.init(config=config)\n",
        "    w_config = wandb.config   \n",
        "    \n",
        "    optimizer = AdamW(model.parameters(), lr = w_config.learning_rate, eps =  w_config.eps) \n",
        "    num_training_steps = w_config.epochs * len(train_dataloader)\n",
        "    scheduler = get_linear_schedule_with_warmup(optimizer=optimizer, num_warmup_steps= (num_training_steps * w_config.warm_up_ratio),\n",
        "                                                num_training_steps = num_training_steps)\n",
        "    loss_fct = MSELoss()\n",
        "    train(model, loss_fct, scheduler, optimizer, train_dataloader, valid_dataloader, w_config.epochs)"
      ],
      "metadata": {
        "id": "f5dJaPq1nAu8"
      },
      "execution_count": null,
      "outputs": []
    },
    {
      "cell_type": "code",
      "source": [
        "sweep_id = wandb.sweep(sweep_config, project = \"sts_r2\")\n",
        "wandb.agent(sweep_id, run_sweeep, count = 4)"
      ],
      "metadata": {
        "colab": {
          "base_uri": "https://localhost:8080/",
          "height": 1000,
          "referenced_widgets": [
            "ed1a3413c00245479caa7a0400a87bbb",
            "4944c2a9f5864101bcba341c85167090",
            "57ceb45bfd8c41f8b1dfd54e0c0b3f88",
            "fb5e67fd365a47d087930085eb95b1b1",
            "85e8ab51a43a443c84d374a2504498d1",
            "a5d34402bea34dad8e7d2ac7a98ba3fe",
            "1859f3f9924747fba1785587dc8e4a2f",
            "2098c15b863f476e8e69d196734fda3a"
          ]
        },
        "id": "UY19bW22nRZs",
        "outputId": "4bb68982-c102-4605-9505-e80cc513cd4f"
      },
      "execution_count": null,
      "outputs": [
        {
          "output_type": "stream",
          "name": "stdout",
          "text": [
            "Create sweep with ID: yxxdtxql\n",
            "Sweep URL: https://wandb.ai/iljf/sts_r2/sweeps/yxxdtxql\n",
            "2022-05-31 06:56:13 - Starting sweep agent: entity=None, project=None, count=4\n"
          ]
        },
        {
          "output_type": "stream",
          "name": "stderr",
          "text": [
            "\u001b[34m\u001b[1mwandb\u001b[0m: Agent Starting Run: 5zxxatte with config:\n",
            "\u001b[34m\u001b[1mwandb\u001b[0m: \tepochs: 4\n",
            "\u001b[34m\u001b[1mwandb\u001b[0m: \teps: 1e-08\n",
            "\u001b[34m\u001b[1mwandb\u001b[0m: \tlearning_rate: 2e-05\n",
            "\u001b[34m\u001b[1mwandb\u001b[0m: \ttrain_batch_size: 32\n",
            "\u001b[34m\u001b[1mwandb\u001b[0m: \tvalid_batch_size: 8\n",
            "\u001b[34m\u001b[1mwandb\u001b[0m: \twarm_up_ratio: 0\n",
            "Some weights of the model checkpoint at klue/roberta-base were not used when initializing RobertaModel: ['lm_head.decoder.bias', 'lm_head.decoder.weight', 'lm_head.dense.bias', 'lm_head.layer_norm.bias', 'lm_head.dense.weight', 'lm_head.bias', 'lm_head.layer_norm.weight']\n",
            "- This IS expected if you are initializing RobertaModel from the checkpoint of a model trained on another task or with another architecture (e.g. initializing a BertForSequenceClassification model from a BertForPreTraining model).\n",
            "- This IS NOT expected if you are initializing RobertaModel from the checkpoint of a model that you expect to be exactly identical (initializing a BertForSequenceClassification model from a BertForSequenceClassification model).\n",
            "Some weights of RobertaModel were not initialized from the model checkpoint at klue/roberta-base and are newly initialized: ['roberta.pooler.dense.weight', 'roberta.pooler.dense.bias']\n",
            "You should probably TRAIN this model on a down-stream task to be able to use it for predictions and inference.\n"
          ]
        },
        {
          "output_type": "display_data",
          "data": {
            "text/plain": [
              "<IPython.core.display.HTML object>"
            ],
            "text/html": [
              "Tracking run with wandb version 0.12.17"
            ]
          },
          "metadata": {}
        },
        {
          "output_type": "display_data",
          "data": {
            "text/plain": [
              "<IPython.core.display.HTML object>"
            ],
            "text/html": [
              "Run data is saved locally in <code>/content/wandb/run-20220531_065616-5zxxatte</code>"
            ]
          },
          "metadata": {}
        },
        {
          "output_type": "display_data",
          "data": {
            "text/plain": [
              "<IPython.core.display.HTML object>"
            ],
            "text/html": [
              "Syncing run <strong><a href=\"https://wandb.ai/iljf/sts_r2/runs/5zxxatte\" target=\"_blank\">effortless-sweep-1</a></strong> to <a href=\"https://wandb.ai/iljf/sts_r2\" target=\"_blank\">Weights & Biases</a> (<a href=\"https://wandb.me/run\" target=\"_blank\">docs</a>)<br/>Sweep page:  <a href=\"https://wandb.ai/iljf/sts_r2/sweeps/yxxdtxql\" target=\"_blank\">https://wandb.ai/iljf/sts_r2/sweeps/yxxdtxql</a>"
            ]
          },
          "metadata": {}
        },
        {
          "output_type": "stream",
          "name": "stdout",
          "text": [
            "****** STARTING TO TRAIN EPOCH #0 ******\n",
            "Step : 11, train Loss : 0.0908\n",
            "Step : 21, train Loss : 0.0421\n",
            "Step : 31, train Loss : 0.0316\n",
            "Step : 41, train Loss : 0.0302\n",
            "Step : 51, train Loss : 0.0300\n",
            "Step : 61, train Loss : 0.0279\n",
            "Step : 71, train Loss : 0.0254\n",
            "Step : 81, train Loss : 0.0233\n",
            "Step : 91, train Loss : 0.0222\n",
            "Step : 101, train Loss : 0.0207\n",
            "Step : 111, train Loss : 0.0208\n",
            "Step : 121, train Loss : 0.0205\n",
            "Step : 131, train Loss : 0.0229\n",
            "Step : 141, train Loss : 0.0252\n",
            "Step : 151, train Loss : 0.0195\n",
            "Step : 161, train Loss : 0.0237\n",
            "Step : 171, train Loss : 0.0234\n",
            "Step : 181, train Loss : 0.0207\n",
            "Step : 191, train Loss : 0.0223\n",
            "Step : 201, train Loss : 0.0215\n",
            "Step : 211, train Loss : 0.0179\n",
            "Step : 221, train Loss : 0.0188\n",
            "Step : 231, train Loss : 0.0227\n",
            "Step : 241, train Loss : 0.0179\n",
            "Step : 251, train Loss : 0.0201\n",
            "Step : 261, train Loss : 0.0243\n",
            "Step : 271, train Loss : 0.0182\n",
            "Step : 281, train Loss : 0.0180\n",
            "Step : 291, train Loss : 0.0190\n",
            "Step : 301, train Loss : 0.0201\n",
            "Step : 311, train Loss : 0.0182\n",
            "Step : 321, train Loss : 0.0172\n",
            "Step : 331, train Loss : 0.0216\n",
            "Step : 341, train Loss : 0.0180\n",
            "Step : 351, train Loss : 0.0204\n",
            "Step : 361, train Loss : 0.0200\n",
            "Step : 371, train Loss : 0.0187\n",
            "Step : 381, train Loss : 0.0167\n",
            "Step : 391, train Loss : 0.0152\n",
            "Step : 401, train Loss : 0.0166\n",
            "Step : 411, train Loss : 0.0172\n",
            "Step : 421, train Loss : 0.0176\n",
            "Step : 431, train Loss : 0.0189\n",
            "Step : 441, train Loss : 0.0235\n",
            "Step : 451, train Loss : 0.0178\n",
            "Step : 461, train Loss : 0.0201\n",
            "Step : 471, train Loss : 0.0173\n",
            "Step : 481, train Loss : 0.0182\n",
            "Epoch 0 Total Mean Loss : 0.0229\n",
            "*****Epoch 0 Train Finish*****\n",
            "\n",
            "SAVING EPOCH 0 ...\n",
            "*****Epoch 0 Valid Start*****\n",
            "Step: 0,  Pearson: tensor([0.9621])\n",
            "Step: 1,  Pearson: tensor([0.9723])\n",
            "Step: 2,  Pearson: tensor([0.8652])\n",
            "Step: 3,  Pearson: tensor([0.9402])\n",
            "Step: 4,  Pearson: tensor([0.9891])\n",
            "Step: 5,  Pearson: tensor([0.9225])\n",
            "Step: 6,  Pearson: tensor([0.8525])\n",
            "Step: 7,  Pearson: tensor([0.9224])\n",
            "Step: 8,  Pearson: tensor([0.7997])\n",
            "Step: 9,  Pearson: tensor([0.9370])\n",
            "Step: 10,  Pearson: tensor([0.8381])\n",
            "Step: 11,  Pearson: tensor([0.9685])\n",
            "Step: 12,  Pearson: tensor([0.9264])\n",
            "Step: 13,  Pearson: tensor([0.8869])\n",
            "Step: 14,  Pearson: tensor([0.9607])\n",
            "Step: 15,  Pearson: tensor([0.9321])\n",
            "Step: 16,  Pearson: tensor([0.9365])\n",
            "Step: 17,  Pearson: tensor([0.9390])\n",
            "Step: 18,  Pearson: tensor([0.9254])\n",
            "Step: 19,  Pearson: tensor([0.9909])\n",
            "Step: 20,  Pearson: tensor([0.9719])\n",
            "Step: 21,  Pearson: tensor([0.9384])\n",
            "Step: 22,  Pearson: tensor([0.9133])\n",
            "Step: 23,  Pearson: tensor([0.9390])\n",
            "Step: 24,  Pearson: tensor([0.9559])\n",
            "Step: 25,  Pearson: tensor([0.9759])\n",
            "Step: 26,  Pearson: tensor([0.9352])\n",
            "Step: 27,  Pearson: tensor([0.9711])\n",
            "Step: 28,  Pearson: tensor([0.9508])\n",
            "Step: 29,  Pearson: tensor([0.7790])\n",
            "Step: 30,  Pearson: tensor([0.9771])\n",
            "Step: 31,  Pearson: tensor([0.9845])\n",
            "Step: 32,  Pearson: tensor([0.9237])\n",
            "Step: 33,  Pearson: tensor([0.9822])\n",
            "Step: 34,  Pearson: tensor([0.9880])\n",
            "Step: 35,  Pearson: tensor([0.8327])\n",
            "Step: 36,  Pearson: tensor([0.8162])\n",
            "Step: 37,  Pearson: tensor([0.8881])\n",
            "Step: 38,  Pearson: tensor([0.9845])\n",
            "Step: 39,  Pearson: tensor([0.7637])\n",
            "Step: 40,  Pearson: tensor([0.9655])\n",
            "Step: 41,  Pearson: tensor([0.8698])\n",
            "Step: 42,  Pearson: tensor([0.9056])\n",
            "Step: 43,  Pearson: tensor([0.9468])\n",
            "Step: 44,  Pearson: tensor([0.8983])\n",
            "Step: 45,  Pearson: tensor([0.9717])\n",
            "Step: 46,  Pearson: tensor([0.9905])\n",
            "Step: 47,  Pearson: tensor([0.9811])\n",
            "Step: 48,  Pearson: tensor([0.8932])\n",
            "Step: 49,  Pearson: tensor([0.9359])\n",
            "Step: 50,  Pearson: tensor([0.8785])\n",
            "Step: 51,  Pearson: tensor([0.9289])\n",
            "Step: 52,  Pearson: tensor([0.9557])\n",
            "Step: 53,  Pearson: tensor([0.8494])\n",
            "Step: 54,  Pearson: tensor([0.9236])\n",
            "Step: 55,  Pearson: tensor([0.9206])\n",
            "Step: 56,  Pearson: tensor([0.9586])\n",
            "Step: 57,  Pearson: tensor([0.9634])\n",
            "Step: 58,  Pearson: tensor([0.9336])\n",
            "Step: 59,  Pearson: tensor([0.9269])\n",
            "Step: 60,  Pearson: tensor([0.8696])\n",
            "Step: 61,  Pearson: tensor([0.9415])\n",
            "Step: 62,  Pearson: tensor([0.9805])\n",
            "Step: 63,  Pearson: tensor([0.8525])\n",
            "Step: 64,  Pearson: tensor([0.9168])\n",
            "Step: 65,  Pearson: tensor([0.9340])\n",
            "Step: 66,  Pearson: tensor([0.9179])\n",
            "Step: 67,  Pearson: tensor([0.9559])\n",
            "Step: 68,  Pearson: tensor([0.9071])\n",
            "Step: 69,  Pearson: tensor([0.7456])\n",
            "Step: 70,  Pearson: tensor([0.9380])\n",
            "Step: 71,  Pearson: tensor([0.9556])\n",
            "Step: 72,  Pearson: tensor([0.9945])\n",
            "Step: 73,  Pearson: tensor([0.9405])\n",
            "Step: 74,  Pearson: tensor([0.9415])\n",
            "Step: 75,  Pearson: tensor([0.9080])\n",
            "Step: 76,  Pearson: tensor([0.9560])\n",
            "Step: 77,  Pearson: tensor([0.9864])\n",
            "Step: 78,  Pearson: tensor([0.9474])\n",
            "Step: 79,  Pearson: tensor([0.9701])\n",
            "Step: 80,  Pearson: tensor([0.8452])\n",
            "Step: 81,  Pearson: tensor([0.9868])\n",
            "Step: 82,  Pearson: tensor([0.9735])\n",
            "Step: 83,  Pearson: tensor([0.9700])\n",
            "Step: 84,  Pearson: tensor([0.9814])\n",
            "Step: 85,  Pearson: tensor([0.9645])\n",
            "Step: 86,  Pearson: tensor([0.3545])\n",
            "Step: 87,  Pearson: tensor([0.7881])\n",
            "Step: 88,  Pearson: tensor([0.9640])\n",
            "Step: 89,  Pearson: tensor([0.9237])\n",
            "Step: 90,  Pearson: tensor([0.6883])\n",
            "Step: 91,  Pearson: tensor([0.9536])\n",
            "Step: 92,  Pearson: tensor([0.9413])\n",
            "Step: 93,  Pearson: tensor([0.9257])\n",
            "Step: 94,  Pearson: tensor([0.8735])\n",
            "Step: 95,  Pearson: tensor([0.9040])\n",
            "Step: 96,  Pearson: tensor([0.9700])\n",
            "Step: 97,  Pearson: tensor([0.9772])\n",
            "Step: 98,  Pearson: tensor([0.3843])\n",
            "Step: 99,  Pearson: tensor([0.8641])\n",
            "Step: 100,  Pearson: tensor([0.8748])\n",
            "Step: 101,  Pearson: tensor([0.8765])\n",
            "Step: 102,  Pearson: tensor([0.9805])\n",
            "Step: 103,  Pearson: tensor([0.8026])\n",
            "Step: 104,  Pearson: tensor([0.8958])\n",
            "Step: 105,  Pearson: tensor([0.8578])\n",
            "Step: 106,  Pearson: tensor([0.9416])\n",
            "Step: 107,  Pearson: tensor([0.9584])\n",
            "Step: 108,  Pearson: tensor([0.9344])\n",
            "Step: 109,  Pearson: tensor([0.8254])\n",
            "Step: 110,  Pearson: tensor([0.9634])\n",
            "Step: 111,  Pearson: tensor([0.9110])\n",
            "Step: 112,  Pearson: tensor([0.9742])\n",
            "Step: 113,  Pearson: tensor([0.9734])\n",
            "Step: 114,  Pearson: tensor([0.9755])\n",
            "Step: 115,  Pearson: tensor([0.7690])\n",
            "Step: 116,  Pearson: tensor([0.7882])\n",
            "Step: 117,  Pearson: tensor([0.8943])\n",
            "Step: 118,  Pearson: tensor([0.9963])\n",
            "Step: 119,  Pearson: tensor([0.9848])\n",
            "Step: 120,  Pearson: tensor([0.8507])\n",
            "Step: 121,  Pearson: tensor([0.9514])\n",
            "Step: 122,  Pearson: tensor([0.9791])\n",
            "Step: 123,  Pearson: tensor([0.9674])\n",
            "Step: 124,  Pearson: tensor([0.9220])\n",
            "Step: 125,  Pearson: tensor([0.9432])\n",
            "Step: 126,  Pearson: tensor([0.9898])\n",
            "Step: 127,  Pearson: tensor([0.9010])\n",
            "Step: 128,  Pearson: tensor([0.8612])\n",
            "Step: 129,  Pearson: tensor([0.9771])\n",
            "Step: 130,  Pearson: tensor([0.8768])\n",
            "Step: 131,  Pearson: tensor([0.9507])\n",
            "Step: 132,  Pearson: tensor([0.9620])\n",
            "Step: 133,  Pearson: tensor([0.9676])\n",
            "Step: 134,  Pearson: tensor([0.9528])\n",
            "Step: 135,  Pearson: tensor([0.9609])\n",
            "Step: 136,  Pearson: tensor([0.9292])\n",
            "Step: 137,  Pearson: tensor([0.9720])\n",
            "Step: 138,  Pearson: tensor([0.9723])\n",
            "Step: 139,  Pearson: tensor([0.9847])\n",
            "Step: 140,  Pearson: tensor([0.9659])\n",
            "Step: 141,  Pearson: tensor([0.9123])\n",
            "Step: 142,  Pearson: tensor([0.9428])\n",
            "Step: 143,  Pearson: tensor([0.9194])\n",
            "Step: 144,  Pearson: tensor([0.9409])\n",
            "Step: 145,  Pearson: tensor([0.6444])\n",
            "Step: 146,  Pearson: tensor([0.9246])\n",
            "Step: 147,  Pearson: tensor([0.6412])\n",
            "Step: 148,  Pearson: tensor([0.9041])\n",
            "Step: 149,  Pearson: tensor([0.9666])\n",
            "Step: 150,  Pearson: tensor([0.9577])\n",
            "Step: 151,  Pearson: tensor([0.9279])\n",
            "Step: 152,  Pearson: tensor([0.9759])\n",
            "Step: 153,  Pearson: tensor([0.9867])\n",
            "Step: 154,  Pearson: tensor([0.9004])\n",
            "Step: 155,  Pearson: tensor([0.9854])\n",
            "Step: 156,  Pearson: tensor([0.9879])\n",
            "Step: 157,  Pearson: tensor([0.8126])\n",
            "Step: 158,  Pearson: tensor([0.8455])\n",
            "Step: 159,  Pearson: tensor([0.9784])\n",
            "Step: 160,  Pearson: tensor([0.9807])\n",
            "Step: 161,  Pearson: tensor([0.9693])\n",
            "Step: 162,  Pearson: tensor([0.8809])\n",
            "Step: 163,  Pearson: tensor([0.9150])\n",
            "Step: 164,  Pearson: tensor([0.8798])\n",
            "Step: 165,  Pearson: tensor([0.9107])\n",
            "Step: 166,  Pearson: tensor([0.8958])\n",
            "Step: 167,  Pearson: tensor([0.9324])\n",
            "Step: 168,  Pearson: tensor([0.8856])\n",
            "Step: 169,  Pearson: tensor([0.9444])\n",
            "Step: 170,  Pearson: tensor([0.9372])\n",
            "Step: 171,  Pearson: tensor([0.9289])\n",
            "Step: 172,  Pearson: tensor([0.9894])\n",
            "Step: 173,  Pearson: tensor([0.7163])\n",
            "Step: 174,  Pearson: tensor([0.9380])\n",
            "Step: 175,  Pearson: tensor([0.8574])\n",
            "Step: 176,  Pearson: tensor([0.8912])\n",
            "Step: 177,  Pearson: tensor([0.8505])\n",
            "Step: 178,  Pearson: tensor([0.6238])\n",
            "Step: 179,  Pearson: tensor([0.8687])\n",
            "Step: 180,  Pearson: tensor([0.1690])\n",
            "Step: 181,  Pearson: tensor([0.9642])\n",
            "Step: 182,  Pearson: tensor([0.9303])\n",
            "Step: 183,  Pearson: tensor([0.8925])\n",
            "Step: 184,  Pearson: tensor([0.8222])\n",
            "Step: 185,  Pearson: tensor([0.9910])\n",
            "Step: 186,  Pearson: tensor([0.9694])\n",
            "Step: 187,  Pearson: tensor([0.9095])\n",
            "Step: 188,  Pearson: tensor([0.9042])\n",
            "Step: 189,  Pearson: tensor([0.6485])\n",
            "Step: 190,  Pearson: tensor([0.9295])\n",
            "Step: 191,  Pearson: tensor([0.9093])\n",
            "Step: 192,  Pearson: tensor([0.9097])\n",
            "Step: 193,  Pearson: tensor([0.9697])\n",
            "Step: 194,  Pearson: tensor([0.8410])\n",
            "Step: 195,  Pearson: tensor([0.9792])\n",
            "Step: 196,  Pearson: tensor([0.9742])\n",
            "Step: 197,  Pearson: tensor([0.9734])\n",
            "Step: 198,  Pearson: tensor([0.9642])\n",
            "Step: 199,  Pearson: tensor([0.8945])\n",
            "Step: 200,  Pearson: tensor([0.8362])\n",
            "Step: 201,  Pearson: tensor([0.9274])\n",
            "Step: 202,  Pearson: tensor([0.5729])\n",
            "Step: 203,  Pearson: tensor([0.9287])\n",
            "Step: 204,  Pearson: tensor([0.9633])\n",
            "Step: 205,  Pearson: tensor([0.9678])\n",
            "Step: 206,  Pearson: tensor([0.8942])\n",
            "Step: 207,  Pearson: tensor([0.9392])\n",
            "Step: 208,  Pearson: tensor([0.9439])\n",
            "Step: 209,  Pearson: tensor([0.9537])\n",
            "Step: 210,  Pearson: tensor([0.6706])\n",
            "Step: 211,  Pearson: tensor([0.9123])\n",
            "Step: 212,  Pearson: tensor([0.8935])\n",
            "Step: 213,  Pearson: tensor([0.9815])\n",
            "Step: 214,  Pearson: tensor([0.9794])\n",
            "Step: 215,  Pearson: tensor([0.9364])\n",
            "Step: 216,  Pearson: tensor([0.9463])\n",
            "Step: 217,  Pearson: tensor([nan])\n",
            "total_valid_loss :  0.5564610520874389 total_f1_score :  0.9004329004329004 total_pearsonr : tensor([0.9207])\n",
            "Epoch 0 Valid Loss : 0.5564610520874389 Valid Pearsonr : tensor([0.9207]) ValidF1 : 0.9004329004329004\n",
            "*****Epoch 0 Valid Finish*****\n",
            "\n",
            "****** STARTING TO TRAIN EPOCH #1 ******\n",
            "Step : 11, train Loss : 0.0115\n",
            "Step : 21, train Loss : 0.0110\n",
            "Step : 31, train Loss : 0.0122\n",
            "Step : 41, train Loss : 0.0097\n",
            "Step : 51, train Loss : 0.0125\n",
            "Step : 61, train Loss : 0.0108\n",
            "Step : 71, train Loss : 0.0119\n",
            "Step : 81, train Loss : 0.0111\n",
            "Step : 91, train Loss : 0.0121\n",
            "Step : 101, train Loss : 0.0123\n",
            "Step : 111, train Loss : 0.0107\n",
            "Step : 121, train Loss : 0.0106\n",
            "Step : 131, train Loss : 0.0116\n",
            "Step : 141, train Loss : 0.0102\n",
            "Step : 151, train Loss : 0.0114\n",
            "Step : 161, train Loss : 0.0094\n",
            "Step : 171, train Loss : 0.0107\n",
            "Step : 181, train Loss : 0.0121\n",
            "Step : 191, train Loss : 0.0096\n",
            "Step : 201, train Loss : 0.0086\n",
            "Step : 211, train Loss : 0.0104\n",
            "Step : 221, train Loss : 0.0091\n",
            "Step : 231, train Loss : 0.0103\n",
            "Step : 241, train Loss : 0.0093\n",
            "Step : 251, train Loss : 0.0102\n",
            "Step : 261, train Loss : 0.0101\n",
            "Step : 271, train Loss : 0.0088\n",
            "Step : 281, train Loss : 0.0093\n",
            "Step : 291, train Loss : 0.0110\n",
            "Step : 301, train Loss : 0.0105\n",
            "Step : 311, train Loss : 0.0107\n",
            "Step : 321, train Loss : 0.0128\n",
            "Step : 331, train Loss : 0.0124\n",
            "Step : 341, train Loss : 0.0102\n",
            "Step : 351, train Loss : 0.0105\n",
            "Step : 361, train Loss : 0.0105\n",
            "Step : 371, train Loss : 0.0101\n",
            "Step : 381, train Loss : 0.0104\n",
            "Step : 391, train Loss : 0.0100\n",
            "Step : 401, train Loss : 0.0117\n",
            "Step : 411, train Loss : 0.0127\n",
            "Step : 421, train Loss : 0.0106\n",
            "Step : 431, train Loss : 0.0116\n",
            "Step : 441, train Loss : 0.0092\n",
            "Step : 451, train Loss : 0.0090\n",
            "Step : 461, train Loss : 0.0098\n",
            "Step : 471, train Loss : 0.0086\n",
            "Step : 481, train Loss : 0.0127\n",
            "Epoch 1 Total Mean Loss : 0.0107\n",
            "*****Epoch 1 Train Finish*****\n",
            "\n",
            "SAVING EPOCH 1 ...\n",
            "*****Epoch 1 Valid Start*****\n",
            "Step: 0,  Pearson: tensor([0.9626])\n",
            "Step: 1,  Pearson: tensor([0.9591])\n",
            "Step: 2,  Pearson: tensor([0.9248])\n",
            "Step: 3,  Pearson: tensor([0.9391])\n",
            "Step: 4,  Pearson: tensor([0.9829])\n",
            "Step: 5,  Pearson: tensor([0.9107])\n",
            "Step: 6,  Pearson: tensor([0.8924])\n",
            "Step: 7,  Pearson: tensor([0.9387])\n",
            "Step: 8,  Pearson: tensor([0.8546])\n",
            "Step: 9,  Pearson: tensor([0.9571])\n",
            "Step: 10,  Pearson: tensor([0.8990])\n",
            "Step: 11,  Pearson: tensor([0.9768])\n",
            "Step: 12,  Pearson: tensor([0.9056])\n",
            "Step: 13,  Pearson: tensor([0.8449])\n",
            "Step: 14,  Pearson: tensor([0.9552])\n",
            "Step: 15,  Pearson: tensor([0.9143])\n",
            "Step: 16,  Pearson: tensor([0.9138])\n",
            "Step: 17,  Pearson: tensor([0.9330])\n",
            "Step: 18,  Pearson: tensor([0.9385])\n",
            "Step: 19,  Pearson: tensor([0.9832])\n",
            "Step: 20,  Pearson: tensor([0.9775])\n",
            "Step: 21,  Pearson: tensor([0.9250])\n",
            "Step: 22,  Pearson: tensor([0.9242])\n",
            "Step: 23,  Pearson: tensor([0.9463])\n",
            "Step: 24,  Pearson: tensor([0.9915])\n",
            "Step: 25,  Pearson: tensor([0.9812])\n",
            "Step: 26,  Pearson: tensor([0.9435])\n",
            "Step: 27,  Pearson: tensor([0.9737])\n",
            "Step: 28,  Pearson: tensor([0.9500])\n",
            "Step: 29,  Pearson: tensor([0.8609])\n",
            "Step: 30,  Pearson: tensor([0.9792])\n",
            "Step: 31,  Pearson: tensor([0.9910])\n",
            "Step: 32,  Pearson: tensor([0.9281])\n",
            "Step: 33,  Pearson: tensor([0.9819])\n",
            "Step: 34,  Pearson: tensor([0.9832])\n",
            "Step: 35,  Pearson: tensor([0.8053])\n",
            "Step: 36,  Pearson: tensor([0.8132])\n",
            "Step: 37,  Pearson: tensor([0.9189])\n",
            "Step: 38,  Pearson: tensor([0.9892])\n",
            "Step: 39,  Pearson: tensor([0.7881])\n",
            "Step: 40,  Pearson: tensor([0.9325])\n",
            "Step: 41,  Pearson: tensor([0.9042])\n",
            "Step: 42,  Pearson: tensor([0.9280])\n",
            "Step: 43,  Pearson: tensor([0.9556])\n",
            "Step: 44,  Pearson: tensor([0.8800])\n",
            "Step: 45,  Pearson: tensor([0.9686])\n",
            "Step: 46,  Pearson: tensor([0.9910])\n",
            "Step: 47,  Pearson: tensor([0.9824])\n",
            "Step: 48,  Pearson: tensor([0.9353])\n",
            "Step: 49,  Pearson: tensor([0.9231])\n",
            "Step: 50,  Pearson: tensor([0.8549])\n",
            "Step: 51,  Pearson: tensor([0.9047])\n",
            "Step: 52,  Pearson: tensor([0.9487])\n",
            "Step: 53,  Pearson: tensor([0.8064])\n",
            "Step: 54,  Pearson: tensor([0.9335])\n",
            "Step: 55,  Pearson: tensor([0.9499])\n",
            "Step: 56,  Pearson: tensor([0.9573])\n",
            "Step: 57,  Pearson: tensor([0.9439])\n",
            "Step: 58,  Pearson: tensor([0.9235])\n",
            "Step: 59,  Pearson: tensor([0.9268])\n",
            "Step: 60,  Pearson: tensor([0.9092])\n",
            "Step: 61,  Pearson: tensor([0.9702])\n",
            "Step: 62,  Pearson: tensor([0.9860])\n",
            "Step: 63,  Pearson: tensor([0.8270])\n",
            "Step: 64,  Pearson: tensor([0.9201])\n",
            "Step: 65,  Pearson: tensor([0.9505])\n",
            "Step: 66,  Pearson: tensor([0.9038])\n",
            "Step: 67,  Pearson: tensor([0.9600])\n",
            "Step: 68,  Pearson: tensor([0.9189])\n",
            "Step: 69,  Pearson: tensor([0.8098])\n",
            "Step: 70,  Pearson: tensor([0.9602])\n",
            "Step: 71,  Pearson: tensor([0.9398])\n",
            "Step: 72,  Pearson: tensor([0.9945])\n",
            "Step: 73,  Pearson: tensor([0.9396])\n",
            "Step: 74,  Pearson: tensor([0.9467])\n",
            "Step: 75,  Pearson: tensor([0.9373])\n",
            "Step: 76,  Pearson: tensor([0.9722])\n",
            "Step: 77,  Pearson: tensor([0.9943])\n",
            "Step: 78,  Pearson: tensor([0.9327])\n",
            "Step: 79,  Pearson: tensor([0.9629])\n",
            "Step: 80,  Pearson: tensor([0.8982])\n",
            "Step: 81,  Pearson: tensor([0.9813])\n",
            "Step: 82,  Pearson: tensor([0.9816])\n",
            "Step: 83,  Pearson: tensor([0.9477])\n",
            "Step: 84,  Pearson: tensor([0.9630])\n",
            "Step: 85,  Pearson: tensor([0.9763])\n",
            "Step: 86,  Pearson: tensor([0.2459])\n",
            "Step: 87,  Pearson: tensor([0.8960])\n",
            "Step: 88,  Pearson: tensor([0.9483])\n",
            "Step: 89,  Pearson: tensor([0.9304])\n",
            "Step: 90,  Pearson: tensor([0.7548])\n",
            "Step: 91,  Pearson: tensor([0.9194])\n",
            "Step: 92,  Pearson: tensor([0.9281])\n",
            "Step: 93,  Pearson: tensor([0.9311])\n",
            "Step: 94,  Pearson: tensor([0.8934])\n",
            "Step: 95,  Pearson: tensor([0.9043])\n",
            "Step: 96,  Pearson: tensor([0.9679])\n",
            "Step: 97,  Pearson: tensor([0.9667])\n",
            "Step: 98,  Pearson: tensor([0.5791])\n",
            "Step: 99,  Pearson: tensor([0.8260])\n",
            "Step: 100,  Pearson: tensor([0.8662])\n",
            "Step: 101,  Pearson: tensor([0.9038])\n",
            "Step: 102,  Pearson: tensor([0.9769])\n",
            "Step: 103,  Pearson: tensor([0.8048])\n",
            "Step: 104,  Pearson: tensor([0.9290])\n",
            "Step: 105,  Pearson: tensor([0.8244])\n",
            "Step: 106,  Pearson: tensor([0.9434])\n",
            "Step: 107,  Pearson: tensor([0.9735])\n",
            "Step: 108,  Pearson: tensor([0.9271])\n",
            "Step: 109,  Pearson: tensor([0.8313])\n",
            "Step: 110,  Pearson: tensor([0.9527])\n",
            "Step: 111,  Pearson: tensor([0.9157])\n",
            "Step: 112,  Pearson: tensor([0.9833])\n",
            "Step: 113,  Pearson: tensor([0.9782])\n",
            "Step: 114,  Pearson: tensor([0.9779])\n",
            "Step: 115,  Pearson: tensor([0.8196])\n",
            "Step: 116,  Pearson: tensor([0.8967])\n",
            "Step: 117,  Pearson: tensor([0.9120])\n",
            "Step: 118,  Pearson: tensor([0.9863])\n",
            "Step: 119,  Pearson: tensor([0.9879])\n",
            "Step: 120,  Pearson: tensor([0.8755])\n",
            "Step: 121,  Pearson: tensor([0.9655])\n",
            "Step: 122,  Pearson: tensor([0.9938])\n",
            "Step: 123,  Pearson: tensor([0.9585])\n",
            "Step: 124,  Pearson: tensor([0.9406])\n",
            "Step: 125,  Pearson: tensor([0.9464])\n",
            "Step: 126,  Pearson: tensor([0.9931])\n",
            "Step: 127,  Pearson: tensor([0.9348])\n",
            "Step: 128,  Pearson: tensor([0.7299])\n",
            "Step: 129,  Pearson: tensor([0.9723])\n",
            "Step: 130,  Pearson: tensor([0.8844])\n",
            "Step: 131,  Pearson: tensor([0.9409])\n",
            "Step: 132,  Pearson: tensor([0.9633])\n",
            "Step: 133,  Pearson: tensor([0.9723])\n",
            "Step: 134,  Pearson: tensor([0.9583])\n",
            "Step: 135,  Pearson: tensor([0.9442])\n",
            "Step: 136,  Pearson: tensor([0.9449])\n",
            "Step: 137,  Pearson: tensor([0.9760])\n",
            "Step: 138,  Pearson: tensor([0.9751])\n",
            "Step: 139,  Pearson: tensor([0.9829])\n",
            "Step: 140,  Pearson: tensor([0.9599])\n",
            "Step: 141,  Pearson: tensor([0.9258])\n",
            "Step: 142,  Pearson: tensor([0.9055])\n",
            "Step: 143,  Pearson: tensor([0.8922])\n",
            "Step: 144,  Pearson: tensor([0.9583])\n",
            "Step: 145,  Pearson: tensor([0.6477])\n",
            "Step: 146,  Pearson: tensor([0.9382])\n",
            "Step: 147,  Pearson: tensor([0.6721])\n",
            "Step: 148,  Pearson: tensor([0.8824])\n",
            "Step: 149,  Pearson: tensor([0.9675])\n",
            "Step: 150,  Pearson: tensor([0.9455])\n",
            "Step: 151,  Pearson: tensor([0.9324])\n",
            "Step: 152,  Pearson: tensor([0.9823])\n",
            "Step: 153,  Pearson: tensor([0.9808])\n",
            "Step: 154,  Pearson: tensor([0.9092])\n",
            "Step: 155,  Pearson: tensor([0.9799])\n",
            "Step: 156,  Pearson: tensor([0.9835])\n",
            "Step: 157,  Pearson: tensor([0.8040])\n",
            "Step: 158,  Pearson: tensor([0.8363])\n",
            "Step: 159,  Pearson: tensor([0.9826])\n",
            "Step: 160,  Pearson: tensor([0.9836])\n",
            "Step: 161,  Pearson: tensor([0.9726])\n",
            "Step: 162,  Pearson: tensor([0.8141])\n",
            "Step: 163,  Pearson: tensor([0.9125])\n",
            "Step: 164,  Pearson: tensor([0.8928])\n",
            "Step: 165,  Pearson: tensor([0.9334])\n",
            "Step: 166,  Pearson: tensor([0.9299])\n",
            "Step: 167,  Pearson: tensor([0.9344])\n",
            "Step: 168,  Pearson: tensor([0.8640])\n",
            "Step: 169,  Pearson: tensor([0.9594])\n",
            "Step: 170,  Pearson: tensor([0.9450])\n",
            "Step: 171,  Pearson: tensor([0.9341])\n",
            "Step: 172,  Pearson: tensor([0.9812])\n",
            "Step: 173,  Pearson: tensor([0.7204])\n",
            "Step: 174,  Pearson: tensor([0.9316])\n",
            "Step: 175,  Pearson: tensor([0.8807])\n",
            "Step: 176,  Pearson: tensor([0.9361])\n",
            "Step: 177,  Pearson: tensor([0.8619])\n",
            "Step: 178,  Pearson: tensor([0.6849])\n",
            "Step: 179,  Pearson: tensor([0.8836])\n",
            "Step: 180,  Pearson: tensor([0.3518])\n",
            "Step: 181,  Pearson: tensor([0.9637])\n",
            "Step: 182,  Pearson: tensor([0.9326])\n",
            "Step: 183,  Pearson: tensor([0.9552])\n",
            "Step: 184,  Pearson: tensor([0.9018])\n",
            "Step: 185,  Pearson: tensor([0.9912])\n",
            "Step: 186,  Pearson: tensor([0.9829])\n",
            "Step: 187,  Pearson: tensor([0.9082])\n",
            "Step: 188,  Pearson: tensor([0.8505])\n",
            "Step: 189,  Pearson: tensor([0.7446])\n",
            "Step: 190,  Pearson: tensor([0.9131])\n",
            "Step: 191,  Pearson: tensor([0.9044])\n",
            "Step: 192,  Pearson: tensor([0.8836])\n",
            "Step: 193,  Pearson: tensor([0.9619])\n",
            "Step: 194,  Pearson: tensor([0.8499])\n",
            "Step: 195,  Pearson: tensor([0.9836])\n",
            "Step: 196,  Pearson: tensor([0.9741])\n",
            "Step: 197,  Pearson: tensor([0.9670])\n",
            "Step: 198,  Pearson: tensor([0.9668])\n",
            "Step: 199,  Pearson: tensor([0.9189])\n",
            "Step: 200,  Pearson: tensor([0.8724])\n",
            "Step: 201,  Pearson: tensor([0.9205])\n",
            "Step: 202,  Pearson: tensor([0.6747])\n",
            "Step: 203,  Pearson: tensor([0.9687])\n",
            "Step: 204,  Pearson: tensor([0.9636])\n",
            "Step: 205,  Pearson: tensor([0.9665])\n",
            "Step: 206,  Pearson: tensor([0.9119])\n",
            "Step: 207,  Pearson: tensor([0.9137])\n",
            "Step: 208,  Pearson: tensor([0.9056])\n",
            "Step: 209,  Pearson: tensor([0.9521])\n",
            "Step: 210,  Pearson: tensor([0.6478])\n",
            "Step: 211,  Pearson: tensor([0.9388])\n",
            "Step: 212,  Pearson: tensor([0.8959])\n",
            "Step: 213,  Pearson: tensor([0.9845])\n",
            "Step: 214,  Pearson: tensor([0.9822])\n",
            "Step: 215,  Pearson: tensor([0.9601])\n",
            "Step: 216,  Pearson: tensor([0.9520])\n",
            "Step: 217,  Pearson: tensor([nan])\n",
            "total_valid_loss :  0.535155339132345 total_f1_score :  0.9043010752688172 total_pearsonr : tensor([0.9244])\n",
            "Epoch 1 Valid Loss : 0.535155339132345 Valid Pearsonr : tensor([0.9244]) ValidF1 : 0.9043010752688172\n",
            "*****Epoch 1 Valid Finish*****\n",
            "\n",
            "****** STARTING TO TRAIN EPOCH #2 ******\n",
            "Step : 11, train Loss : 0.0080\n",
            "Step : 21, train Loss : 0.0063\n",
            "Step : 31, train Loss : 0.0070\n",
            "Step : 41, train Loss : 0.0067\n",
            "Step : 51, train Loss : 0.0081\n",
            "Step : 61, train Loss : 0.0077\n",
            "Step : 71, train Loss : 0.0071\n",
            "Step : 81, train Loss : 0.0065\n",
            "Step : 91, train Loss : 0.0067\n",
            "Step : 101, train Loss : 0.0076\n",
            "Step : 111, train Loss : 0.0071\n",
            "Step : 121, train Loss : 0.0065\n",
            "Step : 131, train Loss : 0.0057\n",
            "Step : 141, train Loss : 0.0063\n",
            "Step : 151, train Loss : 0.0065\n",
            "Step : 161, train Loss : 0.0075\n",
            "Step : 171, train Loss : 0.0066\n",
            "Step : 181, train Loss : 0.0061\n",
            "Step : 191, train Loss : 0.0060\n",
            "Step : 201, train Loss : 0.0072\n",
            "Step : 211, train Loss : 0.0071\n",
            "Step : 221, train Loss : 0.0084\n",
            "Step : 231, train Loss : 0.0060\n",
            "Step : 241, train Loss : 0.0069\n",
            "Step : 251, train Loss : 0.0076\n",
            "Step : 261, train Loss : 0.0067\n",
            "Step : 271, train Loss : 0.0072\n",
            "Step : 281, train Loss : 0.0066\n",
            "Step : 291, train Loss : 0.0067\n",
            "Step : 301, train Loss : 0.0065\n",
            "Step : 311, train Loss : 0.0071\n",
            "Step : 321, train Loss : 0.0074\n",
            "Step : 331, train Loss : 0.0068\n",
            "Step : 341, train Loss : 0.0075\n",
            "Step : 351, train Loss : 0.0075\n",
            "Step : 361, train Loss : 0.0067\n",
            "Step : 371, train Loss : 0.0068\n",
            "Step : 381, train Loss : 0.0071\n",
            "Step : 391, train Loss : 0.0060\n",
            "Step : 401, train Loss : 0.0054\n",
            "Step : 411, train Loss : 0.0068\n",
            "Step : 421, train Loss : 0.0061\n",
            "Step : 431, train Loss : 0.0070\n",
            "Step : 441, train Loss : 0.0075\n",
            "Step : 451, train Loss : 0.0057\n",
            "Step : 461, train Loss : 0.0069\n",
            "Step : 471, train Loss : 0.0064\n",
            "Step : 481, train Loss : 0.0071\n",
            "Epoch 2 Total Mean Loss : 0.0068\n",
            "*****Epoch 2 Train Finish*****\n",
            "\n",
            "SAVING EPOCH 2 ...\n",
            "*****Epoch 2 Valid Start*****\n",
            "Step: 0,  Pearson: tensor([0.9639])\n",
            "Step: 1,  Pearson: tensor([0.9634])\n",
            "Step: 2,  Pearson: tensor([0.9080])\n",
            "Step: 3,  Pearson: tensor([0.9334])\n",
            "Step: 4,  Pearson: tensor([0.9925])\n",
            "Step: 5,  Pearson: tensor([0.9004])\n",
            "Step: 6,  Pearson: tensor([0.8846])\n",
            "Step: 7,  Pearson: tensor([0.9043])\n",
            "Step: 8,  Pearson: tensor([0.8712])\n",
            "Step: 9,  Pearson: tensor([0.9702])\n",
            "Step: 10,  Pearson: tensor([0.8753])\n",
            "Step: 11,  Pearson: tensor([0.9719])\n",
            "Step: 12,  Pearson: tensor([0.9055])\n",
            "Step: 13,  Pearson: tensor([0.8340])\n",
            "Step: 14,  Pearson: tensor([0.9587])\n",
            "Step: 15,  Pearson: tensor([0.8877])\n",
            "Step: 16,  Pearson: tensor([0.9163])\n",
            "Step: 17,  Pearson: tensor([0.9418])\n",
            "Step: 18,  Pearson: tensor([0.9337])\n",
            "Step: 19,  Pearson: tensor([0.9772])\n",
            "Step: 20,  Pearson: tensor([0.9839])\n",
            "Step: 21,  Pearson: tensor([0.9663])\n",
            "Step: 22,  Pearson: tensor([0.9160])\n",
            "Step: 23,  Pearson: tensor([0.9527])\n",
            "Step: 24,  Pearson: tensor([0.9963])\n",
            "Step: 25,  Pearson: tensor([0.9772])\n",
            "Step: 26,  Pearson: tensor([0.9435])\n",
            "Step: 27,  Pearson: tensor([0.9742])\n",
            "Step: 28,  Pearson: tensor([0.9561])\n",
            "Step: 29,  Pearson: tensor([0.7976])\n",
            "Step: 30,  Pearson: tensor([0.9836])\n",
            "Step: 31,  Pearson: tensor([0.9912])\n",
            "Step: 32,  Pearson: tensor([0.9183])\n",
            "Step: 33,  Pearson: tensor([0.9827])\n",
            "Step: 34,  Pearson: tensor([0.9849])\n",
            "Step: 35,  Pearson: tensor([0.8022])\n",
            "Step: 36,  Pearson: tensor([0.8097])\n",
            "Step: 37,  Pearson: tensor([0.9036])\n",
            "Step: 38,  Pearson: tensor([0.9839])\n",
            "Step: 39,  Pearson: tensor([0.7457])\n",
            "Step: 40,  Pearson: tensor([0.9369])\n",
            "Step: 41,  Pearson: tensor([0.9092])\n",
            "Step: 42,  Pearson: tensor([0.9249])\n",
            "Step: 43,  Pearson: tensor([0.9496])\n",
            "Step: 44,  Pearson: tensor([0.9076])\n",
            "Step: 45,  Pearson: tensor([0.9652])\n",
            "Step: 46,  Pearson: tensor([0.9894])\n",
            "Step: 47,  Pearson: tensor([0.9866])\n",
            "Step: 48,  Pearson: tensor([0.9324])\n",
            "Step: 49,  Pearson: tensor([0.9231])\n",
            "Step: 50,  Pearson: tensor([0.8900])\n",
            "Step: 51,  Pearson: tensor([0.8902])\n",
            "Step: 52,  Pearson: tensor([0.9593])\n",
            "Step: 53,  Pearson: tensor([0.8597])\n",
            "Step: 54,  Pearson: tensor([0.9271])\n",
            "Step: 55,  Pearson: tensor([0.9535])\n",
            "Step: 56,  Pearson: tensor([0.9531])\n",
            "Step: 57,  Pearson: tensor([0.9610])\n",
            "Step: 58,  Pearson: tensor([0.9407])\n",
            "Step: 59,  Pearson: tensor([0.9236])\n",
            "Step: 60,  Pearson: tensor([0.9045])\n",
            "Step: 61,  Pearson: tensor([0.9656])\n",
            "Step: 62,  Pearson: tensor([0.9810])\n",
            "Step: 63,  Pearson: tensor([0.8587])\n",
            "Step: 64,  Pearson: tensor([0.9153])\n",
            "Step: 65,  Pearson: tensor([0.9415])\n",
            "Step: 66,  Pearson: tensor([0.8993])\n",
            "Step: 67,  Pearson: tensor([0.9607])\n",
            "Step: 68,  Pearson: tensor([0.9073])\n",
            "Step: 69,  Pearson: tensor([0.8262])\n",
            "Step: 70,  Pearson: tensor([0.9529])\n",
            "Step: 71,  Pearson: tensor([0.9536])\n",
            "Step: 72,  Pearson: tensor([0.9952])\n",
            "Step: 73,  Pearson: tensor([0.9305])\n",
            "Step: 74,  Pearson: tensor([0.9554])\n",
            "Step: 75,  Pearson: tensor([0.9385])\n",
            "Step: 76,  Pearson: tensor([0.9631])\n",
            "Step: 77,  Pearson: tensor([0.9882])\n",
            "Step: 78,  Pearson: tensor([0.9393])\n",
            "Step: 79,  Pearson: tensor([0.9542])\n",
            "Step: 80,  Pearson: tensor([0.8880])\n",
            "Step: 81,  Pearson: tensor([0.9847])\n",
            "Step: 82,  Pearson: tensor([0.9756])\n",
            "Step: 83,  Pearson: tensor([0.9300])\n",
            "Step: 84,  Pearson: tensor([0.9501])\n",
            "Step: 85,  Pearson: tensor([0.9726])\n",
            "Step: 86,  Pearson: tensor([0.3106])\n",
            "Step: 87,  Pearson: tensor([0.8243])\n",
            "Step: 88,  Pearson: tensor([0.9491])\n",
            "Step: 89,  Pearson: tensor([0.9205])\n",
            "Step: 90,  Pearson: tensor([0.7257])\n",
            "Step: 91,  Pearson: tensor([0.9345])\n",
            "Step: 92,  Pearson: tensor([0.9355])\n",
            "Step: 93,  Pearson: tensor([0.9331])\n",
            "Step: 94,  Pearson: tensor([0.8722])\n",
            "Step: 95,  Pearson: tensor([0.9246])\n",
            "Step: 96,  Pearson: tensor([0.9772])\n",
            "Step: 97,  Pearson: tensor([0.9816])\n",
            "Step: 98,  Pearson: tensor([0.4848])\n",
            "Step: 99,  Pearson: tensor([0.8419])\n",
            "Step: 100,  Pearson: tensor([0.8569])\n",
            "Step: 101,  Pearson: tensor([0.8920])\n",
            "Step: 102,  Pearson: tensor([0.9840])\n",
            "Step: 103,  Pearson: tensor([0.7943])\n",
            "Step: 104,  Pearson: tensor([0.9187])\n",
            "Step: 105,  Pearson: tensor([0.8303])\n",
            "Step: 106,  Pearson: tensor([0.9505])\n",
            "Step: 107,  Pearson: tensor([0.9739])\n",
            "Step: 108,  Pearson: tensor([0.9305])\n",
            "Step: 109,  Pearson: tensor([0.8396])\n",
            "Step: 110,  Pearson: tensor([0.9538])\n",
            "Step: 111,  Pearson: tensor([0.8959])\n",
            "Step: 112,  Pearson: tensor([0.9743])\n",
            "Step: 113,  Pearson: tensor([0.9768])\n",
            "Step: 114,  Pearson: tensor([0.9676])\n",
            "Step: 115,  Pearson: tensor([0.8446])\n",
            "Step: 116,  Pearson: tensor([0.9240])\n",
            "Step: 117,  Pearson: tensor([0.9305])\n",
            "Step: 118,  Pearson: tensor([0.9881])\n",
            "Step: 119,  Pearson: tensor([0.9899])\n",
            "Step: 120,  Pearson: tensor([0.8781])\n",
            "Step: 121,  Pearson: tensor([0.9619])\n",
            "Step: 122,  Pearson: tensor([0.9907])\n",
            "Step: 123,  Pearson: tensor([0.9717])\n",
            "Step: 124,  Pearson: tensor([0.9511])\n",
            "Step: 125,  Pearson: tensor([0.9536])\n",
            "Step: 126,  Pearson: tensor([0.9939])\n",
            "Step: 127,  Pearson: tensor([0.9283])\n",
            "Step: 128,  Pearson: tensor([0.7617])\n",
            "Step: 129,  Pearson: tensor([0.9632])\n",
            "Step: 130,  Pearson: tensor([0.9027])\n",
            "Step: 131,  Pearson: tensor([0.9296])\n",
            "Step: 132,  Pearson: tensor([0.9656])\n",
            "Step: 133,  Pearson: tensor([0.9636])\n",
            "Step: 134,  Pearson: tensor([0.9598])\n",
            "Step: 135,  Pearson: tensor([0.9530])\n",
            "Step: 136,  Pearson: tensor([0.9363])\n",
            "Step: 137,  Pearson: tensor([0.9734])\n",
            "Step: 138,  Pearson: tensor([0.9712])\n",
            "Step: 139,  Pearson: tensor([0.9796])\n",
            "Step: 140,  Pearson: tensor([0.9601])\n",
            "Step: 141,  Pearson: tensor([0.9247])\n",
            "Step: 142,  Pearson: tensor([0.9155])\n",
            "Step: 143,  Pearson: tensor([0.8804])\n",
            "Step: 144,  Pearson: tensor([0.9554])\n",
            "Step: 145,  Pearson: tensor([0.6341])\n",
            "Step: 146,  Pearson: tensor([0.9223])\n",
            "Step: 147,  Pearson: tensor([0.7119])\n",
            "Step: 148,  Pearson: tensor([0.9040])\n",
            "Step: 149,  Pearson: tensor([0.9753])\n",
            "Step: 150,  Pearson: tensor([0.9218])\n",
            "Step: 151,  Pearson: tensor([0.9348])\n",
            "Step: 152,  Pearson: tensor([0.9831])\n",
            "Step: 153,  Pearson: tensor([0.9864])\n",
            "Step: 154,  Pearson: tensor([0.9115])\n",
            "Step: 155,  Pearson: tensor([0.9803])\n",
            "Step: 156,  Pearson: tensor([0.9841])\n",
            "Step: 157,  Pearson: tensor([0.8500])\n",
            "Step: 158,  Pearson: tensor([0.8284])\n",
            "Step: 159,  Pearson: tensor([0.9850])\n",
            "Step: 160,  Pearson: tensor([0.9824])\n",
            "Step: 161,  Pearson: tensor([0.9800])\n",
            "Step: 162,  Pearson: tensor([0.8479])\n",
            "Step: 163,  Pearson: tensor([0.9395])\n",
            "Step: 164,  Pearson: tensor([0.8920])\n",
            "Step: 165,  Pearson: tensor([0.9371])\n",
            "Step: 166,  Pearson: tensor([0.9121])\n",
            "Step: 167,  Pearson: tensor([0.9355])\n",
            "Step: 168,  Pearson: tensor([0.8537])\n",
            "Step: 169,  Pearson: tensor([0.9553])\n",
            "Step: 170,  Pearson: tensor([0.9673])\n",
            "Step: 171,  Pearson: tensor([0.9253])\n",
            "Step: 172,  Pearson: tensor([0.9892])\n",
            "Step: 173,  Pearson: tensor([0.7452])\n",
            "Step: 174,  Pearson: tensor([0.9414])\n",
            "Step: 175,  Pearson: tensor([0.8942])\n",
            "Step: 176,  Pearson: tensor([0.9328])\n",
            "Step: 177,  Pearson: tensor([0.8771])\n",
            "Step: 178,  Pearson: tensor([0.6665])\n",
            "Step: 179,  Pearson: tensor([0.8793])\n",
            "Step: 180,  Pearson: tensor([0.2853])\n",
            "Step: 181,  Pearson: tensor([0.9661])\n",
            "Step: 182,  Pearson: tensor([0.9419])\n",
            "Step: 183,  Pearson: tensor([0.9330])\n",
            "Step: 184,  Pearson: tensor([0.8844])\n",
            "Step: 185,  Pearson: tensor([0.9885])\n",
            "Step: 186,  Pearson: tensor([0.9719])\n",
            "Step: 187,  Pearson: tensor([0.8663])\n",
            "Step: 188,  Pearson: tensor([0.8495])\n",
            "Step: 189,  Pearson: tensor([0.7662])\n",
            "Step: 190,  Pearson: tensor([0.9200])\n",
            "Step: 191,  Pearson: tensor([0.9035])\n",
            "Step: 192,  Pearson: tensor([0.8906])\n",
            "Step: 193,  Pearson: tensor([0.9596])\n",
            "Step: 194,  Pearson: tensor([0.8360])\n",
            "Step: 195,  Pearson: tensor([0.9892])\n",
            "Step: 196,  Pearson: tensor([0.9508])\n",
            "Step: 197,  Pearson: tensor([0.9746])\n",
            "Step: 198,  Pearson: tensor([0.9538])\n",
            "Step: 199,  Pearson: tensor([0.9076])\n",
            "Step: 200,  Pearson: tensor([0.8523])\n",
            "Step: 201,  Pearson: tensor([0.9180])\n",
            "Step: 202,  Pearson: tensor([0.7155])\n",
            "Step: 203,  Pearson: tensor([0.9721])\n",
            "Step: 204,  Pearson: tensor([0.9628])\n",
            "Step: 205,  Pearson: tensor([0.9626])\n",
            "Step: 206,  Pearson: tensor([0.9282])\n",
            "Step: 207,  Pearson: tensor([0.9173])\n",
            "Step: 208,  Pearson: tensor([0.9120])\n",
            "Step: 209,  Pearson: tensor([0.9448])\n",
            "Step: 210,  Pearson: tensor([0.5852])\n",
            "Step: 211,  Pearson: tensor([0.9293])\n",
            "Step: 212,  Pearson: tensor([0.9120])\n",
            "Step: 213,  Pearson: tensor([0.9778])\n",
            "Step: 214,  Pearson: tensor([0.9870])\n",
            "Step: 215,  Pearson: tensor([0.9509])\n",
            "Step: 216,  Pearson: tensor([0.9507])\n",
            "Step: 217,  Pearson: tensor([nan])\n",
            "total_valid_loss :  0.5151627026840088 total_f1_score :  0.9049429657794675 total_pearsonr : tensor([0.9246])\n",
            "Epoch 2 Valid Loss : 0.5151627026840088 Valid Pearsonr : tensor([0.9246]) ValidF1 : 0.9049429657794675\n",
            "*****Epoch 2 Valid Finish*****\n",
            "\n",
            "****** STARTING TO TRAIN EPOCH #3 ******\n",
            "Step : 11, train Loss : 0.0045\n",
            "Step : 21, train Loss : 0.0043\n",
            "Step : 31, train Loss : 0.0056\n",
            "Step : 41, train Loss : 0.0055\n",
            "Step : 51, train Loss : 0.0057\n",
            "Step : 61, train Loss : 0.0055\n",
            "Step : 71, train Loss : 0.0048\n",
            "Step : 81, train Loss : 0.0056\n",
            "Step : 91, train Loss : 0.0060\n",
            "Step : 101, train Loss : 0.0047\n",
            "Step : 111, train Loss : 0.0047\n",
            "Step : 121, train Loss : 0.0047\n",
            "Step : 131, train Loss : 0.0042\n",
            "Step : 141, train Loss : 0.0045\n",
            "Step : 151, train Loss : 0.0050\n",
            "Step : 161, train Loss : 0.0053\n",
            "Step : 171, train Loss : 0.0064\n",
            "Step : 181, train Loss : 0.0049\n",
            "Step : 191, train Loss : 0.0052\n",
            "Step : 201, train Loss : 0.0050\n",
            "Step : 211, train Loss : 0.0049\n",
            "Step : 221, train Loss : 0.0052\n",
            "Step : 231, train Loss : 0.0048\n",
            "Step : 241, train Loss : 0.0062\n",
            "Step : 251, train Loss : 0.0053\n",
            "Step : 261, train Loss : 0.0048\n",
            "Step : 271, train Loss : 0.0055\n",
            "Step : 281, train Loss : 0.0049\n",
            "Step : 291, train Loss : 0.0046\n",
            "Step : 301, train Loss : 0.0044\n",
            "Step : 311, train Loss : 0.0059\n",
            "Step : 321, train Loss : 0.0051\n",
            "Step : 331, train Loss : 0.0054\n",
            "Step : 341, train Loss : 0.0048\n",
            "Step : 351, train Loss : 0.0048\n",
            "Step : 361, train Loss : 0.0052\n",
            "Step : 371, train Loss : 0.0042\n",
            "Step : 381, train Loss : 0.0044\n",
            "Step : 391, train Loss : 0.0060\n",
            "Step : 401, train Loss : 0.0048\n",
            "Step : 411, train Loss : 0.0055\n",
            "Step : 421, train Loss : 0.0052\n",
            "Step : 431, train Loss : 0.0052\n",
            "Step : 441, train Loss : 0.0047\n",
            "Step : 451, train Loss : 0.0049\n",
            "Step : 461, train Loss : 0.0050\n",
            "Step : 471, train Loss : 0.0053\n",
            "Step : 481, train Loss : 0.0047\n",
            "Epoch 3 Total Mean Loss : 0.0051\n",
            "*****Epoch 3 Train Finish*****\n",
            "\n",
            "SAVING EPOCH 3 ...\n",
            "*****Epoch 3 Valid Start*****\n",
            "Step: 0,  Pearson: tensor([0.9615])\n",
            "Step: 1,  Pearson: tensor([0.9599])\n",
            "Step: 2,  Pearson: tensor([0.9133])\n",
            "Step: 3,  Pearson: tensor([0.9292])\n",
            "Step: 4,  Pearson: tensor([0.9907])\n",
            "Step: 5,  Pearson: tensor([0.9086])\n",
            "Step: 6,  Pearson: tensor([0.8804])\n",
            "Step: 7,  Pearson: tensor([0.9183])\n",
            "Step: 8,  Pearson: tensor([0.8661])\n",
            "Step: 9,  Pearson: tensor([0.9673])\n",
            "Step: 10,  Pearson: tensor([0.8852])\n",
            "Step: 11,  Pearson: tensor([0.9740])\n",
            "Step: 12,  Pearson: tensor([0.8990])\n",
            "Step: 13,  Pearson: tensor([0.8385])\n",
            "Step: 14,  Pearson: tensor([0.9665])\n",
            "Step: 15,  Pearson: tensor([0.8841])\n",
            "Step: 16,  Pearson: tensor([0.9139])\n",
            "Step: 17,  Pearson: tensor([0.9437])\n",
            "Step: 18,  Pearson: tensor([0.9301])\n",
            "Step: 19,  Pearson: tensor([0.9748])\n",
            "Step: 20,  Pearson: tensor([0.9848])\n",
            "Step: 21,  Pearson: tensor([0.9585])\n",
            "Step: 22,  Pearson: tensor([0.9121])\n",
            "Step: 23,  Pearson: tensor([0.9375])\n",
            "Step: 24,  Pearson: tensor([0.9959])\n",
            "Step: 25,  Pearson: tensor([0.9780])\n",
            "Step: 26,  Pearson: tensor([0.9420])\n",
            "Step: 27,  Pearson: tensor([0.9715])\n",
            "Step: 28,  Pearson: tensor([0.9509])\n",
            "Step: 29,  Pearson: tensor([0.7660])\n",
            "Step: 30,  Pearson: tensor([0.9837])\n",
            "Step: 31,  Pearson: tensor([0.9919])\n",
            "Step: 32,  Pearson: tensor([0.9223])\n",
            "Step: 33,  Pearson: tensor([0.9839])\n",
            "Step: 34,  Pearson: tensor([0.9850])\n",
            "Step: 35,  Pearson: tensor([0.8119])\n",
            "Step: 36,  Pearson: tensor([0.8057])\n",
            "Step: 37,  Pearson: tensor([0.8937])\n",
            "Step: 38,  Pearson: tensor([0.9755])\n",
            "Step: 39,  Pearson: tensor([0.7584])\n",
            "Step: 40,  Pearson: tensor([0.9390])\n",
            "Step: 41,  Pearson: tensor([0.9141])\n",
            "Step: 42,  Pearson: tensor([0.9203])\n",
            "Step: 43,  Pearson: tensor([0.9510])\n",
            "Step: 44,  Pearson: tensor([0.9008])\n",
            "Step: 45,  Pearson: tensor([0.9701])\n",
            "Step: 46,  Pearson: tensor([0.9888])\n",
            "Step: 47,  Pearson: tensor([0.9842])\n",
            "Step: 48,  Pearson: tensor([0.9327])\n",
            "Step: 49,  Pearson: tensor([0.9201])\n",
            "Step: 50,  Pearson: tensor([0.9082])\n",
            "Step: 51,  Pearson: tensor([0.9155])\n",
            "Step: 52,  Pearson: tensor([0.9621])\n",
            "Step: 53,  Pearson: tensor([0.8542])\n",
            "Step: 54,  Pearson: tensor([0.9298])\n",
            "Step: 55,  Pearson: tensor([0.9495])\n",
            "Step: 56,  Pearson: tensor([0.9561])\n",
            "Step: 57,  Pearson: tensor([0.9582])\n",
            "Step: 58,  Pearson: tensor([0.9447])\n",
            "Step: 59,  Pearson: tensor([0.9295])\n",
            "Step: 60,  Pearson: tensor([0.9009])\n",
            "Step: 61,  Pearson: tensor([0.9658])\n",
            "Step: 62,  Pearson: tensor([0.9821])\n",
            "Step: 63,  Pearson: tensor([0.8494])\n",
            "Step: 64,  Pearson: tensor([0.9054])\n",
            "Step: 65,  Pearson: tensor([0.9337])\n",
            "Step: 66,  Pearson: tensor([0.8908])\n",
            "Step: 67,  Pearson: tensor([0.9595])\n",
            "Step: 68,  Pearson: tensor([0.9130])\n",
            "Step: 69,  Pearson: tensor([0.8290])\n",
            "Step: 70,  Pearson: tensor([0.9545])\n",
            "Step: 71,  Pearson: tensor([0.9549])\n",
            "Step: 72,  Pearson: tensor([0.9950])\n",
            "Step: 73,  Pearson: tensor([0.9410])\n",
            "Step: 74,  Pearson: tensor([0.9560])\n",
            "Step: 75,  Pearson: tensor([0.9379])\n",
            "Step: 76,  Pearson: tensor([0.9667])\n",
            "Step: 77,  Pearson: tensor([0.9884])\n",
            "Step: 78,  Pearson: tensor([0.9385])\n",
            "Step: 79,  Pearson: tensor([0.9605])\n",
            "Step: 80,  Pearson: tensor([0.8869])\n",
            "Step: 81,  Pearson: tensor([0.9866])\n",
            "Step: 82,  Pearson: tensor([0.9761])\n",
            "Step: 83,  Pearson: tensor([0.9245])\n",
            "Step: 84,  Pearson: tensor([0.9528])\n",
            "Step: 85,  Pearson: tensor([0.9696])\n",
            "Step: 86,  Pearson: tensor([0.3457])\n",
            "Step: 87,  Pearson: tensor([0.8515])\n",
            "Step: 88,  Pearson: tensor([0.9534])\n",
            "Step: 89,  Pearson: tensor([0.8972])\n",
            "Step: 90,  Pearson: tensor([0.7557])\n",
            "Step: 91,  Pearson: tensor([0.9288])\n",
            "Step: 92,  Pearson: tensor([0.9259])\n",
            "Step: 93,  Pearson: tensor([0.9282])\n",
            "Step: 94,  Pearson: tensor([0.8907])\n",
            "Step: 95,  Pearson: tensor([0.9227])\n",
            "Step: 96,  Pearson: tensor([0.9795])\n",
            "Step: 97,  Pearson: tensor([0.9803])\n",
            "Step: 98,  Pearson: tensor([0.4702])\n",
            "Step: 99,  Pearson: tensor([0.8349])\n",
            "Step: 100,  Pearson: tensor([0.8625])\n",
            "Step: 101,  Pearson: tensor([0.8908])\n",
            "Step: 102,  Pearson: tensor([0.9844])\n",
            "Step: 103,  Pearson: tensor([0.7650])\n",
            "Step: 104,  Pearson: tensor([0.9189])\n",
            "Step: 105,  Pearson: tensor([0.8203])\n",
            "Step: 106,  Pearson: tensor([0.9475])\n",
            "Step: 107,  Pearson: tensor([0.9755])\n",
            "Step: 108,  Pearson: tensor([0.9264])\n",
            "Step: 109,  Pearson: tensor([0.8435])\n",
            "Step: 110,  Pearson: tensor([0.9599])\n",
            "Step: 111,  Pearson: tensor([0.9016])\n",
            "Step: 112,  Pearson: tensor([0.9782])\n",
            "Step: 113,  Pearson: tensor([0.9792])\n",
            "Step: 114,  Pearson: tensor([0.9725])\n",
            "Step: 115,  Pearson: tensor([0.8496])\n",
            "Step: 116,  Pearson: tensor([0.9153])\n",
            "Step: 117,  Pearson: tensor([0.9292])\n",
            "Step: 118,  Pearson: tensor([0.9906])\n",
            "Step: 119,  Pearson: tensor([0.9904])\n",
            "Step: 120,  Pearson: tensor([0.8713])\n",
            "Step: 121,  Pearson: tensor([0.9670])\n",
            "Step: 122,  Pearson: tensor([0.9899])\n",
            "Step: 123,  Pearson: tensor([0.9752])\n",
            "Step: 124,  Pearson: tensor([0.9519])\n",
            "Step: 125,  Pearson: tensor([0.9604])\n",
            "Step: 126,  Pearson: tensor([0.9934])\n",
            "Step: 127,  Pearson: tensor([0.9131])\n",
            "Step: 128,  Pearson: tensor([0.7696])\n",
            "Step: 129,  Pearson: tensor([0.9661])\n",
            "Step: 130,  Pearson: tensor([0.9042])\n",
            "Step: 131,  Pearson: tensor([0.9312])\n",
            "Step: 132,  Pearson: tensor([0.9564])\n",
            "Step: 133,  Pearson: tensor([0.9640])\n",
            "Step: 134,  Pearson: tensor([0.9613])\n",
            "Step: 135,  Pearson: tensor([0.9594])\n",
            "Step: 136,  Pearson: tensor([0.9416])\n",
            "Step: 137,  Pearson: tensor([0.9704])\n",
            "Step: 138,  Pearson: tensor([0.9668])\n",
            "Step: 139,  Pearson: tensor([0.9763])\n",
            "Step: 140,  Pearson: tensor([0.9529])\n",
            "Step: 141,  Pearson: tensor([0.9210])\n",
            "Step: 142,  Pearson: tensor([0.9239])\n",
            "Step: 143,  Pearson: tensor([0.8692])\n",
            "Step: 144,  Pearson: tensor([0.9611])\n",
            "Step: 145,  Pearson: tensor([0.6781])\n",
            "Step: 146,  Pearson: tensor([0.9366])\n",
            "Step: 147,  Pearson: tensor([0.6885])\n",
            "Step: 148,  Pearson: tensor([0.8739])\n",
            "Step: 149,  Pearson: tensor([0.9766])\n",
            "Step: 150,  Pearson: tensor([0.9175])\n",
            "Step: 151,  Pearson: tensor([0.9480])\n",
            "Step: 152,  Pearson: tensor([0.9771])\n",
            "Step: 153,  Pearson: tensor([0.9774])\n",
            "Step: 154,  Pearson: tensor([0.9122])\n",
            "Step: 155,  Pearson: tensor([0.9817])\n",
            "Step: 156,  Pearson: tensor([0.9810])\n",
            "Step: 157,  Pearson: tensor([0.8295])\n",
            "Step: 158,  Pearson: tensor([0.8361])\n",
            "Step: 159,  Pearson: tensor([0.9852])\n",
            "Step: 160,  Pearson: tensor([0.9777])\n",
            "Step: 161,  Pearson: tensor([0.9788])\n",
            "Step: 162,  Pearson: tensor([0.8551])\n",
            "Step: 163,  Pearson: tensor([0.9317])\n",
            "Step: 164,  Pearson: tensor([0.8829])\n",
            "Step: 165,  Pearson: tensor([0.9401])\n",
            "Step: 166,  Pearson: tensor([0.9097])\n",
            "Step: 167,  Pearson: tensor([0.9372])\n",
            "Step: 168,  Pearson: tensor([0.8492])\n",
            "Step: 169,  Pearson: tensor([0.9600])\n",
            "Step: 170,  Pearson: tensor([0.9700])\n",
            "Step: 171,  Pearson: tensor([0.9203])\n",
            "Step: 172,  Pearson: tensor([0.9903])\n",
            "Step: 173,  Pearson: tensor([0.7209])\n",
            "Step: 174,  Pearson: tensor([0.9491])\n",
            "Step: 175,  Pearson: tensor([0.8884])\n",
            "Step: 176,  Pearson: tensor([0.9346])\n",
            "Step: 177,  Pearson: tensor([0.8679])\n",
            "Step: 178,  Pearson: tensor([0.6932])\n",
            "Step: 179,  Pearson: tensor([0.8901])\n",
            "Step: 180,  Pearson: tensor([0.2490])\n",
            "Step: 181,  Pearson: tensor([0.9638])\n",
            "Step: 182,  Pearson: tensor([0.9395])\n",
            "Step: 183,  Pearson: tensor([0.9257])\n",
            "Step: 184,  Pearson: tensor([0.8719])\n",
            "Step: 185,  Pearson: tensor([0.9888])\n",
            "Step: 186,  Pearson: tensor([0.9672])\n",
            "Step: 187,  Pearson: tensor([0.8757])\n",
            "Step: 188,  Pearson: tensor([0.8546])\n",
            "Step: 189,  Pearson: tensor([0.7727])\n",
            "Step: 190,  Pearson: tensor([0.9287])\n",
            "Step: 191,  Pearson: tensor([0.8953])\n",
            "Step: 192,  Pearson: tensor([0.8943])\n",
            "Step: 193,  Pearson: tensor([0.9603])\n",
            "Step: 194,  Pearson: tensor([0.8230])\n",
            "Step: 195,  Pearson: tensor([0.9877])\n",
            "Step: 196,  Pearson: tensor([0.9631])\n",
            "Step: 197,  Pearson: tensor([0.9767])\n",
            "Step: 198,  Pearson: tensor([0.9586])\n",
            "Step: 199,  Pearson: tensor([0.9171])\n",
            "Step: 200,  Pearson: tensor([0.8589])\n",
            "Step: 201,  Pearson: tensor([0.9133])\n",
            "Step: 202,  Pearson: tensor([0.7182])\n",
            "Step: 203,  Pearson: tensor([0.9725])\n",
            "Step: 204,  Pearson: tensor([0.9608])\n",
            "Step: 205,  Pearson: tensor([0.9651])\n",
            "Step: 206,  Pearson: tensor([0.9293])\n",
            "Step: 207,  Pearson: tensor([0.8900])\n",
            "Step: 208,  Pearson: tensor([0.9268])\n",
            "Step: 209,  Pearson: tensor([0.9411])\n",
            "Step: 210,  Pearson: tensor([0.5595])\n",
            "Step: 211,  Pearson: tensor([0.9389])\n",
            "Step: 212,  Pearson: tensor([0.9223])\n",
            "Step: 213,  Pearson: tensor([0.9780])\n",
            "Step: 214,  Pearson: tensor([0.9865])\n",
            "Step: 215,  Pearson: tensor([0.9532])\n",
            "Step: 216,  Pearson: tensor([0.9657])\n",
            "Step: 217,  Pearson: tensor([nan])\n",
            "total_valid_loss :  0.5011097330497493 total_f1_score :  0.9094874591057798 total_pearsonr : tensor([0.9244])\n",
            "Epoch 3 Valid Loss : 0.5011097330497493 Valid Pearsonr : tensor([0.9244]) ValidF1 : 0.9094874591057798\n",
            "*****Epoch 3 Valid Finish*****\n",
            "\n",
            "** Train Completed! **\n"
          ]
        },
        {
          "output_type": "display_data",
          "data": {
            "text/plain": [
              "<IPython.core.display.HTML object>"
            ],
            "text/html": [
              "Waiting for W&B process to finish... <strong style=\"color:green\">(success).</strong>"
            ]
          },
          "metadata": {}
        },
        {
          "output_type": "display_data",
          "data": {
            "text/plain": [
              "VBox(children=(Label(value='0.001 MB of 0.001 MB uploaded (0.000 MB deduped)\\r'), FloatProgress(value=1.0, max…"
            ],
            "application/vnd.jupyter.widget-view+json": {
              "version_major": 2,
              "version_minor": 0,
              "model_id": "ed1a3413c00245479caa7a0400a87bbb"
            }
          },
          "metadata": {}
        },
        {
          "output_type": "display_data",
          "data": {
            "text/plain": [
              "<IPython.core.display.HTML object>"
            ],
            "text/html": [
              "<style>\n",
              "    table.wandb td:nth-child(1) { padding: 0 10px; text-align: left ; width: auto;} td:nth-child(2) {text-align: left ; width: 100%}\n",
              "    .wandb-row { display: flex; flex-direction: row; flex-wrap: wrap; justify-content: flex-start; width: 100% }\n",
              "    .wandb-col { display: flex; flex-direction: column; flex-basis: 100%; flex: 1; padding: 10px; }\n",
              "    </style>\n",
              "<div class=\"wandb-row\"><div class=\"wandb-col\"><h3>Run history:</h3><br/><table class=\"wandb\"><tr><td>epoch</td><td>▁▃▆█</td></tr><tr><td>total_f1_score </td><td>▁▄▄█</td></tr><tr><td>total_pearsonr</td><td>▁███</td></tr><tr><td>total_train_loss</td><td>█▃▂▁</td></tr><tr><td>total_train_lr</td><td>█▆▃▁</td></tr><tr><td>total_valid_loss</td><td>█▅▃▁</td></tr><tr><td>train_loss</td><td>█▅▄▅▄▅▄▄▃▅▂▂▂▂▂▂▂▂▂▂▁▁▁▁▂▁▂▁▁▁▁▁▁▁▁▁▁▁▁▁</td></tr><tr><td>train_lr</td><td>███▇▇▇▇▇▇▆▆▆▆▆▅▅▅▅▅▅▄▄▄▄▄▄▃▃▃▃▃▂▂▂▂▂▂▁▁▁</td></tr></table><br/></div><div class=\"wandb-col\"><h3>Run summary:</h3><br/><table class=\"wandb\"><tr><td>epoch</td><td>4</td></tr><tr><td>total_f1_score </td><td>0.90949</td></tr><tr><td>total_pearsonr</td><td>0.92439</td></tr><tr><td>total_train_loss</td><td>0.0051</td></tr><tr><td>total_train_lr</td><td>0.0</td></tr><tr><td>total_valid_loss</td><td>0.50111</td></tr><tr><td>train_loss</td><td>0.00468</td></tr><tr><td>train_lr</td><td>0.0</td></tr></table><br/></div></div>"
            ]
          },
          "metadata": {}
        },
        {
          "output_type": "display_data",
          "data": {
            "text/plain": [
              "<IPython.core.display.HTML object>"
            ],
            "text/html": [
              "Synced <strong style=\"color:#cdcd00\">effortless-sweep-1</strong>: <a href=\"https://wandb.ai/iljf/sts_r2/runs/5zxxatte\" target=\"_blank\">https://wandb.ai/iljf/sts_r2/runs/5zxxatte</a><br/>Synced 5 W&B file(s), 0 media file(s), 0 artifact file(s) and 0 other file(s)"
            ]
          },
          "metadata": {}
        },
        {
          "output_type": "display_data",
          "data": {
            "text/plain": [
              "<IPython.core.display.HTML object>"
            ],
            "text/html": [
              "Find logs at: <code>./wandb/run-20220531_065616-5zxxatte/logs</code>"
            ]
          },
          "metadata": {}
        },
        {
          "output_type": "stream",
          "name": "stderr",
          "text": [
            "\u001b[34m\u001b[1mwandb\u001b[0m: Agent Starting Run: wca0vgig with config:\n",
            "\u001b[34m\u001b[1mwandb\u001b[0m: \tepochs: 4\n",
            "\u001b[34m\u001b[1mwandb\u001b[0m: \teps: 1e-08\n",
            "\u001b[34m\u001b[1mwandb\u001b[0m: \tlearning_rate: 2e-05\n",
            "\u001b[34m\u001b[1mwandb\u001b[0m: \ttrain_batch_size: 32\n",
            "\u001b[34m\u001b[1mwandb\u001b[0m: \tvalid_batch_size: 8\n",
            "\u001b[34m\u001b[1mwandb\u001b[0m: \twarm_up_ratio: 0.1\n",
            "Some weights of the model checkpoint at klue/roberta-base were not used when initializing RobertaModel: ['lm_head.decoder.bias', 'lm_head.decoder.weight', 'lm_head.dense.bias', 'lm_head.layer_norm.bias', 'lm_head.dense.weight', 'lm_head.bias', 'lm_head.layer_norm.weight']\n",
            "- This IS expected if you are initializing RobertaModel from the checkpoint of a model trained on another task or with another architecture (e.g. initializing a BertForSequenceClassification model from a BertForPreTraining model).\n",
            "- This IS NOT expected if you are initializing RobertaModel from the checkpoint of a model that you expect to be exactly identical (initializing a BertForSequenceClassification model from a BertForSequenceClassification model).\n",
            "Some weights of RobertaModel were not initialized from the model checkpoint at klue/roberta-base and are newly initialized: ['roberta.pooler.dense.weight', 'roberta.pooler.dense.bias']\n",
            "You should probably TRAIN this model on a down-stream task to be able to use it for predictions and inference.\n"
          ]
        },
        {
          "output_type": "display_data",
          "data": {
            "text/plain": [
              "<IPython.core.display.HTML object>"
            ],
            "text/html": [
              "Tracking run with wandb version 0.12.17"
            ]
          },
          "metadata": {}
        },
        {
          "output_type": "display_data",
          "data": {
            "text/plain": [
              "<IPython.core.display.HTML object>"
            ],
            "text/html": [
              "Run data is saved locally in <code>/content/wandb/run-20220531_075709-wca0vgig</code>"
            ]
          },
          "metadata": {}
        },
        {
          "output_type": "display_data",
          "data": {
            "text/plain": [
              "<IPython.core.display.HTML object>"
            ],
            "text/html": [
              "Syncing run <strong><a href=\"https://wandb.ai/iljf/sts_r2/runs/wca0vgig\" target=\"_blank\">volcanic-sweep-2</a></strong> to <a href=\"https://wandb.ai/iljf/sts_r2\" target=\"_blank\">Weights & Biases</a> (<a href=\"https://wandb.me/run\" target=\"_blank\">docs</a>)<br/>Sweep page:  <a href=\"https://wandb.ai/iljf/sts_r2/sweeps/yxxdtxql\" target=\"_blank\">https://wandb.ai/iljf/sts_r2/sweeps/yxxdtxql</a>"
            ]
          },
          "metadata": {}
        },
        {
          "output_type": "stream",
          "name": "stdout",
          "text": [
            "****** STARTING TO TRAIN EPOCH #0 ******\n",
            "Step : 11, train Loss : 0.2092\n",
            "Step : 21, train Loss : 0.1699\n",
            "Step : 31, train Loss : 0.1259\n",
            "Step : 41, train Loss : 0.0967\n",
            "Step : 51, train Loss : 0.0630\n",
            "Step : 61, train Loss : 0.0573\n",
            "Step : 71, train Loss : 0.0424\n",
            "Step : 81, train Loss : 0.0384\n",
            "Step : 91, train Loss : 0.0310\n",
            "Step : 101, train Loss : 0.0302\n",
            "Step : 111, train Loss : 0.0268\n",
            "Step : 121, train Loss : 0.0246\n",
            "Step : 131, train Loss : 0.0265\n",
            "Step : 141, train Loss : 0.0274\n",
            "Step : 151, train Loss : 0.0215\n",
            "Step : 161, train Loss : 0.0211\n",
            "Step : 171, train Loss : 0.0201\n",
            "Step : 181, train Loss : 0.0239\n",
            "Step : 191, train Loss : 0.0229\n",
            "Step : 201, train Loss : 0.0243\n",
            "Step : 211, train Loss : 0.0197\n",
            "Step : 221, train Loss : 0.0219\n",
            "Step : 231, train Loss : 0.0236\n",
            "Step : 241, train Loss : 0.0241\n",
            "Step : 251, train Loss : 0.0211\n",
            "Step : 261, train Loss : 0.0192\n",
            "Step : 271, train Loss : 0.0232\n",
            "Step : 281, train Loss : 0.0245\n",
            "Step : 291, train Loss : 0.0222\n",
            "Step : 301, train Loss : 0.0188\n",
            "Step : 311, train Loss : 0.0169\n",
            "Step : 321, train Loss : 0.0187\n",
            "Step : 331, train Loss : 0.0169\n",
            "Step : 341, train Loss : 0.0203\n",
            "Step : 351, train Loss : 0.0222\n",
            "Step : 361, train Loss : 0.0181\n",
            "Step : 371, train Loss : 0.0175\n",
            "Step : 381, train Loss : 0.0199\n",
            "Step : 391, train Loss : 0.0172\n",
            "Step : 401, train Loss : 0.0169\n",
            "Step : 411, train Loss : 0.0208\n",
            "Step : 421, train Loss : 0.0166\n",
            "Step : 431, train Loss : 0.0183\n",
            "Step : 441, train Loss : 0.0232\n",
            "Step : 451, train Loss : 0.0195\n",
            "Step : 461, train Loss : 0.0193\n",
            "Step : 471, train Loss : 0.0207\n",
            "Step : 481, train Loss : 0.0218\n",
            "Epoch 0 Total Mean Loss : 0.0348\n",
            "*****Epoch 0 Train Finish*****\n",
            "\n",
            "SAVING EPOCH 0 ...\n",
            "*****Epoch 0 Valid Start*****\n",
            "Step: 0,  Pearson: tensor([0.9458])\n",
            "Step: 1,  Pearson: tensor([0.9810])\n",
            "Step: 2,  Pearson: tensor([0.9131])\n",
            "Step: 3,  Pearson: tensor([0.8850])\n",
            "Step: 4,  Pearson: tensor([0.9798])\n",
            "Step: 5,  Pearson: tensor([0.8863])\n",
            "Step: 6,  Pearson: tensor([0.8626])\n",
            "Step: 7,  Pearson: tensor([0.9615])\n",
            "Step: 8,  Pearson: tensor([0.8060])\n",
            "Step: 9,  Pearson: tensor([0.9535])\n",
            "Step: 10,  Pearson: tensor([0.8591])\n",
            "Step: 11,  Pearson: tensor([0.9648])\n",
            "Step: 12,  Pearson: tensor([0.9464])\n",
            "Step: 13,  Pearson: tensor([0.8490])\n",
            "Step: 14,  Pearson: tensor([0.9594])\n",
            "Step: 15,  Pearson: tensor([0.8742])\n",
            "Step: 16,  Pearson: tensor([0.9383])\n",
            "Step: 17,  Pearson: tensor([0.9334])\n",
            "Step: 18,  Pearson: tensor([0.9699])\n",
            "Step: 19,  Pearson: tensor([0.9868])\n",
            "Step: 20,  Pearson: tensor([0.9884])\n",
            "Step: 21,  Pearson: tensor([0.9429])\n",
            "Step: 22,  Pearson: tensor([0.9098])\n",
            "Step: 23,  Pearson: tensor([0.9453])\n",
            "Step: 24,  Pearson: tensor([0.9882])\n",
            "Step: 25,  Pearson: tensor([0.9716])\n",
            "Step: 26,  Pearson: tensor([0.9218])\n",
            "Step: 27,  Pearson: tensor([0.9787])\n",
            "Step: 28,  Pearson: tensor([0.9467])\n",
            "Step: 29,  Pearson: tensor([0.8101])\n",
            "Step: 30,  Pearson: tensor([0.9897])\n",
            "Step: 31,  Pearson: tensor([0.9880])\n",
            "Step: 32,  Pearson: tensor([0.9590])\n",
            "Step: 33,  Pearson: tensor([0.9765])\n",
            "Step: 34,  Pearson: tensor([0.9870])\n",
            "Step: 35,  Pearson: tensor([0.8146])\n",
            "Step: 36,  Pearson: tensor([0.8792])\n",
            "Step: 37,  Pearson: tensor([0.8946])\n",
            "Step: 38,  Pearson: tensor([0.9869])\n",
            "Step: 39,  Pearson: tensor([0.7071])\n",
            "Step: 40,  Pearson: tensor([0.9398])\n",
            "Step: 41,  Pearson: tensor([0.8985])\n",
            "Step: 42,  Pearson: tensor([0.9000])\n",
            "Step: 43,  Pearson: tensor([0.9567])\n",
            "Step: 44,  Pearson: tensor([0.8308])\n",
            "Step: 45,  Pearson: tensor([0.9650])\n",
            "Step: 46,  Pearson: tensor([0.9893])\n",
            "Step: 47,  Pearson: tensor([0.9736])\n",
            "Step: 48,  Pearson: tensor([0.8692])\n",
            "Step: 49,  Pearson: tensor([0.8961])\n",
            "Step: 50,  Pearson: tensor([0.9332])\n",
            "Step: 51,  Pearson: tensor([0.9462])\n",
            "Step: 52,  Pearson: tensor([0.9619])\n",
            "Step: 53,  Pearson: tensor([0.8732])\n",
            "Step: 54,  Pearson: tensor([0.9127])\n",
            "Step: 55,  Pearson: tensor([0.9646])\n",
            "Step: 56,  Pearson: tensor([0.9644])\n",
            "Step: 57,  Pearson: tensor([0.9728])\n",
            "Step: 58,  Pearson: tensor([0.9122])\n",
            "Step: 59,  Pearson: tensor([0.9652])\n",
            "Step: 60,  Pearson: tensor([0.8209])\n",
            "Step: 61,  Pearson: tensor([0.9727])\n",
            "Step: 62,  Pearson: tensor([0.9808])\n",
            "Step: 63,  Pearson: tensor([0.8482])\n",
            "Step: 64,  Pearson: tensor([0.9174])\n",
            "Step: 65,  Pearson: tensor([0.9209])\n",
            "Step: 66,  Pearson: tensor([0.9213])\n",
            "Step: 67,  Pearson: tensor([0.9770])\n",
            "Step: 68,  Pearson: tensor([0.9226])\n",
            "Step: 69,  Pearson: tensor([0.7341])\n",
            "Step: 70,  Pearson: tensor([0.9679])\n",
            "Step: 71,  Pearson: tensor([0.9063])\n",
            "Step: 72,  Pearson: tensor([0.9982])\n",
            "Step: 73,  Pearson: tensor([0.9191])\n",
            "Step: 74,  Pearson: tensor([0.9528])\n",
            "Step: 75,  Pearson: tensor([0.9419])\n",
            "Step: 76,  Pearson: tensor([0.9592])\n",
            "Step: 77,  Pearson: tensor([0.9925])\n",
            "Step: 78,  Pearson: tensor([0.9397])\n",
            "Step: 79,  Pearson: tensor([0.9663])\n",
            "Step: 80,  Pearson: tensor([0.8919])\n",
            "Step: 81,  Pearson: tensor([0.9618])\n",
            "Step: 82,  Pearson: tensor([0.9764])\n",
            "Step: 83,  Pearson: tensor([0.9539])\n",
            "Step: 84,  Pearson: tensor([0.9765])\n",
            "Step: 85,  Pearson: tensor([0.9447])\n",
            "Step: 86,  Pearson: tensor([0.4001])\n",
            "Step: 87,  Pearson: tensor([0.6985])\n",
            "Step: 88,  Pearson: tensor([0.9543])\n",
            "Step: 89,  Pearson: tensor([0.8831])\n",
            "Step: 90,  Pearson: tensor([0.6996])\n",
            "Step: 91,  Pearson: tensor([0.9133])\n",
            "Step: 92,  Pearson: tensor([0.9227])\n",
            "Step: 93,  Pearson: tensor([0.9337])\n",
            "Step: 94,  Pearson: tensor([0.8735])\n",
            "Step: 95,  Pearson: tensor([0.9484])\n",
            "Step: 96,  Pearson: tensor([0.9649])\n",
            "Step: 97,  Pearson: tensor([0.9643])\n",
            "Step: 98,  Pearson: tensor([0.3907])\n",
            "Step: 99,  Pearson: tensor([0.8773])\n",
            "Step: 100,  Pearson: tensor([0.9460])\n",
            "Step: 101,  Pearson: tensor([0.8819])\n",
            "Step: 102,  Pearson: tensor([0.9823])\n",
            "Step: 103,  Pearson: tensor([0.8907])\n",
            "Step: 104,  Pearson: tensor([0.9275])\n",
            "Step: 105,  Pearson: tensor([0.7169])\n",
            "Step: 106,  Pearson: tensor([0.9452])\n",
            "Step: 107,  Pearson: tensor([0.9586])\n",
            "Step: 108,  Pearson: tensor([0.9569])\n",
            "Step: 109,  Pearson: tensor([0.8109])\n",
            "Step: 110,  Pearson: tensor([0.9299])\n",
            "Step: 111,  Pearson: tensor([0.8849])\n",
            "Step: 112,  Pearson: tensor([0.9930])\n",
            "Step: 113,  Pearson: tensor([0.9789])\n",
            "Step: 114,  Pearson: tensor([0.9428])\n",
            "Step: 115,  Pearson: tensor([0.8853])\n",
            "Step: 116,  Pearson: tensor([0.9114])\n",
            "Step: 117,  Pearson: tensor([0.9079])\n",
            "Step: 118,  Pearson: tensor([0.9903])\n",
            "Step: 119,  Pearson: tensor([0.9916])\n",
            "Step: 120,  Pearson: tensor([0.8788])\n",
            "Step: 121,  Pearson: tensor([0.9694])\n",
            "Step: 122,  Pearson: tensor([0.9612])\n",
            "Step: 123,  Pearson: tensor([0.9654])\n",
            "Step: 124,  Pearson: tensor([0.9275])\n",
            "Step: 125,  Pearson: tensor([0.9107])\n",
            "Step: 126,  Pearson: tensor([0.9917])\n",
            "Step: 127,  Pearson: tensor([0.9299])\n",
            "Step: 128,  Pearson: tensor([0.8908])\n",
            "Step: 129,  Pearson: tensor([0.9527])\n",
            "Step: 130,  Pearson: tensor([0.8911])\n",
            "Step: 131,  Pearson: tensor([0.9475])\n",
            "Step: 132,  Pearson: tensor([0.9611])\n",
            "Step: 133,  Pearson: tensor([0.9621])\n",
            "Step: 134,  Pearson: tensor([0.9675])\n",
            "Step: 135,  Pearson: tensor([0.9396])\n",
            "Step: 136,  Pearson: tensor([0.9526])\n",
            "Step: 137,  Pearson: tensor([0.9544])\n",
            "Step: 138,  Pearson: tensor([0.9614])\n",
            "Step: 139,  Pearson: tensor([0.9503])\n",
            "Step: 140,  Pearson: tensor([0.9675])\n",
            "Step: 141,  Pearson: tensor([0.9117])\n",
            "Step: 142,  Pearson: tensor([0.9333])\n",
            "Step: 143,  Pearson: tensor([0.9152])\n",
            "Step: 144,  Pearson: tensor([0.9471])\n",
            "Step: 145,  Pearson: tensor([0.8055])\n",
            "Step: 146,  Pearson: tensor([0.9325])\n",
            "Step: 147,  Pearson: tensor([0.6738])\n",
            "Step: 148,  Pearson: tensor([0.9216])\n",
            "Step: 149,  Pearson: tensor([0.9676])\n",
            "Step: 150,  Pearson: tensor([0.9384])\n",
            "Step: 151,  Pearson: tensor([0.9435])\n",
            "Step: 152,  Pearson: tensor([0.9838])\n",
            "Step: 153,  Pearson: tensor([0.9772])\n",
            "Step: 154,  Pearson: tensor([0.8859])\n",
            "Step: 155,  Pearson: tensor([0.9776])\n",
            "Step: 156,  Pearson: tensor([0.9753])\n",
            "Step: 157,  Pearson: tensor([0.7408])\n",
            "Step: 158,  Pearson: tensor([0.7922])\n",
            "Step: 159,  Pearson: tensor([0.9744])\n",
            "Step: 160,  Pearson: tensor([0.9657])\n",
            "Step: 161,  Pearson: tensor([0.9736])\n",
            "Step: 162,  Pearson: tensor([0.8489])\n",
            "Step: 163,  Pearson: tensor([0.9414])\n",
            "Step: 164,  Pearson: tensor([0.8685])\n",
            "Step: 165,  Pearson: tensor([0.9478])\n",
            "Step: 166,  Pearson: tensor([0.9044])\n",
            "Step: 167,  Pearson: tensor([0.9491])\n",
            "Step: 168,  Pearson: tensor([0.8912])\n",
            "Step: 169,  Pearson: tensor([0.9568])\n",
            "Step: 170,  Pearson: tensor([0.9531])\n",
            "Step: 171,  Pearson: tensor([0.9382])\n",
            "Step: 172,  Pearson: tensor([0.9799])\n",
            "Step: 173,  Pearson: tensor([0.7078])\n",
            "Step: 174,  Pearson: tensor([0.9216])\n",
            "Step: 175,  Pearson: tensor([0.9176])\n",
            "Step: 176,  Pearson: tensor([0.9531])\n",
            "Step: 177,  Pearson: tensor([0.8605])\n",
            "Step: 178,  Pearson: tensor([0.6060])\n",
            "Step: 179,  Pearson: tensor([0.8500])\n",
            "Step: 180,  Pearson: tensor([0.2098])\n",
            "Step: 181,  Pearson: tensor([0.9560])\n",
            "Step: 182,  Pearson: tensor([0.8975])\n",
            "Step: 183,  Pearson: tensor([0.9265])\n",
            "Step: 184,  Pearson: tensor([0.7794])\n",
            "Step: 185,  Pearson: tensor([0.9807])\n",
            "Step: 186,  Pearson: tensor([0.9814])\n",
            "Step: 187,  Pearson: tensor([0.9229])\n",
            "Step: 188,  Pearson: tensor([0.8773])\n",
            "Step: 189,  Pearson: tensor([0.5622])\n",
            "Step: 190,  Pearson: tensor([0.9238])\n",
            "Step: 191,  Pearson: tensor([0.8929])\n",
            "Step: 192,  Pearson: tensor([0.9172])\n",
            "Step: 193,  Pearson: tensor([0.9603])\n",
            "Step: 194,  Pearson: tensor([0.8145])\n",
            "Step: 195,  Pearson: tensor([0.9923])\n",
            "Step: 196,  Pearson: tensor([0.9579])\n",
            "Step: 197,  Pearson: tensor([0.9766])\n",
            "Step: 198,  Pearson: tensor([0.9550])\n",
            "Step: 199,  Pearson: tensor([0.8993])\n",
            "Step: 200,  Pearson: tensor([0.7950])\n",
            "Step: 201,  Pearson: tensor([0.9182])\n",
            "Step: 202,  Pearson: tensor([0.7224])\n",
            "Step: 203,  Pearson: tensor([0.9689])\n",
            "Step: 204,  Pearson: tensor([0.9551])\n",
            "Step: 205,  Pearson: tensor([0.9600])\n",
            "Step: 206,  Pearson: tensor([0.8967])\n",
            "Step: 207,  Pearson: tensor([0.9033])\n",
            "Step: 208,  Pearson: tensor([0.8840])\n",
            "Step: 209,  Pearson: tensor([0.9371])\n",
            "Step: 210,  Pearson: tensor([0.7202])\n",
            "Step: 211,  Pearson: tensor([0.8903])\n",
            "Step: 212,  Pearson: tensor([0.8899])\n",
            "Step: 213,  Pearson: tensor([0.9884])\n",
            "Step: 214,  Pearson: tensor([0.9634])\n",
            "Step: 215,  Pearson: tensor([0.9596])\n",
            "Step: 216,  Pearson: tensor([0.9650])\n",
            "Step: 217,  Pearson: tensor([nan])\n",
            "total_valid_loss :  0.5466655738792733 total_f1_score :  0.9009793253536453 total_pearsonr : tensor([0.9204])\n",
            "Epoch 0 Valid Loss : 0.5466655738792733 Valid Pearsonr : tensor([0.9204]) ValidF1 : 0.9009793253536453\n",
            "*****Epoch 0 Valid Finish*****\n",
            "\n",
            "****** STARTING TO TRAIN EPOCH #1 ******\n",
            "Step : 11, train Loss : 0.0103\n",
            "Step : 21, train Loss : 0.0136\n",
            "Step : 31, train Loss : 0.0118\n",
            "Step : 41, train Loss : 0.0113\n",
            "Step : 51, train Loss : 0.0141\n",
            "Step : 61, train Loss : 0.0099\n",
            "Step : 71, train Loss : 0.0107\n",
            "Step : 81, train Loss : 0.0113\n",
            "Step : 91, train Loss : 0.0114\n",
            "Step : 101, train Loss : 0.0118\n",
            "Step : 111, train Loss : 0.0128\n",
            "Step : 121, train Loss : 0.0107\n",
            "Step : 131, train Loss : 0.0146\n",
            "Step : 141, train Loss : 0.0114\n",
            "Step : 151, train Loss : 0.0129\n",
            "Step : 161, train Loss : 0.0115\n",
            "Step : 171, train Loss : 0.0125\n",
            "Step : 181, train Loss : 0.0146\n",
            "Step : 191, train Loss : 0.0098\n",
            "Step : 201, train Loss : 0.0117\n",
            "Step : 211, train Loss : 0.0119\n",
            "Step : 221, train Loss : 0.0115\n",
            "Step : 231, train Loss : 0.0113\n",
            "Step : 241, train Loss : 0.0133\n",
            "Step : 251, train Loss : 0.0123\n",
            "Step : 261, train Loss : 0.0105\n",
            "Step : 271, train Loss : 0.0116\n",
            "Step : 281, train Loss : 0.0133\n",
            "Step : 291, train Loss : 0.0126\n",
            "Step : 301, train Loss : 0.0123\n",
            "Step : 311, train Loss : 0.0122\n",
            "Step : 321, train Loss : 0.0120\n",
            "Step : 331, train Loss : 0.0118\n",
            "Step : 341, train Loss : 0.0110\n",
            "Step : 351, train Loss : 0.0124\n",
            "Step : 361, train Loss : 0.0118\n",
            "Step : 371, train Loss : 0.0114\n",
            "Step : 381, train Loss : 0.0126\n",
            "Step : 391, train Loss : 0.0120\n",
            "Step : 401, train Loss : 0.0129\n",
            "Step : 411, train Loss : 0.0126\n",
            "Step : 421, train Loss : 0.0114\n",
            "Step : 431, train Loss : 0.0125\n",
            "Step : 441, train Loss : 0.0104\n",
            "Step : 451, train Loss : 0.0117\n",
            "Step : 461, train Loss : 0.0108\n",
            "Step : 471, train Loss : 0.0119\n",
            "Step : 481, train Loss : 0.0146\n"
          ]
        },
        {
          "output_type": "stream",
          "name": "stderr",
          "text": [
            "\u001b[34m\u001b[1mwandb\u001b[0m: Ctrl + C detected. Stopping sweep.\n"
          ]
        }
      ]
    },
    {
      "cell_type": "code",
      "source": [
        "def predict(model, test_dataloader):\n",
        "    model.eval()\n",
        "    model.to(device)\n",
        "\n",
        "    all_prediction = []\n",
        "    all_reallabel = []\n",
        "\n",
        "    for step, batch in enumerate(test_dataloader):\n",
        "\n",
        "        batch = tuple(items.to(device) for items in batch)\n",
        "\n",
        "        (x_batch_one, x_batch_two, batch_y) = batch\n",
        "\n",
        "        with torch.no_grad():\n",
        "            logit = model(x_batch_one, x_batch_two)\n",
        "        logit = logit*5\n",
        "        logit = logit.cpu()\n",
        "        batch_y = batch_y.cpu()\n",
        "\n",
        "        all_prediction = all_prediction + logit.tolist()\n",
        "        all_reallabel = all_reallabel + batch_y.tolist()\n",
        "\n",
        "    pred = torch.Tensor(all_prediction) # x\n",
        "    real = torch.Tensor(all_reallabel) # y\n",
        "    \n",
        "    pearson = pearsonr(pred, real) #stats.spearmanr(pred, real)\n",
        "\n",
        "    #f1\n",
        "    fone = f1_process(pred, real)\n",
        "\n",
        "    return pearson, fone"
      ],
      "metadata": {
        "id": "Zm2cqRgwM96M"
      },
      "execution_count": null,
      "outputs": []
    },
    {
      "cell_type": "code",
      "source": [
        "ckpt1 = '/content/drive/MyDrive/CP2/checkpoints/sts_hyper.ckpt.0'\n",
        "ckpt2 = '/content/drive/MyDrive/CP2/checkpoints/sts_hyper.ckpt.1'\n",
        "ckpt3 = '/content/drive/MyDrive/CP2/checkpoints/sts_hyper.ckpt.2'\n",
        "ckpt4 = '/content/drive/MyDrive/CP2/checkpoints/sts_hyper.ckpt.3'"
      ],
      "metadata": {
        "id": "GCYvGb8VNYYN"
      },
      "execution_count": null,
      "outputs": []
    },
    {
      "cell_type": "code",
      "source": [
        "all_checkpoints = [ckpt1, ckpt2, ckpt3, ckpt4]\n",
        "\n",
        "for checkpoint in all_checkpoints:\n",
        "    loaded_ckpt = torch.load(checkpoint)\n",
        "    model, optimizer, scheduler = initializer(train_dataloader, 1)\n",
        "    model.load_state_dict(loaded_ckpt['model_state_dict'])\n",
        "    #model.load_state_dict(torch.load(checkpoint, map_location=device))\n",
        "    pearson_score, fonescore = predict(model, test_dataloader)\n",
        "    print(f'{checkpoint[44:]} pearsonr: {pearson_score}, f1_score: {fonescore}')"
      ],
      "metadata": {
        "colab": {
          "base_uri": "https://localhost:8080/",
          "height": 1000,
          "referenced_widgets": [
            "ecc489d46b3441e0a7b893d992e0b3ba",
            "b84fc3d00aa84da399b07feb4e2c0d4c",
            "c9b8536162b84c809a6a48ed0d348eb3",
            "18861520916b4206be943579abaacba6",
            "e2906b0091a04266afe8030548f53048",
            "5e4a47382acd41d7afaf99d95840ed6f",
            "3515d850bd84483a904c4c591b10aa6e",
            "86e728abcc7d4d3baaf08a649a2cc704",
            "ebe4ac22044845478388362ac85f9d43",
            "639e5d1ef658486b8a4b9cd37799608b",
            "2af213bfb20748ab9e6c77656bacbbd6",
            "0544990aef3c41d89bf0187f6ccbc720",
            "c312290a2fbb44d7be0c83af86ea55a9",
            "d1b45f50076f46b9ab68920f181cdd9d",
            "c442398a4b9d42c493f6b0c644368c1a",
            "738ceec5545b4b6bb4c305037d380a17",
            "8f4b42b2346a425ba2a19b96a5ff1204",
            "c1b87c14fe8a45449e991e615118cd7b",
            "9ea2cb04445f4585b513ab3ee9c82e5a",
            "434dab65c2b14522a22314e016493765",
            "d1f5cdf4c5ba46eba296301ea4358755",
            "4cc46db47a424ad986ceed56a75248d6",
            "228d2e7dc3ef4ff08a86718060870a0f",
            "cc51897e46d742e4b159a5a85a56b701"
          ]
        },
        "id": "k_mov2efNjxZ",
        "outputId": "edfda500-c296-40f7-e860-aa09c3b0f451"
      },
      "execution_count": null,
      "outputs": [
        {
          "output_type": "display_data",
          "data": {
            "text/plain": [
              "<IPython.core.display.HTML object>"
            ],
            "text/html": [
              "Changes to your `wandb` environment variables will be ignored because your `wandb` session has already started. For more information on how to modify your settings with `wandb.init()` arguments, please refer to <a href=\"https://wandb.me/wandb-init\" target=\"_blank\">the W&B docs</a>."
            ]
          },
          "metadata": {}
        },
        {
          "output_type": "display_data",
          "data": {
            "text/plain": [
              "<IPython.core.display.HTML object>"
            ],
            "text/html": [
              "Tracking run with wandb version 0.12.17"
            ]
          },
          "metadata": {}
        },
        {
          "output_type": "display_data",
          "data": {
            "text/plain": [
              "<IPython.core.display.HTML object>"
            ],
            "text/html": [
              "Run data is saved locally in <code>/content/wandb/run-20220531_082321-wca0vgig</code>"
            ]
          },
          "metadata": {}
        },
        {
          "output_type": "display_data",
          "data": {
            "text/plain": [
              "<IPython.core.display.HTML object>"
            ],
            "text/html": [
              "Syncing run <strong><a href=\"https://wandb.ai/iljf/sts_r2/runs/wca0vgig\" target=\"_blank\">volcanic-sweep-2</a></strong> to <a href=\"https://wandb.ai/iljf/sts_r2\" target=\"_blank\">Weights & Biases</a> (<a href=\"https://wandb.me/run\" target=\"_blank\">docs</a>)<br/>Sweep page:  <a href=\"https://wandb.ai/iljf/sts_r2/sweeps/yxxdtxql\" target=\"_blank\">https://wandb.ai/iljf/sts_r2/sweeps/yxxdtxql</a>"
            ]
          },
          "metadata": {}
        },
        {
          "output_type": "stream",
          "name": "stderr",
          "text": [
            "Some weights of the model checkpoint at klue/roberta-base were not used when initializing RobertaModel: ['lm_head.decoder.bias', 'lm_head.decoder.weight', 'lm_head.dense.bias', 'lm_head.layer_norm.bias', 'lm_head.dense.weight', 'lm_head.bias', 'lm_head.layer_norm.weight']\n",
            "- This IS expected if you are initializing RobertaModel from the checkpoint of a model trained on another task or with another architecture (e.g. initializing a BertForSequenceClassification model from a BertForPreTraining model).\n",
            "- This IS NOT expected if you are initializing RobertaModel from the checkpoint of a model that you expect to be exactly identical (initializing a BertForSequenceClassification model from a BertForSequenceClassification model).\n",
            "Some weights of RobertaModel were not initialized from the model checkpoint at klue/roberta-base and are newly initialized: ['roberta.pooler.dense.weight', 'roberta.pooler.dense.bias']\n",
            "You should probably TRAIN this model on a down-stream task to be able to use it for predictions and inference.\n"
          ]
        },
        {
          "output_type": "stream",
          "name": "stdout",
          "text": [
            "total step: 489\n",
            "yper.ckpt.0 pearsonr: tensor([0.8755]), f1_score: 0.8133595284872298\n"
          ]
        },
        {
          "output_type": "display_data",
          "data": {
            "text/plain": [
              "<IPython.core.display.HTML object>"
            ],
            "text/html": [
              "Changes to your `wandb` environment variables will be ignored because your `wandb` session has already started. For more information on how to modify your settings with `wandb.init()` arguments, please refer to <a href=\"https://wandb.me/wandb-init\" target=\"_blank\">the W&B docs</a>."
            ]
          },
          "metadata": {}
        },
        {
          "output_type": "display_data",
          "data": {
            "text/plain": [
              "<IPython.core.display.HTML object>"
            ],
            "text/html": [
              "Finishing last run (ID:wca0vgig) before initializing another..."
            ]
          },
          "metadata": {}
        },
        {
          "output_type": "display_data",
          "data": {
            "text/plain": [
              "<IPython.core.display.HTML object>"
            ],
            "text/html": [
              "Waiting for W&B process to finish... <strong style=\"color:green\">(success).</strong>"
            ]
          },
          "metadata": {}
        },
        {
          "output_type": "display_data",
          "data": {
            "text/plain": [
              "VBox(children=(Label(value='0.001 MB of 0.001 MB uploaded (0.000 MB deduped)\\r'), FloatProgress(value=1.0, max…"
            ],
            "application/vnd.jupyter.widget-view+json": {
              "version_major": 2,
              "version_minor": 0,
              "model_id": "ecc489d46b3441e0a7b893d992e0b3ba"
            }
          },
          "metadata": {}
        },
        {
          "output_type": "display_data",
          "data": {
            "text/plain": [
              "<IPython.core.display.HTML object>"
            ],
            "text/html": [
              "Synced <strong style=\"color:#cdcd00\">volcanic-sweep-2</strong>: <a href=\"https://wandb.ai/iljf/sts_r2/runs/wca0vgig\" target=\"_blank\">https://wandb.ai/iljf/sts_r2/runs/wca0vgig</a><br/>Synced 5 W&B file(s), 1 media file(s), 1 artifact file(s) and 0 other file(s)"
            ]
          },
          "metadata": {}
        },
        {
          "output_type": "display_data",
          "data": {
            "text/plain": [
              "<IPython.core.display.HTML object>"
            ],
            "text/html": [
              "Find logs at: <code>./wandb/run-20220531_082321-wca0vgig/logs</code>"
            ]
          },
          "metadata": {}
        },
        {
          "output_type": "display_data",
          "data": {
            "text/plain": [
              "<IPython.core.display.HTML object>"
            ],
            "text/html": [
              "Successfully finished last run (ID:wca0vgig). Initializing new run:<br/>"
            ]
          },
          "metadata": {}
        },
        {
          "output_type": "display_data",
          "data": {
            "text/plain": [
              "<IPython.core.display.HTML object>"
            ],
            "text/html": [
              "Tracking run with wandb version 0.12.17"
            ]
          },
          "metadata": {}
        },
        {
          "output_type": "display_data",
          "data": {
            "text/plain": [
              "<IPython.core.display.HTML object>"
            ],
            "text/html": [
              "Run data is saved locally in <code>/content/wandb/run-20220531_082335-wca0vgig</code>"
            ]
          },
          "metadata": {}
        },
        {
          "output_type": "display_data",
          "data": {
            "text/plain": [
              "<IPython.core.display.HTML object>"
            ],
            "text/html": [
              "Syncing run <strong><a href=\"https://wandb.ai/iljf/sts_r2/runs/wca0vgig\" target=\"_blank\">volcanic-sweep-2</a></strong> to <a href=\"https://wandb.ai/iljf/sts_r2\" target=\"_blank\">Weights & Biases</a> (<a href=\"https://wandb.me/run\" target=\"_blank\">docs</a>)<br/>Sweep page:  <a href=\"https://wandb.ai/iljf/sts_r2/sweeps/yxxdtxql\" target=\"_blank\">https://wandb.ai/iljf/sts_r2/sweeps/yxxdtxql</a>"
            ]
          },
          "metadata": {}
        },
        {
          "output_type": "stream",
          "name": "stderr",
          "text": [
            "Some weights of the model checkpoint at klue/roberta-base were not used when initializing RobertaModel: ['lm_head.decoder.bias', 'lm_head.decoder.weight', 'lm_head.dense.bias', 'lm_head.layer_norm.bias', 'lm_head.dense.weight', 'lm_head.bias', 'lm_head.layer_norm.weight']\n",
            "- This IS expected if you are initializing RobertaModel from the checkpoint of a model trained on another task or with another architecture (e.g. initializing a BertForSequenceClassification model from a BertForPreTraining model).\n",
            "- This IS NOT expected if you are initializing RobertaModel from the checkpoint of a model that you expect to be exactly identical (initializing a BertForSequenceClassification model from a BertForSequenceClassification model).\n",
            "Some weights of RobertaModel were not initialized from the model checkpoint at klue/roberta-base and are newly initialized: ['roberta.pooler.dense.weight', 'roberta.pooler.dense.bias']\n",
            "You should probably TRAIN this model on a down-stream task to be able to use it for predictions and inference.\n"
          ]
        },
        {
          "output_type": "stream",
          "name": "stdout",
          "text": [
            "total step: 489\n",
            "yper.ckpt.1 pearsonr: tensor([0.8734]), f1_score: 0.8267716535433072\n"
          ]
        },
        {
          "output_type": "display_data",
          "data": {
            "text/plain": [
              "<IPython.core.display.HTML object>"
            ],
            "text/html": [
              "Changes to your `wandb` environment variables will be ignored because your `wandb` session has already started. For more information on how to modify your settings with `wandb.init()` arguments, please refer to <a href=\"https://wandb.me/wandb-init\" target=\"_blank\">the W&B docs</a>."
            ]
          },
          "metadata": {}
        },
        {
          "output_type": "display_data",
          "data": {
            "text/plain": [
              "<IPython.core.display.HTML object>"
            ],
            "text/html": [
              "Finishing last run (ID:wca0vgig) before initializing another..."
            ]
          },
          "metadata": {}
        },
        {
          "output_type": "display_data",
          "data": {
            "text/plain": [
              "<IPython.core.display.HTML object>"
            ],
            "text/html": [
              "Waiting for W&B process to finish... <strong style=\"color:green\">(success).</strong>"
            ]
          },
          "metadata": {}
        },
        {
          "output_type": "display_data",
          "data": {
            "text/plain": [
              "VBox(children=(Label(value='0.001 MB of 0.001 MB uploaded (0.000 MB deduped)\\r'), FloatProgress(value=1.0, max…"
            ],
            "application/vnd.jupyter.widget-view+json": {
              "version_major": 2,
              "version_minor": 0,
              "model_id": "ebe4ac22044845478388362ac85f9d43"
            }
          },
          "metadata": {}
        },
        {
          "output_type": "display_data",
          "data": {
            "text/plain": [
              "<IPython.core.display.HTML object>"
            ],
            "text/html": [
              "Synced <strong style=\"color:#cdcd00\">volcanic-sweep-2</strong>: <a href=\"https://wandb.ai/iljf/sts_r2/runs/wca0vgig\" target=\"_blank\">https://wandb.ai/iljf/sts_r2/runs/wca0vgig</a><br/>Synced 5 W&B file(s), 1 media file(s), 0 artifact file(s) and 0 other file(s)"
            ]
          },
          "metadata": {}
        },
        {
          "output_type": "display_data",
          "data": {
            "text/plain": [
              "<IPython.core.display.HTML object>"
            ],
            "text/html": [
              "Find logs at: <code>./wandb/run-20220531_082335-wca0vgig/logs</code>"
            ]
          },
          "metadata": {}
        },
        {
          "output_type": "display_data",
          "data": {
            "text/plain": [
              "<IPython.core.display.HTML object>"
            ],
            "text/html": [
              "Successfully finished last run (ID:wca0vgig). Initializing new run:<br/>"
            ]
          },
          "metadata": {}
        },
        {
          "output_type": "display_data",
          "data": {
            "text/plain": [
              "<IPython.core.display.HTML object>"
            ],
            "text/html": [
              "Tracking run with wandb version 0.12.17"
            ]
          },
          "metadata": {}
        },
        {
          "output_type": "display_data",
          "data": {
            "text/plain": [
              "<IPython.core.display.HTML object>"
            ],
            "text/html": [
              "Run data is saved locally in <code>/content/wandb/run-20220531_082353-wca0vgig</code>"
            ]
          },
          "metadata": {}
        },
        {
          "output_type": "display_data",
          "data": {
            "text/plain": [
              "<IPython.core.display.HTML object>"
            ],
            "text/html": [
              "Syncing run <strong><a href=\"https://wandb.ai/iljf/sts_r2/runs/wca0vgig\" target=\"_blank\">volcanic-sweep-2</a></strong> to <a href=\"https://wandb.ai/iljf/sts_r2\" target=\"_blank\">Weights & Biases</a> (<a href=\"https://wandb.me/run\" target=\"_blank\">docs</a>)<br/>Sweep page:  <a href=\"https://wandb.ai/iljf/sts_r2/sweeps/yxxdtxql\" target=\"_blank\">https://wandb.ai/iljf/sts_r2/sweeps/yxxdtxql</a>"
            ]
          },
          "metadata": {}
        },
        {
          "output_type": "stream",
          "name": "stderr",
          "text": [
            "Some weights of the model checkpoint at klue/roberta-base were not used when initializing RobertaModel: ['lm_head.decoder.bias', 'lm_head.decoder.weight', 'lm_head.dense.bias', 'lm_head.layer_norm.bias', 'lm_head.dense.weight', 'lm_head.bias', 'lm_head.layer_norm.weight']\n",
            "- This IS expected if you are initializing RobertaModel from the checkpoint of a model trained on another task or with another architecture (e.g. initializing a BertForSequenceClassification model from a BertForPreTraining model).\n",
            "- This IS NOT expected if you are initializing RobertaModel from the checkpoint of a model that you expect to be exactly identical (initializing a BertForSequenceClassification model from a BertForSequenceClassification model).\n",
            "Some weights of RobertaModel were not initialized from the model checkpoint at klue/roberta-base and are newly initialized: ['roberta.pooler.dense.weight', 'roberta.pooler.dense.bias']\n",
            "You should probably TRAIN this model on a down-stream task to be able to use it for predictions and inference.\n"
          ]
        },
        {
          "output_type": "stream",
          "name": "stdout",
          "text": [
            "total step: 489\n",
            "yper.ckpt.2 pearsonr: tensor([0.8810]), f1_score: 0.8383233532934132\n"
          ]
        },
        {
          "output_type": "display_data",
          "data": {
            "text/plain": [
              "<IPython.core.display.HTML object>"
            ],
            "text/html": [
              "Changes to your `wandb` environment variables will be ignored because your `wandb` session has already started. For more information on how to modify your settings with `wandb.init()` arguments, please refer to <a href=\"https://wandb.me/wandb-init\" target=\"_blank\">the W&B docs</a>."
            ]
          },
          "metadata": {}
        },
        {
          "output_type": "display_data",
          "data": {
            "text/plain": [
              "<IPython.core.display.HTML object>"
            ],
            "text/html": [
              "Finishing last run (ID:wca0vgig) before initializing another..."
            ]
          },
          "metadata": {}
        },
        {
          "output_type": "display_data",
          "data": {
            "text/plain": [
              "<IPython.core.display.HTML object>"
            ],
            "text/html": [
              "Waiting for W&B process to finish... <strong style=\"color:green\">(success).</strong>"
            ]
          },
          "metadata": {}
        },
        {
          "output_type": "display_data",
          "data": {
            "text/plain": [
              "VBox(children=(Label(value='0.001 MB of 0.001 MB uploaded (0.000 MB deduped)\\r'), FloatProgress(value=1.0, max…"
            ],
            "application/vnd.jupyter.widget-view+json": {
              "version_major": 2,
              "version_minor": 0,
              "model_id": "8f4b42b2346a425ba2a19b96a5ff1204"
            }
          },
          "metadata": {}
        },
        {
          "output_type": "display_data",
          "data": {
            "text/plain": [
              "<IPython.core.display.HTML object>"
            ],
            "text/html": [
              "Synced <strong style=\"color:#cdcd00\">volcanic-sweep-2</strong>: <a href=\"https://wandb.ai/iljf/sts_r2/runs/wca0vgig\" target=\"_blank\">https://wandb.ai/iljf/sts_r2/runs/wca0vgig</a><br/>Synced 5 W&B file(s), 1 media file(s), 0 artifact file(s) and 0 other file(s)"
            ]
          },
          "metadata": {}
        },
        {
          "output_type": "display_data",
          "data": {
            "text/plain": [
              "<IPython.core.display.HTML object>"
            ],
            "text/html": [
              "Find logs at: <code>./wandb/run-20220531_082353-wca0vgig/logs</code>"
            ]
          },
          "metadata": {}
        },
        {
          "output_type": "display_data",
          "data": {
            "text/plain": [
              "<IPython.core.display.HTML object>"
            ],
            "text/html": [
              "Successfully finished last run (ID:wca0vgig). Initializing new run:<br/>"
            ]
          },
          "metadata": {}
        },
        {
          "output_type": "display_data",
          "data": {
            "text/plain": [
              "<IPython.core.display.HTML object>"
            ],
            "text/html": [
              "Tracking run with wandb version 0.12.17"
            ]
          },
          "metadata": {}
        },
        {
          "output_type": "display_data",
          "data": {
            "text/plain": [
              "<IPython.core.display.HTML object>"
            ],
            "text/html": [
              "Run data is saved locally in <code>/content/wandb/run-20220531_082411-wca0vgig</code>"
            ]
          },
          "metadata": {}
        },
        {
          "output_type": "display_data",
          "data": {
            "text/plain": [
              "<IPython.core.display.HTML object>"
            ],
            "text/html": [
              "Syncing run <strong><a href=\"https://wandb.ai/iljf/sts_r2/runs/wca0vgig\" target=\"_blank\">volcanic-sweep-2</a></strong> to <a href=\"https://wandb.ai/iljf/sts_r2\" target=\"_blank\">Weights & Biases</a> (<a href=\"https://wandb.me/run\" target=\"_blank\">docs</a>)<br/>Sweep page:  <a href=\"https://wandb.ai/iljf/sts_r2/sweeps/yxxdtxql\" target=\"_blank\">https://wandb.ai/iljf/sts_r2/sweeps/yxxdtxql</a>"
            ]
          },
          "metadata": {}
        },
        {
          "output_type": "stream",
          "name": "stderr",
          "text": [
            "Some weights of the model checkpoint at klue/roberta-base were not used when initializing RobertaModel: ['lm_head.decoder.bias', 'lm_head.decoder.weight', 'lm_head.dense.bias', 'lm_head.layer_norm.bias', 'lm_head.dense.weight', 'lm_head.bias', 'lm_head.layer_norm.weight']\n",
            "- This IS expected if you are initializing RobertaModel from the checkpoint of a model trained on another task or with another architecture (e.g. initializing a BertForSequenceClassification model from a BertForPreTraining model).\n",
            "- This IS NOT expected if you are initializing RobertaModel from the checkpoint of a model that you expect to be exactly identical (initializing a BertForSequenceClassification model from a BertForSequenceClassification model).\n",
            "Some weights of RobertaModel were not initialized from the model checkpoint at klue/roberta-base and are newly initialized: ['roberta.pooler.dense.weight', 'roberta.pooler.dense.bias']\n",
            "You should probably TRAIN this model on a down-stream task to be able to use it for predictions and inference.\n"
          ]
        },
        {
          "output_type": "stream",
          "name": "stdout",
          "text": [
            "total step: 489\n",
            "yper.ckpt.3 pearsonr: tensor([0.8825]), f1_score: 0.841046277665996\n"
          ]
        }
      ]
    }
  ]
}